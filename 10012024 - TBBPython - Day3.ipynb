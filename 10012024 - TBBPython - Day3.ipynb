{
 "cells": [
  {
   "cell_type": "code",
   "execution_count": 1,
   "id": "40ff5702",
   "metadata": {},
   "outputs": [
    {
     "name": "stdout",
     "output_type": "stream",
     "text": [
      "Hello Python Lovers\n"
     ]
    }
   ],
   "source": [
    "def myfunc(): #Definition\n",
    "    print(\"Hello Python Lovers\")\n",
    "myfunc() #Call"
   ]
  },
  {
   "cell_type": "code",
   "execution_count": 2,
   "id": "b911a480",
   "metadata": {},
   "outputs": [
    {
     "name": "stdout",
     "output_type": "stream",
     "text": [
      "Name :-  Kuzey\n",
      "User ID is :-  kuzey12345\n",
      "Country :-  Norway\n"
     ]
    }
   ],
   "source": [
    "def details(name, userid, country):\n",
    "    print('Name :- ', name)\n",
    "    print('User ID is :- ', userid)\n",
    "    print('Country :- ', country)\n",
    "\n",
    "details('Kuzey', 'kuzey12345', 'Norway')"
   ]
  },
  {
   "cell_type": "code",
   "execution_count": 3,
   "id": "7573ba98",
   "metadata": {},
   "outputs": [
    {
     "data": {
      "text/plain": [
       "100"
      ]
     },
     "execution_count": 3,
     "metadata": {},
     "output_type": "execute_result"
    }
   ],
   "source": [
    "def square(n):\n",
    "    n = n * n\n",
    "    return n\n",
    "\n",
    "square(10)"
   ]
  },
  {
   "cell_type": "code",
   "execution_count": 4,
   "id": "60545813",
   "metadata": {},
   "outputs": [
    {
     "data": {
      "text/plain": [
       "4"
      ]
     },
     "execution_count": 4,
     "metadata": {},
     "output_type": "execute_result"
    }
   ],
   "source": [
    "#Docstring\n",
    "def square(num):\n",
    "    '''Square Function : This function will return the square of a number'''\n",
    "    return num**2\n",
    "\n",
    "square(2)"
   ]
  },
  {
   "cell_type": "code",
   "execution_count": 5,
   "id": "839e86d7",
   "metadata": {},
   "outputs": [
    {
     "data": {
      "text/plain": [
       "'Square Function : This function will return the square of a number'"
      ]
     },
     "execution_count": 5,
     "metadata": {},
     "output_type": "execute_result"
    }
   ],
   "source": [
    "square.__doc__"
   ]
  },
  {
   "cell_type": "code",
   "execution_count": 6,
   "id": "1e971bc3",
   "metadata": {},
   "outputs": [
    {
     "name": "stdout",
     "output_type": "stream",
     "text": [
      "3 is an odd number\n",
      "4 is an even number\n",
      "This function will check whether a number is even or odd\n"
     ]
    }
   ],
   "source": [
    "def even_odd(num):\n",
    "    \"\"\"This function will check whether a number is even or odd\"\"\"\n",
    "    if num %2 == 0:\n",
    "        print(num, \"is an even number\")\n",
    "    else:\n",
    "        print(num, \"is an odd number\")\n",
    "        \n",
    "even_odd(3)\n",
    "even_odd(4)\n",
    "print(even_odd.__doc__)"
   ]
  },
  {
   "cell_type": "code",
   "execution_count": 7,
   "id": "86505b18",
   "metadata": {},
   "outputs": [
    {
     "name": "stdout",
     "output_type": "stream",
     "text": [
      "Kuzey Batı Güney\n"
     ]
    }
   ],
   "source": [
    "#String Birleştirme\n",
    "def fullname(firstname, middlename, lastname):\n",
    "    fullname = \"{} {} {}\".format(firstname, middlename, lastname)\n",
    "    print(fullname)\n",
    "    \n",
    "fullname('Kuzey', 'Batı', 'Güney') #positional argument"
   ]
  },
  {
   "cell_type": "code",
   "execution_count": 8,
   "id": "58940861",
   "metadata": {},
   "outputs": [
    {
     "name": "stdout",
     "output_type": "stream",
     "text": [
      "Kuzey Batı Güney\n"
     ]
    }
   ],
   "source": [
    "def fullname(firstname, middlename, lastname):\n",
    "    fullname = \"{} {} {}\".format(firstname, middlename, lastname)\n",
    "    print(fullname)\n",
    "    \n",
    "fullname(lastname = 'Güney', middlename = 'Batı', firstname = 'Kuzey') #keyword argument"
   ]
  },
  {
   "cell_type": "code",
   "execution_count": 9,
   "id": "6010f1b4",
   "metadata": {},
   "outputs": [
    {
     "ename": "TypeError",
     "evalue": "fullname() missing 2 required positional arguments: 'middlename' and 'lastname'",
     "output_type": "error",
     "traceback": [
      "\u001b[1;31m---------------------------------------------------------------------------\u001b[0m",
      "\u001b[1;31mTypeError\u001b[0m                                 Traceback (most recent call last)",
      "\u001b[1;32m<ipython-input-9-5894a4f19308>\u001b[0m in \u001b[0;36m<module>\u001b[1;34m\u001b[0m\n\u001b[1;32m----> 1\u001b[1;33m \u001b[0mfullname\u001b[0m\u001b[1;33m(\u001b[0m\u001b[1;34m'Güney'\u001b[0m\u001b[1;33m)\u001b[0m\u001b[1;33m\u001b[0m\u001b[1;33m\u001b[0m\u001b[0m\n\u001b[0m",
      "\u001b[1;31mTypeError\u001b[0m: fullname() missing 2 required positional arguments: 'middlename' and 'lastname'"
     ]
    }
   ],
   "source": [
    "fullname('Güney')"
   ]
  },
  {
   "cell_type": "code",
   "execution_count": 10,
   "id": "4062b5ca",
   "metadata": {},
   "outputs": [
    {
     "name": "stdout",
     "output_type": "stream",
     "text": [
      "100\n",
      "100\n"
     ]
    }
   ],
   "source": [
    "#Global scope\n",
    "var1 = 100\n",
    "\n",
    "def myfunc():\n",
    "    print(var1)\n",
    "    \n",
    "myfunc()\n",
    "print(var1)"
   ]
  },
  {
   "cell_type": "code",
   "execution_count": 11,
   "id": "e60ab0cd",
   "metadata": {},
   "outputs": [
    {
     "name": "stdout",
     "output_type": "stream",
     "text": [
      "10\n"
     ]
    },
    {
     "ename": "NameError",
     "evalue": "name 'var2' is not defined",
     "output_type": "error",
     "traceback": [
      "\u001b[1;31m---------------------------------------------------------------------------\u001b[0m",
      "\u001b[1;31mNameError\u001b[0m                                 Traceback (most recent call last)",
      "\u001b[1;32m<ipython-input-11-af329e9ac9fa>\u001b[0m in \u001b[0;36m<module>\u001b[1;34m\u001b[0m\n\u001b[0;32m      8\u001b[0m \u001b[1;33m\u001b[0m\u001b[0m\n\u001b[0;32m      9\u001b[0m \u001b[0mmyfunc1\u001b[0m\u001b[1;33m(\u001b[0m\u001b[1;33m)\u001b[0m\u001b[1;33m\u001b[0m\u001b[1;33m\u001b[0m\u001b[0m\n\u001b[1;32m---> 10\u001b[1;33m \u001b[0mmyfunc2\u001b[0m\u001b[1;33m(\u001b[0m\u001b[1;33m)\u001b[0m\u001b[1;33m\u001b[0m\u001b[1;33m\u001b[0m\u001b[0m\n\u001b[0m",
      "\u001b[1;32m<ipython-input-11-af329e9ac9fa>\u001b[0m in \u001b[0;36mmyfunc2\u001b[1;34m()\u001b[0m\n\u001b[0;32m      5\u001b[0m \u001b[1;33m\u001b[0m\u001b[0m\n\u001b[0;32m      6\u001b[0m \u001b[1;32mdef\u001b[0m \u001b[0mmyfunc2\u001b[0m\u001b[1;33m(\u001b[0m\u001b[1;33m)\u001b[0m\u001b[1;33m:\u001b[0m\u001b[1;33m\u001b[0m\u001b[1;33m\u001b[0m\u001b[0m\n\u001b[1;32m----> 7\u001b[1;33m     \u001b[0mprint\u001b[0m\u001b[1;33m(\u001b[0m\u001b[0mvar2\u001b[0m\u001b[1;33m)\u001b[0m\u001b[1;33m\u001b[0m\u001b[1;33m\u001b[0m\u001b[0m\n\u001b[0m\u001b[0;32m      8\u001b[0m \u001b[1;33m\u001b[0m\u001b[0m\n\u001b[0;32m      9\u001b[0m \u001b[0mmyfunc1\u001b[0m\u001b[1;33m(\u001b[0m\u001b[1;33m)\u001b[0m\u001b[1;33m\u001b[0m\u001b[1;33m\u001b[0m\u001b[0m\n",
      "\u001b[1;31mNameError\u001b[0m: name 'var2' is not defined"
     ]
    }
   ],
   "source": [
    "#Local scope\n",
    "def myfunc1():\n",
    "    var2 = 10\n",
    "    print(var2)\n",
    "    \n",
    "def myfunc2():\n",
    "    print(var2)\n",
    "    \n",
    "myfunc1()\n",
    "myfunc2()"
   ]
  },
  {
   "cell_type": "code",
   "execution_count": 12,
   "id": "d4f8fd0b",
   "metadata": {},
   "outputs": [
    {
     "name": "stdout",
     "output_type": "stream",
     "text": [
      "99\n",
      "100\n"
     ]
    }
   ],
   "source": [
    "var1 = 100\n",
    "\n",
    "def myfunc():\n",
    "    var1 = 99\n",
    "    print(var1)\n",
    "    \n",
    "myfunc()\n",
    "print(var1)"
   ]
  },
  {
   "cell_type": "code",
   "execution_count": 13,
   "id": "474d09d9",
   "metadata": {},
   "outputs": [
    {
     "name": "stdout",
     "output_type": "stream",
     "text": [
      "\"List1\" before calling the function :-  [11, 22, 33, 44, 55]\n",
      "\"List1\" after calling the function :-  [22, 33, 44, 55]\n"
     ]
    }
   ],
   "source": [
    "#Fonksiyonlara argüman geçirme\n",
    "list1 = [11, 22, 33, 44, 55]\n",
    "\n",
    "def myfunc(list1):\n",
    "    del list1[0]\n",
    "    \n",
    "print('\"List1\" before calling the function :- ', list1)\n",
    "myfunc(list1)\n",
    "print('\"List1\" after calling the function :- ', list1)"
   ]
  },
  {
   "cell_type": "code",
   "execution_count": 14,
   "id": "afc7deb7",
   "metadata": {},
   "outputs": [
    {
     "name": "stdout",
     "output_type": "stream",
     "text": [
      "\"List1\" before calling the function :-  [11, 22, 33, 44, 55]\n",
      "\"List1\" after calling the function :-  [11, 22, 33, 44, 55, 100]\n"
     ]
    }
   ],
   "source": [
    "#Pass by reference\n",
    "list1 = [11, 22, 33, 44, 55]\n",
    "\n",
    "def myfunc(list1):\n",
    "    list1.append(100)\n",
    "    \n",
    "print('\"List1\" before calling the function :- ', list1)\n",
    "myfunc(list1)\n",
    "print('\"List1\" after calling the function :- ', list1)"
   ]
  },
  {
   "cell_type": "code",
   "execution_count": 15,
   "id": "df8ed1fe",
   "metadata": {},
   "outputs": [
    {
     "name": "stdout",
     "output_type": "stream",
     "text": [
      "\"List1\" before calling the function :-  [11, 22, 33, 44, 55]\n",
      "\"List1\" after calling the function :-  [11, 22, 33, 44, 55]\n"
     ]
    }
   ],
   "source": [
    "list1 = [11, 22, 33, 44, 55]\n",
    "\n",
    "def myfunc(list1):\n",
    "    list1 = [10, 100, 1000, 10000]\n",
    "    \n",
    "print('\"List1\" before calling the function :- ', list1)\n",
    "myfunc(list1)\n",
    "print('\"List1\" after calling the function :- ', list1)"
   ]
  },
  {
   "cell_type": "code",
   "execution_count": 16,
   "id": "5b27cc11",
   "metadata": {},
   "outputs": [
    {
     "data": {
      "text/plain": [
       "'\\ndef myfunc(positional arguments, *args (tuple), named arguments, **kwargs (dictionary))\\ndef myfunc(120, 160, 50, b = 10, c = 20, a = 3\\n'"
      ]
     },
     "execution_count": 16,
     "metadata": {},
     "output_type": "execute_result"
    }
   ],
   "source": [
    "\"\"\"\n",
    "def myfunc(positional arguments, *args (tuple), named (keyword) arguments, **kwargs (dictionary))\n",
    "def myfunc(120, 160, 50, b = 10, c = 20, a = 3)\n",
    "\"\"\""
   ]
  },
  {
   "cell_type": "code",
   "execution_count": 19,
   "id": "f92c441e",
   "metadata": {},
   "outputs": [
    {
     "data": {
      "text/plain": [
       "60"
      ]
     },
     "execution_count": 19,
     "metadata": {},
     "output_type": "execute_result"
    }
   ],
   "source": [
    "def add(a,b,c):\n",
    "    return a + b + c\n",
    "\n",
    "add(10,20,30)"
   ]
  },
  {
   "cell_type": "code",
   "execution_count": 20,
   "id": "a2cbcff6",
   "metadata": {},
   "outputs": [
    {
     "ename": "TypeError",
     "evalue": "add() takes 3 positional arguments but 4 were given",
     "output_type": "error",
     "traceback": [
      "\u001b[1;31m---------------------------------------------------------------------------\u001b[0m",
      "\u001b[1;31mTypeError\u001b[0m                                 Traceback (most recent call last)",
      "\u001b[1;32m<ipython-input-20-cd4c5f185a9e>\u001b[0m in \u001b[0;36m<module>\u001b[1;34m\u001b[0m\n\u001b[1;32m----> 1\u001b[1;33m \u001b[0madd\u001b[0m\u001b[1;33m(\u001b[0m\u001b[1;36m1\u001b[0m\u001b[1;33m,\u001b[0m\u001b[1;36m2\u001b[0m\u001b[1;33m,\u001b[0m\u001b[1;36m3\u001b[0m\u001b[1;33m,\u001b[0m\u001b[1;36m4\u001b[0m\u001b[1;33m)\u001b[0m\u001b[1;33m\u001b[0m\u001b[1;33m\u001b[0m\u001b[0m\n\u001b[0m",
      "\u001b[1;31mTypeError\u001b[0m: add() takes 3 positional arguments but 4 were given"
     ]
    }
   ],
   "source": [
    "add(1,2,3,4)"
   ]
  },
  {
   "cell_type": "code",
   "execution_count": 21,
   "id": "40d8aa3d",
   "metadata": {},
   "outputs": [
    {
     "name": "stdout",
     "output_type": "stream",
     "text": [
      "arg_1:  1\n",
      "arg_2:  2\n",
      "arg_3:  3\n"
     ]
    }
   ],
   "source": [
    "def some_args(arg_1, arg_2, arg_3):\n",
    "    print(\"arg_1: \", arg_1)\n",
    "    print(\"arg_2: \", arg_2)\n",
    "    print(\"arg_3: \", arg_3)\n",
    "    \n",
    "my_list = [2, 3]\n",
    "some_args(1, *my_list)"
   ]
  },
  {
   "cell_type": "code",
   "execution_count": 24,
   "id": "a458f4f5",
   "metadata": {},
   "outputs": [
    {
     "name": "stdout",
     "output_type": "stream",
     "text": [
      "6\n",
      "10\n",
      "15\n",
      "21\n",
      "28\n"
     ]
    }
   ],
   "source": [
    "def add1(*args): #*args argüman listesini dinamik olarak alabiliyor\n",
    "    return sum(args)\n",
    "\n",
    "print(add1(1,2,3))\n",
    "print(add1(1,2,3,4))\n",
    "print(add1(1,2,3,4,5))\n",
    "print(add1(1,2,3,4,5,6))\n",
    "print(add1(1,2,3,4,5,6,7))"
   ]
  },
  {
   "cell_type": "code",
   "execution_count": 25,
   "id": "f2c5f80a",
   "metadata": {},
   "outputs": [
    {
     "data": {
      "text/plain": [
       "(28, 28)"
      ]
     },
     "execution_count": 25,
     "metadata": {},
     "output_type": "execute_result"
    }
   ],
   "source": [
    "list1 = [1,2,3,4,5,6,7]\n",
    "tuple1 = (1,2,3,4,5,6,7)\n",
    "\n",
    "add1(*list1), add1(*tuple1)"
   ]
  },
  {
   "cell_type": "code",
   "execution_count": 26,
   "id": "5ef333ce",
   "metadata": {},
   "outputs": [
    {
     "data": {
      "text/plain": [
       "112"
      ]
     },
     "execution_count": 26,
     "metadata": {},
     "output_type": "execute_result"
    }
   ],
   "source": [
    "list1 = [1,2,3,4,5,6,7]\n",
    "list2 = [1,2,3,4,5,6,7]\n",
    "list3 = [1,2,3,4,5,6,7]\n",
    "list4 = [1,2,3,4,5,6,7]\n",
    "\n",
    "add1(*list1, *list2, *list3, *list4)"
   ]
  },
  {
   "cell_type": "code",
   "execution_count": 27,
   "id": "ecd51e2c",
   "metadata": {},
   "outputs": [
    {
     "name": "stdout",
     "output_type": "stream",
     "text": [
      "('Doğu', 7412, 41102, 33, 'Turkiye', 'Turkish')\n"
     ]
    }
   ],
   "source": [
    "def UserDetails(*args):\n",
    "    print(args)\n",
    "    \n",
    "UserDetails('Doğu', 7412, 41102, 33, 'Turkiye', 'Turkish')"
   ]
  },
  {
   "cell_type": "code",
   "execution_count": 28,
   "id": "07a99fcd",
   "metadata": {},
   "outputs": [
    {
     "name": "stdout",
     "output_type": "stream",
     "text": [
      "{'Name': 'Doğu', 'ID': 7412, 'Pincode': 41102, 'Age': 33, 'Country': 'Turkiye', 'Language': 'Turkish'}\n"
     ]
    }
   ],
   "source": [
    "def UserDetails(**kwargs):\n",
    "    print(kwargs)\n",
    "    \n",
    "UserDetails(Name = 'Doğu', ID = 7412, Pincode = 41102, Age = 33, Country = 'Turkiye', Language = 'Turkish')"
   ]
  },
  {
   "cell_type": "code",
   "execution_count": 29,
   "id": "21d37230",
   "metadata": {},
   "outputs": [
    {
     "name": "stdout",
     "output_type": "stream",
     "text": [
      "Name :- Doğu\n",
      "ID :- 7412\n",
      "Pincode :- 41102\n",
      "Age :- 33\n",
      "Country :- Turkiye\n",
      "Language :- Turkish\n"
     ]
    }
   ],
   "source": [
    "def UserDetails(**kwargs):\n",
    "    for key, val in kwargs.items():\n",
    "        print(\"{} :- {}\".format(key, val))\n",
    "        \n",
    "UserDetails(Name = 'Doğu', ID = 7412, Pincode = 41102, Age = 33, Country = 'Turkiye', Language = 'Turkish')"
   ]
  },
  {
   "cell_type": "code",
   "execution_count": 30,
   "id": "b728a888",
   "metadata": {},
   "outputs": [
    {
     "name": "stdout",
     "output_type": "stream",
     "text": [
      "Name :- Doğu\n",
      "ID :- 7412\n",
      "Pincode :- 41102\n",
      "Age :- 33\n",
      "Country :- Turkiye\n",
      "Language :- Turkish\n"
     ]
    }
   ],
   "source": [
    "mydict = {'Name': 'Doğu', 'ID': 7412, 'Pincode': 41102, 'Age': 33, 'Country': 'Turkiye', 'Language': 'Turkish'}\n",
    "\n",
    "UserDetails(**mydict)"
   ]
  },
  {
   "cell_type": "code",
   "execution_count": 32,
   "id": "cd6e4d94",
   "metadata": {},
   "outputs": [
    {
     "name": "stdout",
     "output_type": "stream",
     "text": [
      "License No :-  TR145\n",
      "Full Name :-  Kuzey Batı Güney\n",
      "Phone Number :-  1234567890\n",
      "Name :- Doğu\n",
      "ID :- 7412\n",
      "Pincode :- 41102\n",
      "Age :- 33\n",
      "Country :- Turkiye\n",
      "Language :- Turkish\n"
     ]
    }
   ],
   "source": [
    "def UserDetails(licenceNo, *args, phoneNo = 0, **kwargs):\n",
    "    print('License No :- ', licenceNo)\n",
    "    j = ''\n",
    "    for i in args:\n",
    "        j = j + i\n",
    "    print('Full Name :- ', j)\n",
    "    print('Phone Number :- ', phoneNo)\n",
    "    for key, val in kwargs.items():\n",
    "        print(\"{} :- {}\".format(key, val))\n",
    "        \n",
    "name = ['Kuzey', ' ', 'Batı', ' ', 'Güney']\n",
    "mydict = {'Name': 'Doğu', 'ID': 7412, 'Pincode': 41102, 'Age': 33, 'Country': 'Turkiye', 'Language': 'Turkish'}\n",
    "  \n",
    "UserDetails('TR145', *name, phoneNo = 1234567890, **mydict)"
   ]
  },
  {
   "cell_type": "code",
   "execution_count": 33,
   "id": "ff9c3f0f",
   "metadata": {},
   "outputs": [],
   "source": [
    "#default parameter "
   ]
  },
  {
   "cell_type": "code",
   "execution_count": 34,
   "id": "e1ba6e11",
   "metadata": {},
   "outputs": [
    {
     "name": "stdout",
     "output_type": "stream",
     "text": [
      "Name :-  Tasmanian Devil\n",
      "Age :-  19\n",
      "Name :-  Bugs Bunny\n",
      "Age :-  23\n"
     ]
    }
   ],
   "source": [
    "def printinfo(name, age = 23):\n",
    "    print('Name :- ', name)\n",
    "    print('Age :- ', age)\n",
    "    \n",
    "printinfo(age = 19, name = 'Tasmanian Devil')\n",
    "printinfo(name = 'Bugs Bunny')"
   ]
  },
  {
   "cell_type": "code",
   "execution_count": 35,
   "id": "ca75e46e",
   "metadata": {},
   "outputs": [
    {
     "name": "stdout",
     "output_type": "stream",
     "text": [
      "['C:\\\\Users\\\\ITU', 'C:\\\\Users\\\\ITU\\\\anaconda3\\\\python38.zip', 'C:\\\\Users\\\\ITU\\\\anaconda3\\\\DLLs', 'C:\\\\Users\\\\ITU\\\\anaconda3\\\\lib', 'C:\\\\Users\\\\ITU\\\\anaconda3', '', 'C:\\\\Users\\\\ITU\\\\anaconda3\\\\lib\\\\site-packages', 'C:\\\\Users\\\\ITU\\\\anaconda3\\\\lib\\\\site-packages\\\\locket-0.2.1-py3.8.egg', 'C:\\\\Users\\\\ITU\\\\anaconda3\\\\lib\\\\site-packages\\\\win32', 'C:\\\\Users\\\\ITU\\\\anaconda3\\\\lib\\\\site-packages\\\\win32\\\\lib', 'C:\\\\Users\\\\ITU\\\\anaconda3\\\\lib\\\\site-packages\\\\Pythonwin', 'C:\\\\Users\\\\ITU\\\\anaconda3\\\\lib\\\\site-packages\\\\IPython\\\\extensions', 'C:\\\\Users\\\\ITU\\\\.ipython']\n"
     ]
    }
   ],
   "source": [
    "import sys\n",
    "print(sys.path)"
   ]
  },
  {
   "cell_type": "code",
   "execution_count": 36,
   "id": "099f89e1",
   "metadata": {},
   "outputs": [
    {
     "name": "stdout",
     "output_type": "stream",
     "text": [
      "3.141592653589793\n"
     ]
    }
   ],
   "source": [
    "from math import pi\n",
    "print(pi)"
   ]
  },
  {
   "cell_type": "code",
   "execution_count": 38,
   "id": "4884f73c",
   "metadata": {},
   "outputs": [
    {
     "name": "stdout",
     "output_type": "stream",
     "text": [
      "706.8583470577034\n"
     ]
    }
   ],
   "source": [
    "import math\n",
    "def area_of_circle(r):\n",
    "    area = r**2 * math.pi\n",
    "    return area\n",
    "\n",
    "print(area_of_circle(15))"
   ]
  },
  {
   "cell_type": "code",
   "execution_count": 39,
   "id": "daef9bf3",
   "metadata": {},
   "outputs": [],
   "source": [
    "#Lambda, Map, Filter, Reduce (Anonymous Functions)"
   ]
  },
  {
   "cell_type": "code",
   "execution_count": 40,
   "id": "aa6dfe5f",
   "metadata": {},
   "outputs": [],
   "source": [
    "#lambda num1, num2 (arguments) : num1 + num2 (statement)"
   ]
  },
  {
   "cell_type": "code",
   "execution_count": 41,
   "id": "ceaaaa88",
   "metadata": {},
   "outputs": [
    {
     "name": "stdout",
     "output_type": "stream",
     "text": [
      "15\n"
     ]
    }
   ],
   "source": [
    "addition = lambda a : a + 10\n",
    "print(addition(5))"
   ]
  },
  {
   "cell_type": "code",
   "execution_count": 42,
   "id": "19a2cb1a",
   "metadata": {},
   "outputs": [
    {
     "name": "stdout",
     "output_type": "stream",
     "text": [
      "30\n"
     ]
    }
   ],
   "source": [
    "product = lambda a, b : a * b\n",
    "print(product(5, 6))"
   ]
  },
  {
   "cell_type": "code",
   "execution_count": 43,
   "id": "ef11648d",
   "metadata": {},
   "outputs": [
    {
     "name": "stdout",
     "output_type": "stream",
     "text": [
      "13\n"
     ]
    }
   ],
   "source": [
    "addition = lambda a, b, c : a + b + c\n",
    "print(addition(5, 6, 2))"
   ]
  },
  {
   "cell_type": "code",
   "execution_count": 44,
   "id": "1adb7319",
   "metadata": {},
   "outputs": [
    {
     "data": {
      "text/plain": [
       "(30, 100, 280)"
      ]
     },
     "execution_count": 44,
     "metadata": {},
     "output_type": "execute_result"
    }
   ],
   "source": [
    "result = (lambda *args : sum(args))\n",
    "result(10, 20), result(10, 20, 30, 40), result(10,20,30,40,50,60,70)"
   ]
  },
  {
   "cell_type": "code",
   "execution_count": 45,
   "id": "728ba786",
   "metadata": {},
   "outputs": [
    {
     "data": {
      "text/plain": [
       "(60, 150)"
      ]
     },
     "execution_count": 45,
     "metadata": {},
     "output_type": "execute_result"
    }
   ],
   "source": [
    "result1 = (lambda **kwargs : sum(kwargs.values()))\n",
    "result1(a = 10, b = 20, c = 30), result1(a = 10, b = 20, c = 30, d = 40, e = 50)"
   ]
  },
  {
   "cell_type": "code",
   "execution_count": 46,
   "id": "c802a92a",
   "metadata": {},
   "outputs": [
    {
     "data": {
      "text/plain": [
       "(6000, 12000000)"
      ]
     },
     "execution_count": 46,
     "metadata": {},
     "output_type": "execute_result"
    }
   ],
   "source": [
    "def product(nums): #user-defined func. ile anonim fonksiyon kullanımı\n",
    "    total = 1\n",
    "    for i in nums:\n",
    "        total *= i #total = total * i\n",
    "    return total\n",
    "\n",
    "result1 = (lambda **kwargs : product(kwargs.values()))\n",
    "result1(a = 10, b = 20, c = 30), result1(a = 10, b = 20, c = 30, d = 40, e = 50)"
   ]
  },
  {
   "cell_type": "code",
   "execution_count": 47,
   "id": "24c2f53c",
   "metadata": {},
   "outputs": [],
   "source": [
    "#filter -> filter(function, iterable (list, tuple vb.))"
   ]
  },
  {
   "cell_type": "code",
   "execution_count": 48,
   "id": "b9878afe",
   "metadata": {},
   "outputs": [
    {
     "data": {
      "text/plain": [
       "[1, 3, 5, 7, 9]"
      ]
     },
     "execution_count": 48,
     "metadata": {},
     "output_type": "execute_result"
    }
   ],
   "source": [
    "list1 = [1,2,3,4,5,6,7,8,9]\n",
    "\n",
    "def odd(n):\n",
    "    if n % 2 == 1:\n",
    "        return True\n",
    "    else:\n",
    "        return False\n",
    "    \n",
    "odd_num = list(filter(odd, list1))\n",
    "odd_num"
   ]
  },
  {
   "cell_type": "code",
   "execution_count": 49,
   "id": "ed74670a",
   "metadata": {},
   "outputs": [
    {
     "data": {
      "text/plain": [
       "[1, 3, 5, 7, 9]"
      ]
     },
     "execution_count": 49,
     "metadata": {},
     "output_type": "execute_result"
    }
   ],
   "source": [
    "list1 = [1,2,3,4,5,6,7,8,9]\n",
    "   \n",
    "odd_num = list(filter(lambda n : n%2 == 1, list1))\n",
    "odd_num"
   ]
  },
  {
   "cell_type": "code",
   "execution_count": 50,
   "id": "536d06f8",
   "metadata": {},
   "outputs": [],
   "source": [
    "#map -> map(function, iterable (list, tuple vb.))"
   ]
  },
  {
   "cell_type": "code",
   "execution_count": 51,
   "id": "703b23f3",
   "metadata": {},
   "outputs": [
    {
     "data": {
      "text/plain": [
       "[2, 6, 10, 14, 18]"
      ]
     },
     "execution_count": 51,
     "metadata": {},
     "output_type": "execute_result"
    }
   ],
   "source": [
    "def twice(n):\n",
    "    return n*2\n",
    "\n",
    "doubles = list(map(twice, odd_num))\n",
    "doubles"
   ]
  },
  {
   "cell_type": "code",
   "execution_count": 52,
   "id": "61a5310c",
   "metadata": {},
   "outputs": [
    {
     "data": {
      "text/plain": [
       "[2, 6, 10, 14, 18]"
      ]
     },
     "execution_count": 52,
     "metadata": {},
     "output_type": "execute_result"
    }
   ],
   "source": [
    "doubles = list(map(lambda n : n*2, odd_num))\n",
    "doubles"
   ]
  },
  {
   "cell_type": "code",
   "execution_count": 53,
   "id": "47c7b8d4",
   "metadata": {},
   "outputs": [],
   "source": [
    "#reduce -> reduce(function, iterable (list, tuple vb.))\n",
    "from functools import reduce"
   ]
  },
  {
   "cell_type": "code",
   "execution_count": 55,
   "id": "e8d288b7",
   "metadata": {},
   "outputs": [
    {
     "data": {
      "text/plain": [
       "50"
      ]
     },
     "execution_count": 55,
     "metadata": {},
     "output_type": "execute_result"
    }
   ],
   "source": [
    "def add(a, b):\n",
    "    return a + b\n",
    "\n",
    "sum_all = reduce(add, doubles)\n",
    "sum_all"
   ]
  },
  {
   "cell_type": "code",
   "execution_count": 56,
   "id": "ef09c6de",
   "metadata": {},
   "outputs": [
    {
     "data": {
      "text/plain": [
       "50"
      ]
     },
     "execution_count": 56,
     "metadata": {},
     "output_type": "execute_result"
    }
   ],
   "source": [
    "sum_all = reduce(lambda a, b : a + b, doubles)\n",
    "sum_all"
   ]
  },
  {
   "cell_type": "code",
   "execution_count": 57,
   "id": "e319030e",
   "metadata": {},
   "outputs": [
    {
     "data": {
      "text/plain": [
       "50"
      ]
     },
     "execution_count": 57,
     "metadata": {},
     "output_type": "execute_result"
    }
   ],
   "source": [
    "sum_all = reduce(lambda a, b : a + b, list(map(lambda n : n*2, list(filter(lambda n : n%2 == 1, list1)))))\n",
    "sum_all"
   ]
  },
  {
   "cell_type": "code",
   "execution_count": 58,
   "id": "c13e936b",
   "metadata": {},
   "outputs": [],
   "source": [
    "import operator"
   ]
  },
  {
   "cell_type": "code",
   "execution_count": 60,
   "id": "1f70c8f0",
   "metadata": {},
   "outputs": [
    {
     "name": "stdout",
     "output_type": "stream",
     "text": [
      "24\n",
      "10\n",
      "Python Rocks\n",
      "Hello Hello Hello \n",
      "1\n",
      "4\n"
     ]
    }
   ],
   "source": [
    "list2 = [1,2,3,4]\n",
    "\n",
    "product = reduce(operator.mul, list2)\n",
    "\n",
    "add = reduce(operator.add, list2)\n",
    "\n",
    "concat_str = reduce(operator.add, ['Python', ' ', 'Rocks'])\n",
    "\n",
    "prod = reduce(operator.mul, ['Hello ', 3])\n",
    "\n",
    "min_num = reduce(lambda a, b : a if a < b else b, list2)\n",
    "\n",
    "max_num = reduce(lambda a, b : a if a > b else b, list2)\n",
    "\n",
    "print(product)\n",
    "print(add)\n",
    "print(concat_str)\n",
    "print(prod)\n",
    "print(min_num)\n",
    "print(max_num)"
   ]
  },
  {
   "cell_type": "code",
   "execution_count": 62,
   "id": "3aaec1ee",
   "metadata": {},
   "outputs": [
    {
     "name": "stdout",
     "output_type": "stream",
     "text": [
      "False\n",
      "True\n",
      "False\n",
      "--------\n",
      "False\n",
      "True\n",
      "True\n"
     ]
    }
   ],
   "source": [
    "print(reduce(lambda a, b : bool(a and b), [0, 0, 1, 0, 0])) #False\n",
    "print(reduce(lambda a, b : bool(a and b), [2, 3, 1, 5, 6])) #True\n",
    "print(reduce(lambda a, b : bool(a and b), [8, 9, 1, 0, 9])) #False\n",
    "\n",
    "print('--------')\n",
    "\n",
    "print(reduce(lambda a, b : bool(a or b), [0, 0, 0, 0, 0])) #False\n",
    "print(reduce(lambda a, b : bool(a or b), [2, 3, 1, 5, 6])) #True\n",
    "print(reduce(lambda a, b : bool(a or b), [8, 9, 1, 0, 9])) #True"
   ]
  },
  {
   "cell_type": "code",
   "execution_count": 80,
   "id": "e05ffd86",
   "metadata": {},
   "outputs": [
    {
     "data": {
      "text/plain": [
       "87144248962317235332364169948550663995016494380614040643120460547086575978025113094005316813387253233918824761027823220193224411432506537861735630651739690844548019945712582743187890959533721195699182388458112319494020147228190998982521848222673662664415758220775430433633181034644940993940309924604620609902456032697423471842607702869889993931638206179934969400770095329575996340043050371531159588486440971355105337304697713575811607464179879393200424609541219249792688017198741787411895332690770795383061042054819932275395875405966389713910757529276314956708640058616750861299719225853231172377711344581605022107094346459639472229615399844420206930411441926683319643201494331561630793925505144948138965107042859934331312497135695163558053143484019469163773928148062796900762803468576155140846093304215833940256882313656130255935841986124053880273129010591807353576256072040173411600200156317864729426654076862530283556842950559771181497121859669481388756581902669873576925704853988815689008629214592266755309457298182614531396381697582671137306843013261900760019964494514455622366948394012157861913526910279929227114028389607761493678097685462315090776607713186695899388908807530473365169896763332416928788910566623192953380995489015252555688747229967570075257124148089981412338439103014824866115851078608141404411928236488742026382712282520254324215957687520820919350400479553531931667795509970266683070165575559976938096522789808161498962849889240219972359090360249190804176751581790233417038442583167785643752362146477888967346265832924825935280469297459611870569361765843847290444111864144303029098238954101659600389643798996932330241538967656656702753787420566825004087017825228772600985214558499256125100950694259019159017791195218426874503459702469299590864658119839753677543377484462317338993831355286915196091931348626642189442822100830974265539643571684309367990788565725478085835713256335711046105063186160586884047374924876793711453451498752981857801072684627064787718859626210820444254588084049291027402994449318170317262256693451131586901294124492622920994905608684037971943515221057868961606928260045849077362335426076618265679644419259984626425266222662572306420673724612511283233331746672430990637081325591212188480074398815071564203054900704583608367821098639642520325875258979020104192617102685700524007567195101555742030241331185742847372800690739735982832480007465327007688856088895540895957029861240077641396006951600952345755149706287866852312409192640436676622911081664421299730494546788189812643918935435390948805246858002303084845508186591642165079880727898087475421918183228754363536770718523044943906220149274075958934769651113019018739260924468019113902262074879161559765816263630784345554321501203820058876903161279092620614511699002485919345477277353704876705593037365380980371178139659512534680422455640847617201869529330458547713123454002382952402972343628024967022851056661748999544860822182129604620170708858603366799016857818231471025444800260134195370492639596594844947757900212139366361303964804801833466245796281053051681448714745707705787146985485856792142019719769041942084713064396997074136773692128341119623911407400620733065226955156882356070436202968608084269737414907053232343790331745651625454227579146910055621100198243766273431853984689693720240536981697291461371335366154758413307964406649152867487456307141644393987636736963381954560126049227503794296420098108955228376299263478878968926409618388806650296400482035722790836006061382499466143374106420593475334797777286969829424194973016006096754008067954161993558039251264098299428035652107798911144308146071467612204874332931460444891461716608761312320316045627874930228095452330184399976943159663703564604887719780970795911762713301139835514774183013489489062314234869628254871292213069495410357876276862472731023699775902606275493099338027595030685012849849633778759139135588082149222765206174152880443267999617573754697338469017122818151074073544312016170740808988091682807282370289666116293788781960046434533291603174347478633894706703843482633379891060627038081943517899787955369262389872089699024952456269239195791470768696361997616827751153899891284408983174449372194396821370070430502737645927152711817541371889768102730526047786541676916430244118054960171903046350205734127900802019906628638689537108246996197601013034536386090980772405224500812939165827088073747274743737665026763182790212616232621476806277939298489255318132423608831507358366464670154774963171362051147784526823485104827256782409933093993576845642180629761137507532715558294194482378012309564690949849611617381760967796354139962535157705258344293607259327815449724634118513580136797232379889786877536743453838033015989428675653728171343393314572382616459686525733677150340816333514098165958178653818121860160037200911424412252340604092194045800703811499394744863334000810098516828001583621691771508919107420260967272435563598092955464414064580903105124117049312945562171166415473327706470143251093184621651886883788664762111398919111103067751024443075070122767705799006383124534418371935392932742599971136406423208670033750180502750792876372772210054009458736955520049322432565594075483368897612722551578519224406324433790617095573527009136625012632285694907457676823650116944507670707913499872615189970919645234916587602228270277553548510337552642355799519380279764994471461678869621694547922389299372905366606252297693350250361669287973220511329254506595429729647101540496178203228201915716360471674957111403544038636780872155687590296414932658730888452056264965907888948004898495341511061683643177042227144225762932907218822912946727792978629110099361046450375890266565501011890564861041741455191874216069083427909988007635450763794249833554229082032763712957019943517624074266088311391592000579476633333439201030782767735279501188304717019233828632260041475803630990113876643318032201164216703693772996693189262903786966627203883345449384272468686148162069803950910108586371163899377050552656688929121026070982186894355540216232249313281934922291108696037348753553224111314611684128707598386468853607303812941892485574224057705730425243448354465314087425624932997020197038069636489705229446101082995651239050541923185413340001051922469311801635726977253668351543624113599858720042564388388647401243149470634972629562335530258657569375753663151752166874273885451487274213032131120429621710048525680326017469183209605443210905936285677796337125801859948018604918388806982113553893439679483593015003592641591120145418334153492009681692560316044731400813019416224640600037286919282822338850357651910147796100769359017116644928381880903486194360463038295689951133530116684026583214267183973801542756461961525869836144805967500144602164898825405111880274570032572678029655940913770592433934169418122438791097158268174736618608170613445415116204340901880140613472281164243309593784377840570682815731533274606227573284874006518778128462692281989523966776680414735838190281513402965007159141500104047898160112309535442654819730969913810960030971588983739441860970891671528631504440772564979940939931260675180889495582574097479516619268446766487625896081574942318630170562826042428072434294151862876477814796969831195733444016583374387902326179534348198789835619562783836790423967827710858523971508063126573977506482918358844429253208225379674809310661696423046116788391826926220802091188364180594044645289793476008570076988091369665822550187933908701093841545514743155427620851907396567273131174092365871740445757193524434831026317615320552243301609075874704005067549334924294776054520682375540703898902591167771574794654537527847782389820849817625294652142553007650414669320034693662071187059169559556537519727551763446976787365155436921603426310578488533029660236872826988872304982383058207902420751415163327643629373356413521211450468188351179959878552869672093177926356603932464298683637219426038386631059195935818551311483139956468472598923937418946958556221931721646673195729661883155891401134551717531414074601932319771233375449281134794873023905288123208451212365895104240364756318018532595997046496931917435491050828764135738029389642893817940210844922461214860145621271638212674402404386145123411630164354542954624636702996586951606272000000000000000000000000000000000000000000000000000000000000000000000000000000000000000000000000000000000000000000000000000000000000000000000000000000000000000000000000000000000000000000000000000000000000000000000000000000000000000000000000000000000000000000000000000000000000000000000000000000000000000000000000000000000000000000000000000000000000000000000000000000000000000000000000000000000000000000000000000000000000000000000000000000000000000000000000000000000000000000000000000000000000000000000000000000000000000000000000000000000000000000000000000000000000000000000000000000000000000000000000000000000000000000000000000000000000000000000000000000000000000000000000000000000000000000000000000000000000000000000000000000000000000"
      ]
     },
     "execution_count": 80,
     "metadata": {},
     "output_type": "execute_result"
    }
   ],
   "source": [
    "#Faktöriyel\n",
    "def factorial(num):\n",
    "    if num <= 1: #base case\n",
    "        return 1\n",
    "    \n",
    "    else: #recursive case\n",
    "        return num * factorial(num - 1)\n",
    "    \n",
    "factorial(2950)"
   ]
  },
  {
   "cell_type": "code",
   "execution_count": 88,
   "id": "1302d444",
   "metadata": {},
   "outputs": [
    {
     "data": {
      "text/plain": [
       "1263255"
      ]
     },
     "execution_count": 88,
     "metadata": {},
     "output_type": "execute_result"
    }
   ],
   "source": [
    "#n adet doğal sayının toplamı\n",
    "def add(num):\n",
    "    if num == 0:\n",
    "        return 0\n",
    "    \n",
    "    else:\n",
    "        return num + add(num - 1)\n",
    "    \n",
    "add(1589)"
   ]
  },
  {
   "cell_type": "code",
   "execution_count": 89,
   "id": "40193773",
   "metadata": {},
   "outputs": [],
   "source": [
    "#fibonacci"
   ]
  },
  {
   "cell_type": "code",
   "execution_count": 93,
   "id": "a28c6ec8",
   "metadata": {},
   "outputs": [
    {
     "name": "stdout",
     "output_type": "stream",
     "text": [
      "How many fibonacci numbers you want to generate? 50\n",
      "0\n",
      "1\n",
      "1\n",
      "2\n",
      "3\n",
      "5\n",
      "8\n",
      "13\n",
      "21\n",
      "34\n",
      "55\n",
      "89\n",
      "144\n",
      "233\n",
      "377\n",
      "610\n",
      "987\n",
      "1597\n",
      "2584\n",
      "4181\n",
      "6765\n",
      "10946\n",
      "17711\n",
      "28657\n",
      "46368\n",
      "75025\n",
      "121393\n",
      "196418\n",
      "317811\n",
      "514229\n",
      "832040\n",
      "1346269\n",
      "2178309\n",
      "3524578\n",
      "5702887\n",
      "9227465\n",
      "14930352\n",
      "24157817\n"
     ]
    },
    {
     "ename": "KeyboardInterrupt",
     "evalue": "",
     "output_type": "error",
     "traceback": [
      "\u001b[1;31m---------------------------------------------------------------------------\u001b[0m",
      "\u001b[1;31mKeyboardInterrupt\u001b[0m                         Traceback (most recent call last)",
      "\u001b[1;32m<ipython-input-93-290f3adf2b58>\u001b[0m in \u001b[0;36m<module>\u001b[1;34m\u001b[0m\n\u001b[0;32m     10\u001b[0m \u001b[1;33m\u001b[0m\u001b[0m\n\u001b[0;32m     11\u001b[0m \u001b[1;32mfor\u001b[0m \u001b[0mi\u001b[0m \u001b[1;32min\u001b[0m \u001b[0mrange\u001b[0m\u001b[1;33m(\u001b[0m\u001b[0mnums\u001b[0m\u001b[1;33m)\u001b[0m\u001b[1;33m:\u001b[0m\u001b[1;33m\u001b[0m\u001b[1;33m\u001b[0m\u001b[0m\n\u001b[1;32m---> 12\u001b[1;33m     \u001b[0mprint\u001b[0m\u001b[1;33m(\u001b[0m\u001b[0mfibonacci\u001b[0m\u001b[1;33m(\u001b[0m\u001b[0mi\u001b[0m\u001b[1;33m)\u001b[0m\u001b[1;33m)\u001b[0m\u001b[1;33m\u001b[0m\u001b[1;33m\u001b[0m\u001b[0m\n\u001b[0m",
      "\u001b[1;32m<ipython-input-93-290f3adf2b58>\u001b[0m in \u001b[0;36mfibonacci\u001b[1;34m(num)\u001b[0m\n\u001b[0;32m      5\u001b[0m         \u001b[1;32mreturn\u001b[0m \u001b[1;36m1\u001b[0m\u001b[1;33m\u001b[0m\u001b[1;33m\u001b[0m\u001b[0m\n\u001b[0;32m      6\u001b[0m     \u001b[1;32melse\u001b[0m\u001b[1;33m:\u001b[0m\u001b[1;33m\u001b[0m\u001b[1;33m\u001b[0m\u001b[0m\n\u001b[1;32m----> 7\u001b[1;33m         \u001b[1;32mreturn\u001b[0m\u001b[1;33m(\u001b[0m\u001b[0mfibonacci\u001b[0m\u001b[1;33m(\u001b[0m\u001b[0mnum\u001b[0m \u001b[1;33m-\u001b[0m \u001b[1;36m1\u001b[0m\u001b[1;33m)\u001b[0m \u001b[1;33m+\u001b[0m \u001b[0mfibonacci\u001b[0m\u001b[1;33m(\u001b[0m\u001b[0mnum\u001b[0m \u001b[1;33m-\u001b[0m \u001b[1;36m2\u001b[0m\u001b[1;33m)\u001b[0m\u001b[1;33m)\u001b[0m\u001b[1;33m\u001b[0m\u001b[1;33m\u001b[0m\u001b[0m\n\u001b[0m\u001b[0;32m      8\u001b[0m \u001b[1;33m\u001b[0m\u001b[0m\n\u001b[0;32m      9\u001b[0m \u001b[0mnums\u001b[0m \u001b[1;33m=\u001b[0m \u001b[0mint\u001b[0m\u001b[1;33m(\u001b[0m\u001b[0minput\u001b[0m\u001b[1;33m(\u001b[0m\u001b[1;34m\"How many fibonacci numbers you want to generate? \"\u001b[0m\u001b[1;33m)\u001b[0m\u001b[1;33m)\u001b[0m\u001b[1;33m\u001b[0m\u001b[1;33m\u001b[0m\u001b[0m\n",
      "\u001b[1;32m<ipython-input-93-290f3adf2b58>\u001b[0m in \u001b[0;36mfibonacci\u001b[1;34m(num)\u001b[0m\n\u001b[0;32m      5\u001b[0m         \u001b[1;32mreturn\u001b[0m \u001b[1;36m1\u001b[0m\u001b[1;33m\u001b[0m\u001b[1;33m\u001b[0m\u001b[0m\n\u001b[0;32m      6\u001b[0m     \u001b[1;32melse\u001b[0m\u001b[1;33m:\u001b[0m\u001b[1;33m\u001b[0m\u001b[1;33m\u001b[0m\u001b[0m\n\u001b[1;32m----> 7\u001b[1;33m         \u001b[1;32mreturn\u001b[0m\u001b[1;33m(\u001b[0m\u001b[0mfibonacci\u001b[0m\u001b[1;33m(\u001b[0m\u001b[0mnum\u001b[0m \u001b[1;33m-\u001b[0m \u001b[1;36m1\u001b[0m\u001b[1;33m)\u001b[0m \u001b[1;33m+\u001b[0m \u001b[0mfibonacci\u001b[0m\u001b[1;33m(\u001b[0m\u001b[0mnum\u001b[0m \u001b[1;33m-\u001b[0m \u001b[1;36m2\u001b[0m\u001b[1;33m)\u001b[0m\u001b[1;33m)\u001b[0m\u001b[1;33m\u001b[0m\u001b[1;33m\u001b[0m\u001b[0m\n\u001b[0m\u001b[0;32m      8\u001b[0m \u001b[1;33m\u001b[0m\u001b[0m\n\u001b[0;32m      9\u001b[0m \u001b[0mnums\u001b[0m \u001b[1;33m=\u001b[0m \u001b[0mint\u001b[0m\u001b[1;33m(\u001b[0m\u001b[0minput\u001b[0m\u001b[1;33m(\u001b[0m\u001b[1;34m\"How many fibonacci numbers you want to generate? \"\u001b[0m\u001b[1;33m)\u001b[0m\u001b[1;33m)\u001b[0m\u001b[1;33m\u001b[0m\u001b[1;33m\u001b[0m\u001b[0m\n",
      "\u001b[1;32m<ipython-input-93-290f3adf2b58>\u001b[0m in \u001b[0;36mfibonacci\u001b[1;34m(num)\u001b[0m\n\u001b[0;32m      5\u001b[0m         \u001b[1;32mreturn\u001b[0m \u001b[1;36m1\u001b[0m\u001b[1;33m\u001b[0m\u001b[1;33m\u001b[0m\u001b[0m\n\u001b[0;32m      6\u001b[0m     \u001b[1;32melse\u001b[0m\u001b[1;33m:\u001b[0m\u001b[1;33m\u001b[0m\u001b[1;33m\u001b[0m\u001b[0m\n\u001b[1;32m----> 7\u001b[1;33m         \u001b[1;32mreturn\u001b[0m\u001b[1;33m(\u001b[0m\u001b[0mfibonacci\u001b[0m\u001b[1;33m(\u001b[0m\u001b[0mnum\u001b[0m \u001b[1;33m-\u001b[0m \u001b[1;36m1\u001b[0m\u001b[1;33m)\u001b[0m \u001b[1;33m+\u001b[0m \u001b[0mfibonacci\u001b[0m\u001b[1;33m(\u001b[0m\u001b[0mnum\u001b[0m \u001b[1;33m-\u001b[0m \u001b[1;36m2\u001b[0m\u001b[1;33m)\u001b[0m\u001b[1;33m)\u001b[0m\u001b[1;33m\u001b[0m\u001b[1;33m\u001b[0m\u001b[0m\n\u001b[0m\u001b[0;32m      8\u001b[0m \u001b[1;33m\u001b[0m\u001b[0m\n\u001b[0;32m      9\u001b[0m \u001b[0mnums\u001b[0m \u001b[1;33m=\u001b[0m \u001b[0mint\u001b[0m\u001b[1;33m(\u001b[0m\u001b[0minput\u001b[0m\u001b[1;33m(\u001b[0m\u001b[1;34m\"How many fibonacci numbers you want to generate? \"\u001b[0m\u001b[1;33m)\u001b[0m\u001b[1;33m)\u001b[0m\u001b[1;33m\u001b[0m\u001b[1;33m\u001b[0m\u001b[0m\n",
      "\u001b[1;32m<ipython-input-93-290f3adf2b58>\u001b[0m in \u001b[0;36mfibonacci\u001b[1;34m(num)\u001b[0m\n\u001b[0;32m      5\u001b[0m         \u001b[1;32mreturn\u001b[0m \u001b[1;36m1\u001b[0m\u001b[1;33m\u001b[0m\u001b[1;33m\u001b[0m\u001b[0m\n\u001b[0;32m      6\u001b[0m     \u001b[1;32melse\u001b[0m\u001b[1;33m:\u001b[0m\u001b[1;33m\u001b[0m\u001b[1;33m\u001b[0m\u001b[0m\n\u001b[1;32m----> 7\u001b[1;33m         \u001b[1;32mreturn\u001b[0m\u001b[1;33m(\u001b[0m\u001b[0mfibonacci\u001b[0m\u001b[1;33m(\u001b[0m\u001b[0mnum\u001b[0m \u001b[1;33m-\u001b[0m \u001b[1;36m1\u001b[0m\u001b[1;33m)\u001b[0m \u001b[1;33m+\u001b[0m \u001b[0mfibonacci\u001b[0m\u001b[1;33m(\u001b[0m\u001b[0mnum\u001b[0m \u001b[1;33m-\u001b[0m \u001b[1;36m2\u001b[0m\u001b[1;33m)\u001b[0m\u001b[1;33m)\u001b[0m\u001b[1;33m\u001b[0m\u001b[1;33m\u001b[0m\u001b[0m\n\u001b[0m\u001b[0;32m      8\u001b[0m \u001b[1;33m\u001b[0m\u001b[0m\n\u001b[0;32m      9\u001b[0m \u001b[0mnums\u001b[0m \u001b[1;33m=\u001b[0m \u001b[0mint\u001b[0m\u001b[1;33m(\u001b[0m\u001b[0minput\u001b[0m\u001b[1;33m(\u001b[0m\u001b[1;34m\"How many fibonacci numbers you want to generate? \"\u001b[0m\u001b[1;33m)\u001b[0m\u001b[1;33m)\u001b[0m\u001b[1;33m\u001b[0m\u001b[1;33m\u001b[0m\u001b[0m\n",
      "\u001b[1;32m<ipython-input-93-290f3adf2b58>\u001b[0m in \u001b[0;36mfibonacci\u001b[1;34m(num)\u001b[0m\n\u001b[0;32m      5\u001b[0m         \u001b[1;32mreturn\u001b[0m \u001b[1;36m1\u001b[0m\u001b[1;33m\u001b[0m\u001b[1;33m\u001b[0m\u001b[0m\n\u001b[0;32m      6\u001b[0m     \u001b[1;32melse\u001b[0m\u001b[1;33m:\u001b[0m\u001b[1;33m\u001b[0m\u001b[1;33m\u001b[0m\u001b[0m\n\u001b[1;32m----> 7\u001b[1;33m         \u001b[1;32mreturn\u001b[0m\u001b[1;33m(\u001b[0m\u001b[0mfibonacci\u001b[0m\u001b[1;33m(\u001b[0m\u001b[0mnum\u001b[0m \u001b[1;33m-\u001b[0m \u001b[1;36m1\u001b[0m\u001b[1;33m)\u001b[0m \u001b[1;33m+\u001b[0m \u001b[0mfibonacci\u001b[0m\u001b[1;33m(\u001b[0m\u001b[0mnum\u001b[0m \u001b[1;33m-\u001b[0m \u001b[1;36m2\u001b[0m\u001b[1;33m)\u001b[0m\u001b[1;33m)\u001b[0m\u001b[1;33m\u001b[0m\u001b[1;33m\u001b[0m\u001b[0m\n\u001b[0m\u001b[0;32m      8\u001b[0m \u001b[1;33m\u001b[0m\u001b[0m\n\u001b[0;32m      9\u001b[0m \u001b[0mnums\u001b[0m \u001b[1;33m=\u001b[0m \u001b[0mint\u001b[0m\u001b[1;33m(\u001b[0m\u001b[0minput\u001b[0m\u001b[1;33m(\u001b[0m\u001b[1;34m\"How many fibonacci numbers you want to generate? \"\u001b[0m\u001b[1;33m)\u001b[0m\u001b[1;33m)\u001b[0m\u001b[1;33m\u001b[0m\u001b[1;33m\u001b[0m\u001b[0m\n",
      "\u001b[1;32m<ipython-input-93-290f3adf2b58>\u001b[0m in \u001b[0;36mfibonacci\u001b[1;34m(num)\u001b[0m\n\u001b[0;32m      5\u001b[0m         \u001b[1;32mreturn\u001b[0m \u001b[1;36m1\u001b[0m\u001b[1;33m\u001b[0m\u001b[1;33m\u001b[0m\u001b[0m\n\u001b[0;32m      6\u001b[0m     \u001b[1;32melse\u001b[0m\u001b[1;33m:\u001b[0m\u001b[1;33m\u001b[0m\u001b[1;33m\u001b[0m\u001b[0m\n\u001b[1;32m----> 7\u001b[1;33m         \u001b[1;32mreturn\u001b[0m\u001b[1;33m(\u001b[0m\u001b[0mfibonacci\u001b[0m\u001b[1;33m(\u001b[0m\u001b[0mnum\u001b[0m \u001b[1;33m-\u001b[0m \u001b[1;36m1\u001b[0m\u001b[1;33m)\u001b[0m \u001b[1;33m+\u001b[0m \u001b[0mfibonacci\u001b[0m\u001b[1;33m(\u001b[0m\u001b[0mnum\u001b[0m \u001b[1;33m-\u001b[0m \u001b[1;36m2\u001b[0m\u001b[1;33m)\u001b[0m\u001b[1;33m)\u001b[0m\u001b[1;33m\u001b[0m\u001b[1;33m\u001b[0m\u001b[0m\n\u001b[0m\u001b[0;32m      8\u001b[0m \u001b[1;33m\u001b[0m\u001b[0m\n\u001b[0;32m      9\u001b[0m \u001b[0mnums\u001b[0m \u001b[1;33m=\u001b[0m \u001b[0mint\u001b[0m\u001b[1;33m(\u001b[0m\u001b[0minput\u001b[0m\u001b[1;33m(\u001b[0m\u001b[1;34m\"How many fibonacci numbers you want to generate? \"\u001b[0m\u001b[1;33m)\u001b[0m\u001b[1;33m)\u001b[0m\u001b[1;33m\u001b[0m\u001b[1;33m\u001b[0m\u001b[0m\n",
      "\u001b[1;32m<ipython-input-93-290f3adf2b58>\u001b[0m in \u001b[0;36mfibonacci\u001b[1;34m(num)\u001b[0m\n\u001b[0;32m      5\u001b[0m         \u001b[1;32mreturn\u001b[0m \u001b[1;36m1\u001b[0m\u001b[1;33m\u001b[0m\u001b[1;33m\u001b[0m\u001b[0m\n\u001b[0;32m      6\u001b[0m     \u001b[1;32melse\u001b[0m\u001b[1;33m:\u001b[0m\u001b[1;33m\u001b[0m\u001b[1;33m\u001b[0m\u001b[0m\n\u001b[1;32m----> 7\u001b[1;33m         \u001b[1;32mreturn\u001b[0m\u001b[1;33m(\u001b[0m\u001b[0mfibonacci\u001b[0m\u001b[1;33m(\u001b[0m\u001b[0mnum\u001b[0m \u001b[1;33m-\u001b[0m \u001b[1;36m1\u001b[0m\u001b[1;33m)\u001b[0m \u001b[1;33m+\u001b[0m \u001b[0mfibonacci\u001b[0m\u001b[1;33m(\u001b[0m\u001b[0mnum\u001b[0m \u001b[1;33m-\u001b[0m \u001b[1;36m2\u001b[0m\u001b[1;33m)\u001b[0m\u001b[1;33m)\u001b[0m\u001b[1;33m\u001b[0m\u001b[1;33m\u001b[0m\u001b[0m\n\u001b[0m\u001b[0;32m      8\u001b[0m \u001b[1;33m\u001b[0m\u001b[0m\n\u001b[0;32m      9\u001b[0m \u001b[0mnums\u001b[0m \u001b[1;33m=\u001b[0m \u001b[0mint\u001b[0m\u001b[1;33m(\u001b[0m\u001b[0minput\u001b[0m\u001b[1;33m(\u001b[0m\u001b[1;34m\"How many fibonacci numbers you want to generate? \"\u001b[0m\u001b[1;33m)\u001b[0m\u001b[1;33m)\u001b[0m\u001b[1;33m\u001b[0m\u001b[1;33m\u001b[0m\u001b[0m\n",
      "\u001b[1;32m<ipython-input-93-290f3adf2b58>\u001b[0m in \u001b[0;36mfibonacci\u001b[1;34m(num)\u001b[0m\n\u001b[0;32m      5\u001b[0m         \u001b[1;32mreturn\u001b[0m \u001b[1;36m1\u001b[0m\u001b[1;33m\u001b[0m\u001b[1;33m\u001b[0m\u001b[0m\n\u001b[0;32m      6\u001b[0m     \u001b[1;32melse\u001b[0m\u001b[1;33m:\u001b[0m\u001b[1;33m\u001b[0m\u001b[1;33m\u001b[0m\u001b[0m\n\u001b[1;32m----> 7\u001b[1;33m         \u001b[1;32mreturn\u001b[0m\u001b[1;33m(\u001b[0m\u001b[0mfibonacci\u001b[0m\u001b[1;33m(\u001b[0m\u001b[0mnum\u001b[0m \u001b[1;33m-\u001b[0m \u001b[1;36m1\u001b[0m\u001b[1;33m)\u001b[0m \u001b[1;33m+\u001b[0m \u001b[0mfibonacci\u001b[0m\u001b[1;33m(\u001b[0m\u001b[0mnum\u001b[0m \u001b[1;33m-\u001b[0m \u001b[1;36m2\u001b[0m\u001b[1;33m)\u001b[0m\u001b[1;33m)\u001b[0m\u001b[1;33m\u001b[0m\u001b[1;33m\u001b[0m\u001b[0m\n\u001b[0m\u001b[0;32m      8\u001b[0m \u001b[1;33m\u001b[0m\u001b[0m\n\u001b[0;32m      9\u001b[0m \u001b[0mnums\u001b[0m \u001b[1;33m=\u001b[0m \u001b[0mint\u001b[0m\u001b[1;33m(\u001b[0m\u001b[0minput\u001b[0m\u001b[1;33m(\u001b[0m\u001b[1;34m\"How many fibonacci numbers you want to generate? \"\u001b[0m\u001b[1;33m)\u001b[0m\u001b[1;33m)\u001b[0m\u001b[1;33m\u001b[0m\u001b[1;33m\u001b[0m\u001b[0m\n",
      "\u001b[1;32m<ipython-input-93-290f3adf2b58>\u001b[0m in \u001b[0;36mfibonacci\u001b[1;34m(num)\u001b[0m\n\u001b[0;32m      5\u001b[0m         \u001b[1;32mreturn\u001b[0m \u001b[1;36m1\u001b[0m\u001b[1;33m\u001b[0m\u001b[1;33m\u001b[0m\u001b[0m\n\u001b[0;32m      6\u001b[0m     \u001b[1;32melse\u001b[0m\u001b[1;33m:\u001b[0m\u001b[1;33m\u001b[0m\u001b[1;33m\u001b[0m\u001b[0m\n\u001b[1;32m----> 7\u001b[1;33m         \u001b[1;32mreturn\u001b[0m\u001b[1;33m(\u001b[0m\u001b[0mfibonacci\u001b[0m\u001b[1;33m(\u001b[0m\u001b[0mnum\u001b[0m \u001b[1;33m-\u001b[0m \u001b[1;36m1\u001b[0m\u001b[1;33m)\u001b[0m \u001b[1;33m+\u001b[0m \u001b[0mfibonacci\u001b[0m\u001b[1;33m(\u001b[0m\u001b[0mnum\u001b[0m \u001b[1;33m-\u001b[0m \u001b[1;36m2\u001b[0m\u001b[1;33m)\u001b[0m\u001b[1;33m)\u001b[0m\u001b[1;33m\u001b[0m\u001b[1;33m\u001b[0m\u001b[0m\n\u001b[0m\u001b[0;32m      8\u001b[0m \u001b[1;33m\u001b[0m\u001b[0m\n\u001b[0;32m      9\u001b[0m \u001b[0mnums\u001b[0m \u001b[1;33m=\u001b[0m \u001b[0mint\u001b[0m\u001b[1;33m(\u001b[0m\u001b[0minput\u001b[0m\u001b[1;33m(\u001b[0m\u001b[1;34m\"How many fibonacci numbers you want to generate? \"\u001b[0m\u001b[1;33m)\u001b[0m\u001b[1;33m)\u001b[0m\u001b[1;33m\u001b[0m\u001b[1;33m\u001b[0m\u001b[0m\n",
      "\u001b[1;32m<ipython-input-93-290f3adf2b58>\u001b[0m in \u001b[0;36mfibonacci\u001b[1;34m(num)\u001b[0m\n\u001b[0;32m      5\u001b[0m         \u001b[1;32mreturn\u001b[0m \u001b[1;36m1\u001b[0m\u001b[1;33m\u001b[0m\u001b[1;33m\u001b[0m\u001b[0m\n\u001b[0;32m      6\u001b[0m     \u001b[1;32melse\u001b[0m\u001b[1;33m:\u001b[0m\u001b[1;33m\u001b[0m\u001b[1;33m\u001b[0m\u001b[0m\n\u001b[1;32m----> 7\u001b[1;33m         \u001b[1;32mreturn\u001b[0m\u001b[1;33m(\u001b[0m\u001b[0mfibonacci\u001b[0m\u001b[1;33m(\u001b[0m\u001b[0mnum\u001b[0m \u001b[1;33m-\u001b[0m \u001b[1;36m1\u001b[0m\u001b[1;33m)\u001b[0m \u001b[1;33m+\u001b[0m \u001b[0mfibonacci\u001b[0m\u001b[1;33m(\u001b[0m\u001b[0mnum\u001b[0m \u001b[1;33m-\u001b[0m \u001b[1;36m2\u001b[0m\u001b[1;33m)\u001b[0m\u001b[1;33m)\u001b[0m\u001b[1;33m\u001b[0m\u001b[1;33m\u001b[0m\u001b[0m\n\u001b[0m\u001b[0;32m      8\u001b[0m \u001b[1;33m\u001b[0m\u001b[0m\n\u001b[0;32m      9\u001b[0m \u001b[0mnums\u001b[0m \u001b[1;33m=\u001b[0m \u001b[0mint\u001b[0m\u001b[1;33m(\u001b[0m\u001b[0minput\u001b[0m\u001b[1;33m(\u001b[0m\u001b[1;34m\"How many fibonacci numbers you want to generate? \"\u001b[0m\u001b[1;33m)\u001b[0m\u001b[1;33m)\u001b[0m\u001b[1;33m\u001b[0m\u001b[1;33m\u001b[0m\u001b[0m\n",
      "\u001b[1;32m<ipython-input-93-290f3adf2b58>\u001b[0m in \u001b[0;36mfibonacci\u001b[1;34m(num)\u001b[0m\n\u001b[0;32m      5\u001b[0m         \u001b[1;32mreturn\u001b[0m \u001b[1;36m1\u001b[0m\u001b[1;33m\u001b[0m\u001b[1;33m\u001b[0m\u001b[0m\n\u001b[0;32m      6\u001b[0m     \u001b[1;32melse\u001b[0m\u001b[1;33m:\u001b[0m\u001b[1;33m\u001b[0m\u001b[1;33m\u001b[0m\u001b[0m\n\u001b[1;32m----> 7\u001b[1;33m         \u001b[1;32mreturn\u001b[0m\u001b[1;33m(\u001b[0m\u001b[0mfibonacci\u001b[0m\u001b[1;33m(\u001b[0m\u001b[0mnum\u001b[0m \u001b[1;33m-\u001b[0m \u001b[1;36m1\u001b[0m\u001b[1;33m)\u001b[0m \u001b[1;33m+\u001b[0m \u001b[0mfibonacci\u001b[0m\u001b[1;33m(\u001b[0m\u001b[0mnum\u001b[0m \u001b[1;33m-\u001b[0m \u001b[1;36m2\u001b[0m\u001b[1;33m)\u001b[0m\u001b[1;33m)\u001b[0m\u001b[1;33m\u001b[0m\u001b[1;33m\u001b[0m\u001b[0m\n\u001b[0m\u001b[0;32m      8\u001b[0m \u001b[1;33m\u001b[0m\u001b[0m\n\u001b[0;32m      9\u001b[0m \u001b[0mnums\u001b[0m \u001b[1;33m=\u001b[0m \u001b[0mint\u001b[0m\u001b[1;33m(\u001b[0m\u001b[0minput\u001b[0m\u001b[1;33m(\u001b[0m\u001b[1;34m\"How many fibonacci numbers you want to generate? \"\u001b[0m\u001b[1;33m)\u001b[0m\u001b[1;33m)\u001b[0m\u001b[1;33m\u001b[0m\u001b[1;33m\u001b[0m\u001b[0m\n",
      "\u001b[1;32m<ipython-input-93-290f3adf2b58>\u001b[0m in \u001b[0;36mfibonacci\u001b[1;34m(num)\u001b[0m\n\u001b[0;32m      5\u001b[0m         \u001b[1;32mreturn\u001b[0m \u001b[1;36m1\u001b[0m\u001b[1;33m\u001b[0m\u001b[1;33m\u001b[0m\u001b[0m\n\u001b[0;32m      6\u001b[0m     \u001b[1;32melse\u001b[0m\u001b[1;33m:\u001b[0m\u001b[1;33m\u001b[0m\u001b[1;33m\u001b[0m\u001b[0m\n\u001b[1;32m----> 7\u001b[1;33m         \u001b[1;32mreturn\u001b[0m\u001b[1;33m(\u001b[0m\u001b[0mfibonacci\u001b[0m\u001b[1;33m(\u001b[0m\u001b[0mnum\u001b[0m \u001b[1;33m-\u001b[0m \u001b[1;36m1\u001b[0m\u001b[1;33m)\u001b[0m \u001b[1;33m+\u001b[0m \u001b[0mfibonacci\u001b[0m\u001b[1;33m(\u001b[0m\u001b[0mnum\u001b[0m \u001b[1;33m-\u001b[0m \u001b[1;36m2\u001b[0m\u001b[1;33m)\u001b[0m\u001b[1;33m)\u001b[0m\u001b[1;33m\u001b[0m\u001b[1;33m\u001b[0m\u001b[0m\n\u001b[0m\u001b[0;32m      8\u001b[0m \u001b[1;33m\u001b[0m\u001b[0m\n\u001b[0;32m      9\u001b[0m \u001b[0mnums\u001b[0m \u001b[1;33m=\u001b[0m \u001b[0mint\u001b[0m\u001b[1;33m(\u001b[0m\u001b[0minput\u001b[0m\u001b[1;33m(\u001b[0m\u001b[1;34m\"How many fibonacci numbers you want to generate? \"\u001b[0m\u001b[1;33m)\u001b[0m\u001b[1;33m)\u001b[0m\u001b[1;33m\u001b[0m\u001b[1;33m\u001b[0m\u001b[0m\n",
      "\u001b[1;32m<ipython-input-93-290f3adf2b58>\u001b[0m in \u001b[0;36mfibonacci\u001b[1;34m(num)\u001b[0m\n\u001b[0;32m      5\u001b[0m         \u001b[1;32mreturn\u001b[0m \u001b[1;36m1\u001b[0m\u001b[1;33m\u001b[0m\u001b[1;33m\u001b[0m\u001b[0m\n\u001b[0;32m      6\u001b[0m     \u001b[1;32melse\u001b[0m\u001b[1;33m:\u001b[0m\u001b[1;33m\u001b[0m\u001b[1;33m\u001b[0m\u001b[0m\n\u001b[1;32m----> 7\u001b[1;33m         \u001b[1;32mreturn\u001b[0m\u001b[1;33m(\u001b[0m\u001b[0mfibonacci\u001b[0m\u001b[1;33m(\u001b[0m\u001b[0mnum\u001b[0m \u001b[1;33m-\u001b[0m \u001b[1;36m1\u001b[0m\u001b[1;33m)\u001b[0m \u001b[1;33m+\u001b[0m \u001b[0mfibonacci\u001b[0m\u001b[1;33m(\u001b[0m\u001b[0mnum\u001b[0m \u001b[1;33m-\u001b[0m \u001b[1;36m2\u001b[0m\u001b[1;33m)\u001b[0m\u001b[1;33m)\u001b[0m\u001b[1;33m\u001b[0m\u001b[1;33m\u001b[0m\u001b[0m\n\u001b[0m\u001b[0;32m      8\u001b[0m \u001b[1;33m\u001b[0m\u001b[0m\n\u001b[0;32m      9\u001b[0m \u001b[0mnums\u001b[0m \u001b[1;33m=\u001b[0m \u001b[0mint\u001b[0m\u001b[1;33m(\u001b[0m\u001b[0minput\u001b[0m\u001b[1;33m(\u001b[0m\u001b[1;34m\"How many fibonacci numbers you want to generate? \"\u001b[0m\u001b[1;33m)\u001b[0m\u001b[1;33m)\u001b[0m\u001b[1;33m\u001b[0m\u001b[1;33m\u001b[0m\u001b[0m\n",
      "\u001b[1;32m<ipython-input-93-290f3adf2b58>\u001b[0m in \u001b[0;36mfibonacci\u001b[1;34m(num)\u001b[0m\n\u001b[0;32m      5\u001b[0m         \u001b[1;32mreturn\u001b[0m \u001b[1;36m1\u001b[0m\u001b[1;33m\u001b[0m\u001b[1;33m\u001b[0m\u001b[0m\n\u001b[0;32m      6\u001b[0m     \u001b[1;32melse\u001b[0m\u001b[1;33m:\u001b[0m\u001b[1;33m\u001b[0m\u001b[1;33m\u001b[0m\u001b[0m\n\u001b[1;32m----> 7\u001b[1;33m         \u001b[1;32mreturn\u001b[0m\u001b[1;33m(\u001b[0m\u001b[0mfibonacci\u001b[0m\u001b[1;33m(\u001b[0m\u001b[0mnum\u001b[0m \u001b[1;33m-\u001b[0m \u001b[1;36m1\u001b[0m\u001b[1;33m)\u001b[0m \u001b[1;33m+\u001b[0m \u001b[0mfibonacci\u001b[0m\u001b[1;33m(\u001b[0m\u001b[0mnum\u001b[0m \u001b[1;33m-\u001b[0m \u001b[1;36m2\u001b[0m\u001b[1;33m)\u001b[0m\u001b[1;33m)\u001b[0m\u001b[1;33m\u001b[0m\u001b[1;33m\u001b[0m\u001b[0m\n\u001b[0m\u001b[0;32m      8\u001b[0m \u001b[1;33m\u001b[0m\u001b[0m\n\u001b[0;32m      9\u001b[0m \u001b[0mnums\u001b[0m \u001b[1;33m=\u001b[0m \u001b[0mint\u001b[0m\u001b[1;33m(\u001b[0m\u001b[0minput\u001b[0m\u001b[1;33m(\u001b[0m\u001b[1;34m\"How many fibonacci numbers you want to generate? \"\u001b[0m\u001b[1;33m)\u001b[0m\u001b[1;33m)\u001b[0m\u001b[1;33m\u001b[0m\u001b[1;33m\u001b[0m\u001b[0m\n",
      "\u001b[1;32m<ipython-input-93-290f3adf2b58>\u001b[0m in \u001b[0;36mfibonacci\u001b[1;34m(num)\u001b[0m\n\u001b[0;32m      5\u001b[0m         \u001b[1;32mreturn\u001b[0m \u001b[1;36m1\u001b[0m\u001b[1;33m\u001b[0m\u001b[1;33m\u001b[0m\u001b[0m\n\u001b[0;32m      6\u001b[0m     \u001b[1;32melse\u001b[0m\u001b[1;33m:\u001b[0m\u001b[1;33m\u001b[0m\u001b[1;33m\u001b[0m\u001b[0m\n\u001b[1;32m----> 7\u001b[1;33m         \u001b[1;32mreturn\u001b[0m\u001b[1;33m(\u001b[0m\u001b[0mfibonacci\u001b[0m\u001b[1;33m(\u001b[0m\u001b[0mnum\u001b[0m \u001b[1;33m-\u001b[0m \u001b[1;36m1\u001b[0m\u001b[1;33m)\u001b[0m \u001b[1;33m+\u001b[0m \u001b[0mfibonacci\u001b[0m\u001b[1;33m(\u001b[0m\u001b[0mnum\u001b[0m \u001b[1;33m-\u001b[0m \u001b[1;36m2\u001b[0m\u001b[1;33m)\u001b[0m\u001b[1;33m)\u001b[0m\u001b[1;33m\u001b[0m\u001b[1;33m\u001b[0m\u001b[0m\n\u001b[0m\u001b[0;32m      8\u001b[0m \u001b[1;33m\u001b[0m\u001b[0m\n\u001b[0;32m      9\u001b[0m \u001b[0mnums\u001b[0m \u001b[1;33m=\u001b[0m \u001b[0mint\u001b[0m\u001b[1;33m(\u001b[0m\u001b[0minput\u001b[0m\u001b[1;33m(\u001b[0m\u001b[1;34m\"How many fibonacci numbers you want to generate? \"\u001b[0m\u001b[1;33m)\u001b[0m\u001b[1;33m)\u001b[0m\u001b[1;33m\u001b[0m\u001b[1;33m\u001b[0m\u001b[0m\n",
      "\u001b[1;32m<ipython-input-93-290f3adf2b58>\u001b[0m in \u001b[0;36mfibonacci\u001b[1;34m(num)\u001b[0m\n\u001b[0;32m      5\u001b[0m         \u001b[1;32mreturn\u001b[0m \u001b[1;36m1\u001b[0m\u001b[1;33m\u001b[0m\u001b[1;33m\u001b[0m\u001b[0m\n\u001b[0;32m      6\u001b[0m     \u001b[1;32melse\u001b[0m\u001b[1;33m:\u001b[0m\u001b[1;33m\u001b[0m\u001b[1;33m\u001b[0m\u001b[0m\n\u001b[1;32m----> 7\u001b[1;33m         \u001b[1;32mreturn\u001b[0m\u001b[1;33m(\u001b[0m\u001b[0mfibonacci\u001b[0m\u001b[1;33m(\u001b[0m\u001b[0mnum\u001b[0m \u001b[1;33m-\u001b[0m \u001b[1;36m1\u001b[0m\u001b[1;33m)\u001b[0m \u001b[1;33m+\u001b[0m \u001b[0mfibonacci\u001b[0m\u001b[1;33m(\u001b[0m\u001b[0mnum\u001b[0m \u001b[1;33m-\u001b[0m \u001b[1;36m2\u001b[0m\u001b[1;33m)\u001b[0m\u001b[1;33m)\u001b[0m\u001b[1;33m\u001b[0m\u001b[1;33m\u001b[0m\u001b[0m\n\u001b[0m\u001b[0;32m      8\u001b[0m \u001b[1;33m\u001b[0m\u001b[0m\n\u001b[0;32m      9\u001b[0m \u001b[0mnums\u001b[0m \u001b[1;33m=\u001b[0m \u001b[0mint\u001b[0m\u001b[1;33m(\u001b[0m\u001b[0minput\u001b[0m\u001b[1;33m(\u001b[0m\u001b[1;34m\"How many fibonacci numbers you want to generate? \"\u001b[0m\u001b[1;33m)\u001b[0m\u001b[1;33m)\u001b[0m\u001b[1;33m\u001b[0m\u001b[1;33m\u001b[0m\u001b[0m\n",
      "\u001b[1;32m<ipython-input-93-290f3adf2b58>\u001b[0m in \u001b[0;36mfibonacci\u001b[1;34m(num)\u001b[0m\n\u001b[0;32m      5\u001b[0m         \u001b[1;32mreturn\u001b[0m \u001b[1;36m1\u001b[0m\u001b[1;33m\u001b[0m\u001b[1;33m\u001b[0m\u001b[0m\n\u001b[0;32m      6\u001b[0m     \u001b[1;32melse\u001b[0m\u001b[1;33m:\u001b[0m\u001b[1;33m\u001b[0m\u001b[1;33m\u001b[0m\u001b[0m\n\u001b[1;32m----> 7\u001b[1;33m         \u001b[1;32mreturn\u001b[0m\u001b[1;33m(\u001b[0m\u001b[0mfibonacci\u001b[0m\u001b[1;33m(\u001b[0m\u001b[0mnum\u001b[0m \u001b[1;33m-\u001b[0m \u001b[1;36m1\u001b[0m\u001b[1;33m)\u001b[0m \u001b[1;33m+\u001b[0m \u001b[0mfibonacci\u001b[0m\u001b[1;33m(\u001b[0m\u001b[0mnum\u001b[0m \u001b[1;33m-\u001b[0m \u001b[1;36m2\u001b[0m\u001b[1;33m)\u001b[0m\u001b[1;33m)\u001b[0m\u001b[1;33m\u001b[0m\u001b[1;33m\u001b[0m\u001b[0m\n\u001b[0m\u001b[0;32m      8\u001b[0m \u001b[1;33m\u001b[0m\u001b[0m\n\u001b[0;32m      9\u001b[0m \u001b[0mnums\u001b[0m \u001b[1;33m=\u001b[0m \u001b[0mint\u001b[0m\u001b[1;33m(\u001b[0m\u001b[0minput\u001b[0m\u001b[1;33m(\u001b[0m\u001b[1;34m\"How many fibonacci numbers you want to generate? \"\u001b[0m\u001b[1;33m)\u001b[0m\u001b[1;33m)\u001b[0m\u001b[1;33m\u001b[0m\u001b[1;33m\u001b[0m\u001b[0m\n",
      "\u001b[1;32m<ipython-input-93-290f3adf2b58>\u001b[0m in \u001b[0;36mfibonacci\u001b[1;34m(num)\u001b[0m\n\u001b[0;32m      5\u001b[0m         \u001b[1;32mreturn\u001b[0m \u001b[1;36m1\u001b[0m\u001b[1;33m\u001b[0m\u001b[1;33m\u001b[0m\u001b[0m\n\u001b[0;32m      6\u001b[0m     \u001b[1;32melse\u001b[0m\u001b[1;33m:\u001b[0m\u001b[1;33m\u001b[0m\u001b[1;33m\u001b[0m\u001b[0m\n\u001b[1;32m----> 7\u001b[1;33m         \u001b[1;32mreturn\u001b[0m\u001b[1;33m(\u001b[0m\u001b[0mfibonacci\u001b[0m\u001b[1;33m(\u001b[0m\u001b[0mnum\u001b[0m \u001b[1;33m-\u001b[0m \u001b[1;36m1\u001b[0m\u001b[1;33m)\u001b[0m \u001b[1;33m+\u001b[0m \u001b[0mfibonacci\u001b[0m\u001b[1;33m(\u001b[0m\u001b[0mnum\u001b[0m \u001b[1;33m-\u001b[0m \u001b[1;36m2\u001b[0m\u001b[1;33m)\u001b[0m\u001b[1;33m)\u001b[0m\u001b[1;33m\u001b[0m\u001b[1;33m\u001b[0m\u001b[0m\n\u001b[0m\u001b[0;32m      8\u001b[0m \u001b[1;33m\u001b[0m\u001b[0m\n\u001b[0;32m      9\u001b[0m \u001b[0mnums\u001b[0m \u001b[1;33m=\u001b[0m \u001b[0mint\u001b[0m\u001b[1;33m(\u001b[0m\u001b[0minput\u001b[0m\u001b[1;33m(\u001b[0m\u001b[1;34m\"How many fibonacci numbers you want to generate? \"\u001b[0m\u001b[1;33m)\u001b[0m\u001b[1;33m)\u001b[0m\u001b[1;33m\u001b[0m\u001b[1;33m\u001b[0m\u001b[0m\n",
      "\u001b[1;32m<ipython-input-93-290f3adf2b58>\u001b[0m in \u001b[0;36mfibonacci\u001b[1;34m(num)\u001b[0m\n\u001b[0;32m      5\u001b[0m         \u001b[1;32mreturn\u001b[0m \u001b[1;36m1\u001b[0m\u001b[1;33m\u001b[0m\u001b[1;33m\u001b[0m\u001b[0m\n\u001b[0;32m      6\u001b[0m     \u001b[1;32melse\u001b[0m\u001b[1;33m:\u001b[0m\u001b[1;33m\u001b[0m\u001b[1;33m\u001b[0m\u001b[0m\n\u001b[1;32m----> 7\u001b[1;33m         \u001b[1;32mreturn\u001b[0m\u001b[1;33m(\u001b[0m\u001b[0mfibonacci\u001b[0m\u001b[1;33m(\u001b[0m\u001b[0mnum\u001b[0m \u001b[1;33m-\u001b[0m \u001b[1;36m1\u001b[0m\u001b[1;33m)\u001b[0m \u001b[1;33m+\u001b[0m \u001b[0mfibonacci\u001b[0m\u001b[1;33m(\u001b[0m\u001b[0mnum\u001b[0m \u001b[1;33m-\u001b[0m \u001b[1;36m2\u001b[0m\u001b[1;33m)\u001b[0m\u001b[1;33m)\u001b[0m\u001b[1;33m\u001b[0m\u001b[1;33m\u001b[0m\u001b[0m\n\u001b[0m\u001b[0;32m      8\u001b[0m \u001b[1;33m\u001b[0m\u001b[0m\n\u001b[0;32m      9\u001b[0m \u001b[0mnums\u001b[0m \u001b[1;33m=\u001b[0m \u001b[0mint\u001b[0m\u001b[1;33m(\u001b[0m\u001b[0minput\u001b[0m\u001b[1;33m(\u001b[0m\u001b[1;34m\"How many fibonacci numbers you want to generate? \"\u001b[0m\u001b[1;33m)\u001b[0m\u001b[1;33m)\u001b[0m\u001b[1;33m\u001b[0m\u001b[1;33m\u001b[0m\u001b[0m\n",
      "\u001b[1;32m<ipython-input-93-290f3adf2b58>\u001b[0m in \u001b[0;36mfibonacci\u001b[1;34m(num)\u001b[0m\n\u001b[0;32m      5\u001b[0m         \u001b[1;32mreturn\u001b[0m \u001b[1;36m1\u001b[0m\u001b[1;33m\u001b[0m\u001b[1;33m\u001b[0m\u001b[0m\n\u001b[0;32m      6\u001b[0m     \u001b[1;32melse\u001b[0m\u001b[1;33m:\u001b[0m\u001b[1;33m\u001b[0m\u001b[1;33m\u001b[0m\u001b[0m\n\u001b[1;32m----> 7\u001b[1;33m         \u001b[1;32mreturn\u001b[0m\u001b[1;33m(\u001b[0m\u001b[0mfibonacci\u001b[0m\u001b[1;33m(\u001b[0m\u001b[0mnum\u001b[0m \u001b[1;33m-\u001b[0m \u001b[1;36m1\u001b[0m\u001b[1;33m)\u001b[0m \u001b[1;33m+\u001b[0m \u001b[0mfibonacci\u001b[0m\u001b[1;33m(\u001b[0m\u001b[0mnum\u001b[0m \u001b[1;33m-\u001b[0m \u001b[1;36m2\u001b[0m\u001b[1;33m)\u001b[0m\u001b[1;33m)\u001b[0m\u001b[1;33m\u001b[0m\u001b[1;33m\u001b[0m\u001b[0m\n\u001b[0m\u001b[0;32m      8\u001b[0m \u001b[1;33m\u001b[0m\u001b[0m\n\u001b[0;32m      9\u001b[0m \u001b[0mnums\u001b[0m \u001b[1;33m=\u001b[0m \u001b[0mint\u001b[0m\u001b[1;33m(\u001b[0m\u001b[0minput\u001b[0m\u001b[1;33m(\u001b[0m\u001b[1;34m\"How many fibonacci numbers you want to generate? \"\u001b[0m\u001b[1;33m)\u001b[0m\u001b[1;33m)\u001b[0m\u001b[1;33m\u001b[0m\u001b[1;33m\u001b[0m\u001b[0m\n",
      "\u001b[1;32m<ipython-input-93-290f3adf2b58>\u001b[0m in \u001b[0;36mfibonacci\u001b[1;34m(num)\u001b[0m\n\u001b[0;32m      5\u001b[0m         \u001b[1;32mreturn\u001b[0m \u001b[1;36m1\u001b[0m\u001b[1;33m\u001b[0m\u001b[1;33m\u001b[0m\u001b[0m\n\u001b[0;32m      6\u001b[0m     \u001b[1;32melse\u001b[0m\u001b[1;33m:\u001b[0m\u001b[1;33m\u001b[0m\u001b[1;33m\u001b[0m\u001b[0m\n\u001b[1;32m----> 7\u001b[1;33m         \u001b[1;32mreturn\u001b[0m\u001b[1;33m(\u001b[0m\u001b[0mfibonacci\u001b[0m\u001b[1;33m(\u001b[0m\u001b[0mnum\u001b[0m \u001b[1;33m-\u001b[0m \u001b[1;36m1\u001b[0m\u001b[1;33m)\u001b[0m \u001b[1;33m+\u001b[0m \u001b[0mfibonacci\u001b[0m\u001b[1;33m(\u001b[0m\u001b[0mnum\u001b[0m \u001b[1;33m-\u001b[0m \u001b[1;36m2\u001b[0m\u001b[1;33m)\u001b[0m\u001b[1;33m)\u001b[0m\u001b[1;33m\u001b[0m\u001b[1;33m\u001b[0m\u001b[0m\n\u001b[0m\u001b[0;32m      8\u001b[0m \u001b[1;33m\u001b[0m\u001b[0m\n\u001b[0;32m      9\u001b[0m \u001b[0mnums\u001b[0m \u001b[1;33m=\u001b[0m \u001b[0mint\u001b[0m\u001b[1;33m(\u001b[0m\u001b[0minput\u001b[0m\u001b[1;33m(\u001b[0m\u001b[1;34m\"How many fibonacci numbers you want to generate? \"\u001b[0m\u001b[1;33m)\u001b[0m\u001b[1;33m)\u001b[0m\u001b[1;33m\u001b[0m\u001b[1;33m\u001b[0m\u001b[0m\n",
      "\u001b[1;32m<ipython-input-93-290f3adf2b58>\u001b[0m in \u001b[0;36mfibonacci\u001b[1;34m(num)\u001b[0m\n\u001b[0;32m      5\u001b[0m         \u001b[1;32mreturn\u001b[0m \u001b[1;36m1\u001b[0m\u001b[1;33m\u001b[0m\u001b[1;33m\u001b[0m\u001b[0m\n\u001b[0;32m      6\u001b[0m     \u001b[1;32melse\u001b[0m\u001b[1;33m:\u001b[0m\u001b[1;33m\u001b[0m\u001b[1;33m\u001b[0m\u001b[0m\n\u001b[1;32m----> 7\u001b[1;33m         \u001b[1;32mreturn\u001b[0m\u001b[1;33m(\u001b[0m\u001b[0mfibonacci\u001b[0m\u001b[1;33m(\u001b[0m\u001b[0mnum\u001b[0m \u001b[1;33m-\u001b[0m \u001b[1;36m1\u001b[0m\u001b[1;33m)\u001b[0m \u001b[1;33m+\u001b[0m \u001b[0mfibonacci\u001b[0m\u001b[1;33m(\u001b[0m\u001b[0mnum\u001b[0m \u001b[1;33m-\u001b[0m \u001b[1;36m2\u001b[0m\u001b[1;33m)\u001b[0m\u001b[1;33m)\u001b[0m\u001b[1;33m\u001b[0m\u001b[1;33m\u001b[0m\u001b[0m\n\u001b[0m\u001b[0;32m      8\u001b[0m \u001b[1;33m\u001b[0m\u001b[0m\n\u001b[0;32m      9\u001b[0m \u001b[0mnums\u001b[0m \u001b[1;33m=\u001b[0m \u001b[0mint\u001b[0m\u001b[1;33m(\u001b[0m\u001b[0minput\u001b[0m\u001b[1;33m(\u001b[0m\u001b[1;34m\"How many fibonacci numbers you want to generate? \"\u001b[0m\u001b[1;33m)\u001b[0m\u001b[1;33m)\u001b[0m\u001b[1;33m\u001b[0m\u001b[1;33m\u001b[0m\u001b[0m\n",
      "\u001b[1;32m<ipython-input-93-290f3adf2b58>\u001b[0m in \u001b[0;36mfibonacci\u001b[1;34m(num)\u001b[0m\n\u001b[0;32m      5\u001b[0m         \u001b[1;32mreturn\u001b[0m \u001b[1;36m1\u001b[0m\u001b[1;33m\u001b[0m\u001b[1;33m\u001b[0m\u001b[0m\n\u001b[0;32m      6\u001b[0m     \u001b[1;32melse\u001b[0m\u001b[1;33m:\u001b[0m\u001b[1;33m\u001b[0m\u001b[1;33m\u001b[0m\u001b[0m\n\u001b[1;32m----> 7\u001b[1;33m         \u001b[1;32mreturn\u001b[0m\u001b[1;33m(\u001b[0m\u001b[0mfibonacci\u001b[0m\u001b[1;33m(\u001b[0m\u001b[0mnum\u001b[0m \u001b[1;33m-\u001b[0m \u001b[1;36m1\u001b[0m\u001b[1;33m)\u001b[0m \u001b[1;33m+\u001b[0m \u001b[0mfibonacci\u001b[0m\u001b[1;33m(\u001b[0m\u001b[0mnum\u001b[0m \u001b[1;33m-\u001b[0m \u001b[1;36m2\u001b[0m\u001b[1;33m)\u001b[0m\u001b[1;33m)\u001b[0m\u001b[1;33m\u001b[0m\u001b[1;33m\u001b[0m\u001b[0m\n\u001b[0m\u001b[0;32m      8\u001b[0m \u001b[1;33m\u001b[0m\u001b[0m\n\u001b[0;32m      9\u001b[0m \u001b[0mnums\u001b[0m \u001b[1;33m=\u001b[0m \u001b[0mint\u001b[0m\u001b[1;33m(\u001b[0m\u001b[0minput\u001b[0m\u001b[1;33m(\u001b[0m\u001b[1;34m\"How many fibonacci numbers you want to generate? \"\u001b[0m\u001b[1;33m)\u001b[0m\u001b[1;33m)\u001b[0m\u001b[1;33m\u001b[0m\u001b[1;33m\u001b[0m\u001b[0m\n",
      "\u001b[1;32m<ipython-input-93-290f3adf2b58>\u001b[0m in \u001b[0;36mfibonacci\u001b[1;34m(num)\u001b[0m\n\u001b[0;32m      5\u001b[0m         \u001b[1;32mreturn\u001b[0m \u001b[1;36m1\u001b[0m\u001b[1;33m\u001b[0m\u001b[1;33m\u001b[0m\u001b[0m\n\u001b[0;32m      6\u001b[0m     \u001b[1;32melse\u001b[0m\u001b[1;33m:\u001b[0m\u001b[1;33m\u001b[0m\u001b[1;33m\u001b[0m\u001b[0m\n\u001b[1;32m----> 7\u001b[1;33m         \u001b[1;32mreturn\u001b[0m\u001b[1;33m(\u001b[0m\u001b[0mfibonacci\u001b[0m\u001b[1;33m(\u001b[0m\u001b[0mnum\u001b[0m \u001b[1;33m-\u001b[0m \u001b[1;36m1\u001b[0m\u001b[1;33m)\u001b[0m \u001b[1;33m+\u001b[0m \u001b[0mfibonacci\u001b[0m\u001b[1;33m(\u001b[0m\u001b[0mnum\u001b[0m \u001b[1;33m-\u001b[0m \u001b[1;36m2\u001b[0m\u001b[1;33m)\u001b[0m\u001b[1;33m)\u001b[0m\u001b[1;33m\u001b[0m\u001b[1;33m\u001b[0m\u001b[0m\n\u001b[0m\u001b[0;32m      8\u001b[0m \u001b[1;33m\u001b[0m\u001b[0m\n\u001b[0;32m      9\u001b[0m \u001b[0mnums\u001b[0m \u001b[1;33m=\u001b[0m \u001b[0mint\u001b[0m\u001b[1;33m(\u001b[0m\u001b[0minput\u001b[0m\u001b[1;33m(\u001b[0m\u001b[1;34m\"How many fibonacci numbers you want to generate? \"\u001b[0m\u001b[1;33m)\u001b[0m\u001b[1;33m)\u001b[0m\u001b[1;33m\u001b[0m\u001b[1;33m\u001b[0m\u001b[0m\n",
      "\u001b[1;32m<ipython-input-93-290f3adf2b58>\u001b[0m in \u001b[0;36mfibonacci\u001b[1;34m(num)\u001b[0m\n\u001b[0;32m      5\u001b[0m         \u001b[1;32mreturn\u001b[0m \u001b[1;36m1\u001b[0m\u001b[1;33m\u001b[0m\u001b[1;33m\u001b[0m\u001b[0m\n\u001b[0;32m      6\u001b[0m     \u001b[1;32melse\u001b[0m\u001b[1;33m:\u001b[0m\u001b[1;33m\u001b[0m\u001b[1;33m\u001b[0m\u001b[0m\n\u001b[1;32m----> 7\u001b[1;33m         \u001b[1;32mreturn\u001b[0m\u001b[1;33m(\u001b[0m\u001b[0mfibonacci\u001b[0m\u001b[1;33m(\u001b[0m\u001b[0mnum\u001b[0m \u001b[1;33m-\u001b[0m \u001b[1;36m1\u001b[0m\u001b[1;33m)\u001b[0m \u001b[1;33m+\u001b[0m \u001b[0mfibonacci\u001b[0m\u001b[1;33m(\u001b[0m\u001b[0mnum\u001b[0m \u001b[1;33m-\u001b[0m \u001b[1;36m2\u001b[0m\u001b[1;33m)\u001b[0m\u001b[1;33m)\u001b[0m\u001b[1;33m\u001b[0m\u001b[1;33m\u001b[0m\u001b[0m\n\u001b[0m\u001b[0;32m      8\u001b[0m \u001b[1;33m\u001b[0m\u001b[0m\n\u001b[0;32m      9\u001b[0m \u001b[0mnums\u001b[0m \u001b[1;33m=\u001b[0m \u001b[0mint\u001b[0m\u001b[1;33m(\u001b[0m\u001b[0minput\u001b[0m\u001b[1;33m(\u001b[0m\u001b[1;34m\"How many fibonacci numbers you want to generate? \"\u001b[0m\u001b[1;33m)\u001b[0m\u001b[1;33m)\u001b[0m\u001b[1;33m\u001b[0m\u001b[1;33m\u001b[0m\u001b[0m\n",
      "\u001b[1;32m<ipython-input-93-290f3adf2b58>\u001b[0m in \u001b[0;36mfibonacci\u001b[1;34m(num)\u001b[0m\n\u001b[0;32m      5\u001b[0m         \u001b[1;32mreturn\u001b[0m \u001b[1;36m1\u001b[0m\u001b[1;33m\u001b[0m\u001b[1;33m\u001b[0m\u001b[0m\n\u001b[0;32m      6\u001b[0m     \u001b[1;32melse\u001b[0m\u001b[1;33m:\u001b[0m\u001b[1;33m\u001b[0m\u001b[1;33m\u001b[0m\u001b[0m\n\u001b[1;32m----> 7\u001b[1;33m         \u001b[1;32mreturn\u001b[0m\u001b[1;33m(\u001b[0m\u001b[0mfibonacci\u001b[0m\u001b[1;33m(\u001b[0m\u001b[0mnum\u001b[0m \u001b[1;33m-\u001b[0m \u001b[1;36m1\u001b[0m\u001b[1;33m)\u001b[0m \u001b[1;33m+\u001b[0m \u001b[0mfibonacci\u001b[0m\u001b[1;33m(\u001b[0m\u001b[0mnum\u001b[0m \u001b[1;33m-\u001b[0m \u001b[1;36m2\u001b[0m\u001b[1;33m)\u001b[0m\u001b[1;33m)\u001b[0m\u001b[1;33m\u001b[0m\u001b[1;33m\u001b[0m\u001b[0m\n\u001b[0m\u001b[0;32m      8\u001b[0m \u001b[1;33m\u001b[0m\u001b[0m\n\u001b[0;32m      9\u001b[0m \u001b[0mnums\u001b[0m \u001b[1;33m=\u001b[0m \u001b[0mint\u001b[0m\u001b[1;33m(\u001b[0m\u001b[0minput\u001b[0m\u001b[1;33m(\u001b[0m\u001b[1;34m\"How many fibonacci numbers you want to generate? \"\u001b[0m\u001b[1;33m)\u001b[0m\u001b[1;33m)\u001b[0m\u001b[1;33m\u001b[0m\u001b[1;33m\u001b[0m\u001b[0m\n",
      "\u001b[1;32m<ipython-input-93-290f3adf2b58>\u001b[0m in \u001b[0;36mfibonacci\u001b[1;34m(num)\u001b[0m\n\u001b[0;32m      5\u001b[0m         \u001b[1;32mreturn\u001b[0m \u001b[1;36m1\u001b[0m\u001b[1;33m\u001b[0m\u001b[1;33m\u001b[0m\u001b[0m\n\u001b[0;32m      6\u001b[0m     \u001b[1;32melse\u001b[0m\u001b[1;33m:\u001b[0m\u001b[1;33m\u001b[0m\u001b[1;33m\u001b[0m\u001b[0m\n\u001b[1;32m----> 7\u001b[1;33m         \u001b[1;32mreturn\u001b[0m\u001b[1;33m(\u001b[0m\u001b[0mfibonacci\u001b[0m\u001b[1;33m(\u001b[0m\u001b[0mnum\u001b[0m \u001b[1;33m-\u001b[0m \u001b[1;36m1\u001b[0m\u001b[1;33m)\u001b[0m \u001b[1;33m+\u001b[0m \u001b[0mfibonacci\u001b[0m\u001b[1;33m(\u001b[0m\u001b[0mnum\u001b[0m \u001b[1;33m-\u001b[0m \u001b[1;36m2\u001b[0m\u001b[1;33m)\u001b[0m\u001b[1;33m)\u001b[0m\u001b[1;33m\u001b[0m\u001b[1;33m\u001b[0m\u001b[0m\n\u001b[0m\u001b[0;32m      8\u001b[0m \u001b[1;33m\u001b[0m\u001b[0m\n\u001b[0;32m      9\u001b[0m \u001b[0mnums\u001b[0m \u001b[1;33m=\u001b[0m \u001b[0mint\u001b[0m\u001b[1;33m(\u001b[0m\u001b[0minput\u001b[0m\u001b[1;33m(\u001b[0m\u001b[1;34m\"How many fibonacci numbers you want to generate? \"\u001b[0m\u001b[1;33m)\u001b[0m\u001b[1;33m)\u001b[0m\u001b[1;33m\u001b[0m\u001b[1;33m\u001b[0m\u001b[0m\n",
      "\u001b[1;32m<ipython-input-93-290f3adf2b58>\u001b[0m in \u001b[0;36mfibonacci\u001b[1;34m(num)\u001b[0m\n\u001b[0;32m      5\u001b[0m         \u001b[1;32mreturn\u001b[0m \u001b[1;36m1\u001b[0m\u001b[1;33m\u001b[0m\u001b[1;33m\u001b[0m\u001b[0m\n\u001b[0;32m      6\u001b[0m     \u001b[1;32melse\u001b[0m\u001b[1;33m:\u001b[0m\u001b[1;33m\u001b[0m\u001b[1;33m\u001b[0m\u001b[0m\n\u001b[1;32m----> 7\u001b[1;33m         \u001b[1;32mreturn\u001b[0m\u001b[1;33m(\u001b[0m\u001b[0mfibonacci\u001b[0m\u001b[1;33m(\u001b[0m\u001b[0mnum\u001b[0m \u001b[1;33m-\u001b[0m \u001b[1;36m1\u001b[0m\u001b[1;33m)\u001b[0m \u001b[1;33m+\u001b[0m \u001b[0mfibonacci\u001b[0m\u001b[1;33m(\u001b[0m\u001b[0mnum\u001b[0m \u001b[1;33m-\u001b[0m \u001b[1;36m2\u001b[0m\u001b[1;33m)\u001b[0m\u001b[1;33m)\u001b[0m\u001b[1;33m\u001b[0m\u001b[1;33m\u001b[0m\u001b[0m\n\u001b[0m\u001b[0;32m      8\u001b[0m \u001b[1;33m\u001b[0m\u001b[0m\n\u001b[0;32m      9\u001b[0m \u001b[0mnums\u001b[0m \u001b[1;33m=\u001b[0m \u001b[0mint\u001b[0m\u001b[1;33m(\u001b[0m\u001b[0minput\u001b[0m\u001b[1;33m(\u001b[0m\u001b[1;34m\"How many fibonacci numbers you want to generate? \"\u001b[0m\u001b[1;33m)\u001b[0m\u001b[1;33m)\u001b[0m\u001b[1;33m\u001b[0m\u001b[1;33m\u001b[0m\u001b[0m\n",
      "\u001b[1;32m<ipython-input-93-290f3adf2b58>\u001b[0m in \u001b[0;36mfibonacci\u001b[1;34m(num)\u001b[0m\n\u001b[0;32m      5\u001b[0m         \u001b[1;32mreturn\u001b[0m \u001b[1;36m1\u001b[0m\u001b[1;33m\u001b[0m\u001b[1;33m\u001b[0m\u001b[0m\n\u001b[0;32m      6\u001b[0m     \u001b[1;32melse\u001b[0m\u001b[1;33m:\u001b[0m\u001b[1;33m\u001b[0m\u001b[1;33m\u001b[0m\u001b[0m\n\u001b[1;32m----> 7\u001b[1;33m         \u001b[1;32mreturn\u001b[0m\u001b[1;33m(\u001b[0m\u001b[0mfibonacci\u001b[0m\u001b[1;33m(\u001b[0m\u001b[0mnum\u001b[0m \u001b[1;33m-\u001b[0m \u001b[1;36m1\u001b[0m\u001b[1;33m)\u001b[0m \u001b[1;33m+\u001b[0m \u001b[0mfibonacci\u001b[0m\u001b[1;33m(\u001b[0m\u001b[0mnum\u001b[0m \u001b[1;33m-\u001b[0m \u001b[1;36m2\u001b[0m\u001b[1;33m)\u001b[0m\u001b[1;33m)\u001b[0m\u001b[1;33m\u001b[0m\u001b[1;33m\u001b[0m\u001b[0m\n\u001b[0m\u001b[0;32m      8\u001b[0m \u001b[1;33m\u001b[0m\u001b[0m\n\u001b[0;32m      9\u001b[0m \u001b[0mnums\u001b[0m \u001b[1;33m=\u001b[0m \u001b[0mint\u001b[0m\u001b[1;33m(\u001b[0m\u001b[0minput\u001b[0m\u001b[1;33m(\u001b[0m\u001b[1;34m\"How many fibonacci numbers you want to generate? \"\u001b[0m\u001b[1;33m)\u001b[0m\u001b[1;33m)\u001b[0m\u001b[1;33m\u001b[0m\u001b[1;33m\u001b[0m\u001b[0m\n",
      "\u001b[1;32m<ipython-input-93-290f3adf2b58>\u001b[0m in \u001b[0;36mfibonacci\u001b[1;34m(num)\u001b[0m\n\u001b[1;32m----> 1\u001b[1;33m \u001b[1;32mdef\u001b[0m \u001b[0mfibonacci\u001b[0m\u001b[1;33m(\u001b[0m\u001b[0mnum\u001b[0m\u001b[1;33m)\u001b[0m\u001b[1;33m:\u001b[0m\u001b[1;33m\u001b[0m\u001b[1;33m\u001b[0m\u001b[0m\n\u001b[0m\u001b[0;32m      2\u001b[0m     \u001b[1;32mif\u001b[0m \u001b[0mnum\u001b[0m \u001b[1;33m<=\u001b[0m \u001b[1;36m1\u001b[0m\u001b[1;33m:\u001b[0m\u001b[1;33m\u001b[0m\u001b[1;33m\u001b[0m\u001b[0m\n\u001b[0;32m      3\u001b[0m         \u001b[1;32mreturn\u001b[0m \u001b[0mnum\u001b[0m\u001b[1;33m\u001b[0m\u001b[1;33m\u001b[0m\u001b[0m\n\u001b[0;32m      4\u001b[0m     \u001b[1;32mif\u001b[0m \u001b[0mnum\u001b[0m \u001b[1;33m==\u001b[0m \u001b[1;36m2\u001b[0m\u001b[1;33m:\u001b[0m\u001b[1;33m\u001b[0m\u001b[1;33m\u001b[0m\u001b[0m\n\u001b[0;32m      5\u001b[0m         \u001b[1;32mreturn\u001b[0m \u001b[1;36m1\u001b[0m\u001b[1;33m\u001b[0m\u001b[1;33m\u001b[0m\u001b[0m\n",
      "\u001b[1;31mKeyboardInterrupt\u001b[0m: "
     ]
    }
   ],
   "source": [
    "def fibonacci(num):\n",
    "    if num <= 1:\n",
    "        return num\n",
    "    if num == 2:\n",
    "        return 1\n",
    "    else:\n",
    "        return(fibonacci(num - 1) + fibonacci(num - 2))\n",
    "    \n",
    "nums = int(input(\"How many fibonacci numbers you want to generate? \"))\n",
    "\n",
    "for i in range(nums):\n",
    "    print(fibonacci(i))"
   ]
  },
  {
   "cell_type": "code",
   "execution_count": 3,
   "id": "f0e4bf01",
   "metadata": {},
   "outputs": [],
   "source": [
    "#Files and Exceptions (Dosyalar ve İstisnalar)"
   ]
  },
  {
   "cell_type": "code",
   "execution_count": 6,
   "id": "90a72cc2",
   "metadata": {},
   "outputs": [],
   "source": [
    "fileobj = open('mydata\\ibb_lojistik.txt', 'r')\n",
    "fileobj.close()"
   ]
  },
  {
   "cell_type": "code",
   "execution_count": 8,
   "id": "fa0cca1b",
   "metadata": {},
   "outputs": [
    {
     "data": {
      "text/plain": [
       "\"İlçeler  bazında  firmaların  kullandıkları  ortalama  alanlara  bakıldığında  \\nen  fazla  alan kullanımının Ümraniye, Çatalca, Silivri, Şile, Arnavutköy gibi\\nİstanbul’un alan bakımından daha büyük ve yerleşim alanlarının daha kısıtlı olduğu\\nilçeleri ön plana çıkmaktadır. Bunda arazi fiyatlarının daha düşük olması, karayolu, \\ndemiryolu ve kısmen de olsa denizyolu ana bağlantı noktalarına yakınlık, kullanılabilir \\nyerleşim dışı boş alanların fazlalığı gibi etmenler de önemli rol oynamaktadır. \\nKullanılan alanların niteliğine bakıldığında ise, üretim alanlarının yoğunlaştığı  \\nilçeler  yine  yukarıda  sayılan  nedenlerden  dolayı,  Şile,  Çatalca,  Arnavutköy, \\nSilivri, Beylikdüzü gibi yukarıda sayılan ilçelere benzer ilçelerdir. Depolama alanları \\naçısından değerlendirildiğinde ise, açık depolama alanlarının Şile, Çatalca, Beylikdüzü, \\nArnavutköy gibi ilçelerde yoğunlaştığı, kapalı depo alanlarının özellikle Ümraniye’de \\naşırı derecede toplandığı, raflı depolama alanlarında Çekmeköy’ün yine aşırı derecede \\nöne çıktığı, konteyner depolamaalanlarında kapalı ve raflı depolama alanları kadar olmasa \\nbile Beylikdüzü ve Eyüp ilçelerinin ön plana çıktığı, soğuk hava depolarında başta Silivri \\nolmak üzere Esenyurt ve Başakşehir’in başta sayılabileceği, antrepolarda ise yine yoğunluk \\nBeylikdüzü’ndeolmak üzere Arnavutköy ve Sancaktepe’nin ön plana çıktığı görülmektedir(Tablo 3.6). \\nSonuç olarak yük sevkiyatlarının giriş-çıkış noktalarının esas olarak depolama ve üretim alanları \\nolduğu düşünülürse yukarıda adları geçen Ümraniye, Çatalca, Silivri, Arnavutköy, Şile, Ümraniye, \\nBeylikdüzü, Çekmeköy gibi İstanbul’u bir anlamda çevreleyen ilçeler Lojistik Ana Planı hazırlanırken \\ndikkatle analiz edilmesi gereken ilçelerin başında gelmektedir. Tablo 3.6’de  genel  olarak  bahsedilen \\nve  ilçeler  bazında  ortaya  çıkan  görüntü,imalat sektöründeki  ortalama  alan  kullanımının  \\nilçeler  bazında  dağılımında  da  aynı  şekilde görülmektedir.  Silivri,  Çatalca,Arnavutköy, \\nŞile,  Büyükçekmece,  Beylikdüzü  gibi  ilçeler ortalama alan kullanımında yoğunluğu çeken \\nilçeler olmaktadır. Her ne kadar İstanbul ili içerisinde yerleşim alanları her ilçede yoğun \\nbir şekilde görülmekteyse de merkeze en uzakta bulunan ve endüstriyel açıdan yoğunlaşmanın \\ndaha fazla olduğu bu ilçelerde imalat sektörünün yoğun  olarak  görülmesi  normaldir.  \\nBu  yüzden  lojistik  açıdan  değerlendirmeler  yapılırken sevkiyat yoğunlukları, \\nlojistik odak merkezleri, yükleme ve boşaltma alanları gibi unsurlar belirlenirken \\nbu dağılım oldukça yol gösterici olacaktır. Özellikle İstanbul’a gerek Trakya ve Anadolu’dan\\nve  gerekse  Avrupa  ve  Asya’dan  kara,  demir  yada  denizyolu  ile  gelişlerin \\nİstanbul’un sınır ilçeleri olarak kabul edilen bu ilçelerden  gerçekleşiyor olması \\nda İmalat Sektörü  firmalarının  buralarda  yoğunlaşmasını  daha  net  açıklamaktadır.  \\nBuna  karşılık İstanbul’un nüfus  ve  yerleşim olarak yoğun ilçeleri olan Kadıköy, Bakırköy, \\nÜsküdar, Fatih gibi  ilçelerde  ise  doğal  olarak  imalat  sektörü  firmalarının  daha az  \\nfaaliyet gösterdiği görülmektedir.\\n\\nGünümüz yaşam koşullarının etkisiyle insan ve yük hareketliliği hızla artmaktadır. Kentsel\\nyaşamdaki günlük ihtiyaçların karşılanması bakımından zorunlu hale gelen yük taşımacılığı,\\ninsan yaşamı üzerinde çeşitli sosyal ve çevresel etkilere neden olmaktadır.\\nÖzellikle büyük şehirlerde hızlı nüfus artışıyla ortaya çıkan ihtiyaçların, kısa sürelerde\\ngiderilmesi çabası ulaştırma hizmetlerini zorlaştırmaktadır. Karayolu yolcu ve yük\\ntaşımacılığında, son otuz yılda diğer türler ile yapılan taşımacılıklara kıyasla hızlı bir gelişme\\nolmuş, bu dengesiz gelişmenin sonucu olarak karayolu taşımasının payı her iki taşıma için hızla\\nartarak %90'ın üzerine çıkmıştır.\\nÖzellikle İstanbul, sahip olduğu nüfus ve ekonomik potansiyel nedeniyle bu hızlı gelişimden\\nen çok etkilenen illerden biridir. Bu gerekçeyle; şehirdeki yük hareketlerinin oluşturduğu trafik\\nsıkışıklıkları, erişim kısıtlamaları, park sorunları, emisyonlar gibi ekonomik, sosyal ve çevresel\\netkiler göz önüne alınarak bir kentsel lojistik planlama yapılması ihtiyacı doğmuştur. Lojistik\\nalanında yapılan yatırımlardan en fazla yararın elde edilmesi;\\n\\uf0fc Ancak hedef ve amaçların iyi belirlenmesi,\\n\\uf0fc Yapılan yatırımlar ile elde edilecek yararların maliyetlerle dengesinin sağlanması,\\n\\uf0fc Yatırımları yapacak olan kuruluşların yatırım güçlerinin göz önünde tutulması,\\n\\uf0fc Lojistik unsurlar içindeki entegrasyonun sağlanması,\\n\\uf0fc Lojistik konusunda geleceğe yönelik taleplerin doğru kestirilebilmesine bağlıdır.\\nDiğer yanda limanlar, demiryolları, karayolları ve bunların tesisleri ile depolama alanları kent\\ncoğrafyası içinde yer bulmakta, kent içinde birçok kentsel kullanım ile birlikte yer almaktadır.\\nDiğer kentsel kullanımlarla birlikte kent içinde yer alan lojistik yatırımların diğer kentsel\\nkullanımlara ve kentsel yaşama olumsuz etkilerinin bertaraf edilmesi kapsamlı bir mekânsal\\nplanlama ile sağlanabilir.\\nBu amacın gerçekleşmesi ise ancak kapsamlı bir “Lojistik Ana Planı” ile mümkün\\ngörünmektedir. Böyle bir Planın gerektirdiği araştırma, analiz, eylem planı ve değerlendirme\\nraporuyla bu çalışmanın altyapısının oluşturulması hedeflenmektedir.\\n1.1 Çalışmanın Amacı\\nİstanbul Lojistik Ana Planı İşi Kapsamında Araç Sayımına Yönelik Saha Çalışması Yapılarak\\nVeri Alımı Hizmeti İşinin amacı, İstanbul’un lojistik hareketliliğine dair elde edilecek verilerle\\nİSTLAP’a bilimsel altlık oluşturmaktır. Çalışmada Teknik Şartname ile lokasyonları belirlenen\\nlojistik odaklarda, perde-kordonlarda trafik sayımı ve anketler gerçekleştirilmiştir.\\n2\\nBu şekilde İstanbul’un lojistik altyapısının kente ve kentlilere olan sosyal, ekonomik, politik ve\\nteknolojik etkileri belirlenerek tespit edilen sorunların çözümüne yönelik strateji ve öneriler\\ngeliştirilecektir. Kısa, orta ve uzun dönemli oluşturulacak eylem planlarıyla bir yandan sağlıklı\\nmekânsal gelişim sağlanırken diğer yandan İstanbul Ulaşım Ana Planı’na entegre bir gelişim\\nsağlanacaktır.\\nÇalışmada hızlı ve doğru bir veri kümesine ulaşmak için hazırlık aşamasından başlayarak veri\\nteslimine kadar olan süreçler önceden belirlenmiş metodoloji ve iş planına uygun şekilde\\ngerçekleştirilmiştir.\\n1.2 Çalışmanın Kapsamı\\nÇalışma kapsamında, İstanbul’da yük taşıyan araç trafiği düzeyinin belirlenerek lojistik atama\\nmodelinde kullanılmak üzere, İstanbul, Gebze ve Dilovası’nda yer alan belirli lojistik odak ve\\nterminallerin yoğunlaştığı bölgelerin giriş- çıkışlarında, İstanbul trafiğini temsil eden perdekordon hatlarında gerçekleştirilmiştir (Şekil 1.1).\\nŞekil 1.1 Saha Çalışması Kapsamı\\nPerde-Kordon Anketleri İstanbul Ulaşım Ana Planı çalışması kapsamında ele alınan perde\\nhatları noktalarında yapılmış olup sayımlar yük araçlarının yanı sıra tüm ulaşım araçları\\nsayımlar da gerçekleştirilmiştir. Bu hat ve noktaların yanı sıra lojistik odak ve terminallerin\\nkapılarında sayım ve anket çalışmaları gerçekleştirilmiş, gelen giden yükün cinsi, doluluk\\ndurumu, geldiği ve gittiği noktayı tespit etmeye yönelik veriler elde edilmiştir.\\nÇalışma kapsamında aşağıda detaylı bilgileri verilen 33 lojistik odakta, 109 kesitte ve 5 dış\\nistasyonda trafik sayımları ve anketler yapılmıştır. Teknik şartnamede 29 odak ve 99 kesit\\nolarak belirtilmiştir.\\n1. Lojistik Odak ve\\nTerminallerde Sayım ve Anket\\n2. Perde-Kordonlarda Trafik\\nSayımı\\n3\\nOdaklarda yapılan sayımlarda şartnamede 5 kategori olarak belirtilen yük araçları 11\\nkategoride sayılmıştır. Perde hatları ve dış istasyonlarda ise 5 tür lojistik yük araçlarına ek\\nolarak 6 tür toplu ulaşım aracı olmak üzere toplam 11 kategoride sayım yapılmıştır\""
      ]
     },
     "execution_count": 8,
     "metadata": {},
     "output_type": "execute_result"
    }
   ],
   "source": [
    "fileobj = open('mydata\\ibb_lojistik.txt', encoding=\"utf8\")\n",
    "fileobj.read()"
   ]
  },
  {
   "cell_type": "code",
   "execution_count": 9,
   "id": "86f98b23",
   "metadata": {},
   "outputs": [
    {
     "data": {
      "text/plain": [
       "''"
      ]
     },
     "execution_count": 9,
     "metadata": {},
     "output_type": "execute_result"
    }
   ],
   "source": [
    "fileobj.read()"
   ]
  },
  {
   "cell_type": "code",
   "execution_count": 10,
   "id": "51d07c64",
   "metadata": {},
   "outputs": [
    {
     "data": {
      "text/plain": [
       "\"İlçeler  bazında  firmaların  kullandıkları  ortalama  alanlara  bakıldığında  \\nen  fazla  alan kullanımının Ümraniye, Çatalca, Silivri, Şile, Arnavutköy gibi\\nİstanbul’un alan bakımından daha büyük ve yerleşim alanlarının daha kısıtlı olduğu\\nilçeleri ön plana çıkmaktadır. Bunda arazi fiyatlarının daha düşük olması, karayolu, \\ndemiryolu ve kısmen de olsa denizyolu ana bağlantı noktalarına yakınlık, kullanılabilir \\nyerleşim dışı boş alanların fazlalığı gibi etmenler de önemli rol oynamaktadır. \\nKullanılan alanların niteliğine bakıldığında ise, üretim alanlarının yoğunlaştığı  \\nilçeler  yine  yukarıda  sayılan  nedenlerden  dolayı,  Şile,  Çatalca,  Arnavutköy, \\nSilivri, Beylikdüzü gibi yukarıda sayılan ilçelere benzer ilçelerdir. Depolama alanları \\naçısından değerlendirildiğinde ise, açık depolama alanlarının Şile, Çatalca, Beylikdüzü, \\nArnavutköy gibi ilçelerde yoğunlaştığı, kapalı depo alanlarının özellikle Ümraniye’de \\naşırı derecede toplandığı, raflı depolama alanlarında Çekmeköy’ün yine aşırı derecede \\nöne çıktığı, konteyner depolamaalanlarında kapalı ve raflı depolama alanları kadar olmasa \\nbile Beylikdüzü ve Eyüp ilçelerinin ön plana çıktığı, soğuk hava depolarında başta Silivri \\nolmak üzere Esenyurt ve Başakşehir’in başta sayılabileceği, antrepolarda ise yine yoğunluk \\nBeylikdüzü’ndeolmak üzere Arnavutköy ve Sancaktepe’nin ön plana çıktığı görülmektedir(Tablo 3.6). \\nSonuç olarak yük sevkiyatlarının giriş-çıkış noktalarının esas olarak depolama ve üretim alanları \\nolduğu düşünülürse yukarıda adları geçen Ümraniye, Çatalca, Silivri, Arnavutköy, Şile, Ümraniye, \\nBeylikdüzü, Çekmeköy gibi İstanbul’u bir anlamda çevreleyen ilçeler Lojistik Ana Planı hazırlanırken \\ndikkatle analiz edilmesi gereken ilçelerin başında gelmektedir. Tablo 3.6’de  genel  olarak  bahsedilen \\nve  ilçeler  bazında  ortaya  çıkan  görüntü,imalat sektöründeki  ortalama  alan  kullanımının  \\nilçeler  bazında  dağılımında  da  aynı  şekilde görülmektedir.  Silivri,  Çatalca,Arnavutköy, \\nŞile,  Büyükçekmece,  Beylikdüzü  gibi  ilçeler ortalama alan kullanımında yoğunluğu çeken \\nilçeler olmaktadır. Her ne kadar İstanbul ili içerisinde yerleşim alanları her ilçede yoğun \\nbir şekilde görülmekteyse de merkeze en uzakta bulunan ve endüstriyel açıdan yoğunlaşmanın \\ndaha fazla olduğu bu ilçelerde imalat sektörünün yoğun  olarak  görülmesi  normaldir.  \\nBu  yüzden  lojistik  açıdan  değerlendirmeler  yapılırken sevkiyat yoğunlukları, \\nlojistik odak merkezleri, yükleme ve boşaltma alanları gibi unsurlar belirlenirken \\nbu dağılım oldukça yol gösterici olacaktır. Özellikle İstanbul’a gerek Trakya ve Anadolu’dan\\nve  gerekse  Avrupa  ve  Asya’dan  kara,  demir  yada  denizyolu  ile  gelişlerin \\nİstanbul’un sınır ilçeleri olarak kabul edilen bu ilçelerden  gerçekleşiyor olması \\nda İmalat Sektörü  firmalarının  buralarda  yoğunlaşmasını  daha  net  açıklamaktadır.  \\nBuna  karşılık İstanbul’un nüfus  ve  yerleşim olarak yoğun ilçeleri olan Kadıköy, Bakırköy, \\nÜsküdar, Fatih gibi  ilçelerde  ise  doğal  olarak  imalat  sektörü  firmalarının  daha az  \\nfaaliyet gösterdiği görülmektedir.\\n\\nGünümüz yaşam koşullarının etkisiyle insan ve yük hareketliliği hızla artmaktadır. Kentsel\\nyaşamdaki günlük ihtiyaçların karşılanması bakımından zorunlu hale gelen yük taşımacılığı,\\ninsan yaşamı üzerinde çeşitli sosyal ve çevresel etkilere neden olmaktadır.\\nÖzellikle büyük şehirlerde hızlı nüfus artışıyla ortaya çıkan ihtiyaçların, kısa sürelerde\\ngiderilmesi çabası ulaştırma hizmetlerini zorlaştırmaktadır. Karayolu yolcu ve yük\\ntaşımacılığında, son otuz yılda diğer türler ile yapılan taşımacılıklara kıyasla hızlı bir gelişme\\nolmuş, bu dengesiz gelişmenin sonucu olarak karayolu taşımasının payı her iki taşıma için hızla\\nartarak %90'ın üzerine çıkmıştır.\\nÖzellikle İstanbul, sahip olduğu nüfus ve ekonomik potansiyel nedeniyle bu hızlı gelişimden\\nen çok etkilenen illerden biridir. Bu gerekçeyle; şehirdeki yük hareketlerinin oluşturduğu trafik\\nsıkışıklıkları, erişim kısıtlamaları, park sorunları, emisyonlar gibi ekonomik, sosyal ve çevresel\\netkiler göz önüne alınarak bir kentsel lojistik planlama yapılması ihtiyacı doğmuştur. Lojistik\\nalanında yapılan yatırımlardan en fazla yararın elde edilmesi;\\n\\uf0fc Ancak hedef ve amaçların iyi belirlenmesi,\\n\\uf0fc Yapılan yatırımlar ile elde edilecek yararların maliyetlerle dengesinin sağlanması,\\n\\uf0fc Yatırımları yapacak olan kuruluşların yatırım güçlerinin göz önünde tutulması,\\n\\uf0fc Lojistik unsurlar içindeki entegrasyonun sağlanması,\\n\\uf0fc Lojistik konusunda geleceğe yönelik taleplerin doğru kestirilebilmesine bağlıdır.\\nDiğer yanda limanlar, demiryolları, karayolları ve bunların tesisleri ile depolama alanları kent\\ncoğrafyası içinde yer bulmakta, kent içinde birçok kentsel kullanım ile birlikte yer almaktadır.\\nDiğer kentsel kullanımlarla birlikte kent içinde yer alan lojistik yatırımların diğer kentsel\\nkullanımlara ve kentsel yaşama olumsuz etkilerinin bertaraf edilmesi kapsamlı bir mekânsal\\nplanlama ile sağlanabilir.\\nBu amacın gerçekleşmesi ise ancak kapsamlı bir “Lojistik Ana Planı” ile mümkün\\ngörünmektedir. Böyle bir Planın gerektirdiği araştırma, analiz, eylem planı ve değerlendirme\\nraporuyla bu çalışmanın altyapısının oluşturulması hedeflenmektedir.\\n1.1 Çalışmanın Amacı\\nİstanbul Lojistik Ana Planı İşi Kapsamında Araç Sayımına Yönelik Saha Çalışması Yapılarak\\nVeri Alımı Hizmeti İşinin amacı, İstanbul’un lojistik hareketliliğine dair elde edilecek verilerle\\nİSTLAP’a bilimsel altlık oluşturmaktır. Çalışmada Teknik Şartname ile lokasyonları belirlenen\\nlojistik odaklarda, perde-kordonlarda trafik sayımı ve anketler gerçekleştirilmiştir.\\n2\\nBu şekilde İstanbul’un lojistik altyapısının kente ve kentlilere olan sosyal, ekonomik, politik ve\\nteknolojik etkileri belirlenerek tespit edilen sorunların çözümüne yönelik strateji ve öneriler\\ngeliştirilecektir. Kısa, orta ve uzun dönemli oluşturulacak eylem planlarıyla bir yandan sağlıklı\\nmekânsal gelişim sağlanırken diğer yandan İstanbul Ulaşım Ana Planı’na entegre bir gelişim\\nsağlanacaktır.\\nÇalışmada hızlı ve doğru bir veri kümesine ulaşmak için hazırlık aşamasından başlayarak veri\\nteslimine kadar olan süreçler önceden belirlenmiş metodoloji ve iş planına uygun şekilde\\ngerçekleştirilmiştir.\\n1.2 Çalışmanın Kapsamı\\nÇalışma kapsamında, İstanbul’da yük taşıyan araç trafiği düzeyinin belirlenerek lojistik atama\\nmodelinde kullanılmak üzere, İstanbul, Gebze ve Dilovası’nda yer alan belirli lojistik odak ve\\nterminallerin yoğunlaştığı bölgelerin giriş- çıkışlarında, İstanbul trafiğini temsil eden perdekordon hatlarında gerçekleştirilmiştir (Şekil 1.1).\\nŞekil 1.1 Saha Çalışması Kapsamı\\nPerde-Kordon Anketleri İstanbul Ulaşım Ana Planı çalışması kapsamında ele alınan perde\\nhatları noktalarında yapılmış olup sayımlar yük araçlarının yanı sıra tüm ulaşım araçları\\nsayımlar da gerçekleştirilmiştir. Bu hat ve noktaların yanı sıra lojistik odak ve terminallerin\\nkapılarında sayım ve anket çalışmaları gerçekleştirilmiş, gelen giden yükün cinsi, doluluk\\ndurumu, geldiği ve gittiği noktayı tespit etmeye yönelik veriler elde edilmiştir.\\nÇalışma kapsamında aşağıda detaylı bilgileri verilen 33 lojistik odakta, 109 kesitte ve 5 dış\\nistasyonda trafik sayımları ve anketler yapılmıştır. Teknik şartnamede 29 odak ve 99 kesit\\nolarak belirtilmiştir.\\n1. Lojistik Odak ve\\nTerminallerde Sayım ve Anket\\n2. Perde-Kordonlarda Trafik\\nSayımı\\n3\\nOdaklarda yapılan sayımlarda şartnamede 5 kategori olarak belirtilen yük araçları 11\\nkategoride sayılmıştır. Perde hatları ve dış istasyonlarda ise 5 tür lojistik yük araçlarına ek\\nolarak 6 tür toplu ulaşım aracı olmak üzere toplam 11 kategoride sayım yapılmıştır\""
      ]
     },
     "execution_count": 10,
     "metadata": {},
     "output_type": "execute_result"
    }
   ],
   "source": [
    "fileobj.seek(0) #imleci başlangıç konumuna getirir\n",
    "fileobj.read()"
   ]
  },
  {
   "cell_type": "code",
   "execution_count": 11,
   "id": "5a3269be",
   "metadata": {},
   "outputs": [
    {
     "data": {
      "text/plain": [
       "\"er  bazında  firmaların  kullandıkları  ortalama  alanlara  bakıldığında  \\nen  fazla  alan kullanımının Ümraniye, Çatalca, Silivri, Şile, Arnavutköy gibi\\nİstanbul’un alan bakımından daha büyük ve yerleşim alanlarının daha kısıtlı olduğu\\nilçeleri ön plana çıkmaktadır. Bunda arazi fiyatlarının daha düşük olması, karayolu, \\ndemiryolu ve kısmen de olsa denizyolu ana bağlantı noktalarına yakınlık, kullanılabilir \\nyerleşim dışı boş alanların fazlalığı gibi etmenler de önemli rol oynamaktadır. \\nKullanılan alanların niteliğine bakıldığında ise, üretim alanlarının yoğunlaştığı  \\nilçeler  yine  yukarıda  sayılan  nedenlerden  dolayı,  Şile,  Çatalca,  Arnavutköy, \\nSilivri, Beylikdüzü gibi yukarıda sayılan ilçelere benzer ilçelerdir. Depolama alanları \\naçısından değerlendirildiğinde ise, açık depolama alanlarının Şile, Çatalca, Beylikdüzü, \\nArnavutköy gibi ilçelerde yoğunlaştığı, kapalı depo alanlarının özellikle Ümraniye’de \\naşırı derecede toplandığı, raflı depolama alanlarında Çekmeköy’ün yine aşırı derecede \\nöne çıktığı, konteyner depolamaalanlarında kapalı ve raflı depolama alanları kadar olmasa \\nbile Beylikdüzü ve Eyüp ilçelerinin ön plana çıktığı, soğuk hava depolarında başta Silivri \\nolmak üzere Esenyurt ve Başakşehir’in başta sayılabileceği, antrepolarda ise yine yoğunluk \\nBeylikdüzü’ndeolmak üzere Arnavutköy ve Sancaktepe’nin ön plana çıktığı görülmektedir(Tablo 3.6). \\nSonuç olarak yük sevkiyatlarının giriş-çıkış noktalarının esas olarak depolama ve üretim alanları \\nolduğu düşünülürse yukarıda adları geçen Ümraniye, Çatalca, Silivri, Arnavutköy, Şile, Ümraniye, \\nBeylikdüzü, Çekmeköy gibi İstanbul’u bir anlamda çevreleyen ilçeler Lojistik Ana Planı hazırlanırken \\ndikkatle analiz edilmesi gereken ilçelerin başında gelmektedir. Tablo 3.6’de  genel  olarak  bahsedilen \\nve  ilçeler  bazında  ortaya  çıkan  görüntü,imalat sektöründeki  ortalama  alan  kullanımının  \\nilçeler  bazında  dağılımında  da  aynı  şekilde görülmektedir.  Silivri,  Çatalca,Arnavutköy, \\nŞile,  Büyükçekmece,  Beylikdüzü  gibi  ilçeler ortalama alan kullanımında yoğunluğu çeken \\nilçeler olmaktadır. Her ne kadar İstanbul ili içerisinde yerleşim alanları her ilçede yoğun \\nbir şekilde görülmekteyse de merkeze en uzakta bulunan ve endüstriyel açıdan yoğunlaşmanın \\ndaha fazla olduğu bu ilçelerde imalat sektörünün yoğun  olarak  görülmesi  normaldir.  \\nBu  yüzden  lojistik  açıdan  değerlendirmeler  yapılırken sevkiyat yoğunlukları, \\nlojistik odak merkezleri, yükleme ve boşaltma alanları gibi unsurlar belirlenirken \\nbu dağılım oldukça yol gösterici olacaktır. Özellikle İstanbul’a gerek Trakya ve Anadolu’dan\\nve  gerekse  Avrupa  ve  Asya’dan  kara,  demir  yada  denizyolu  ile  gelişlerin \\nİstanbul’un sınır ilçeleri olarak kabul edilen bu ilçelerden  gerçekleşiyor olması \\nda İmalat Sektörü  firmalarının  buralarda  yoğunlaşmasını  daha  net  açıklamaktadır.  \\nBuna  karşılık İstanbul’un nüfus  ve  yerleşim olarak yoğun ilçeleri olan Kadıköy, Bakırköy, \\nÜsküdar, Fatih gibi  ilçelerde  ise  doğal  olarak  imalat  sektörü  firmalarının  daha az  \\nfaaliyet gösterdiği görülmektedir.\\n\\nGünümüz yaşam koşullarının etkisiyle insan ve yük hareketliliği hızla artmaktadır. Kentsel\\nyaşamdaki günlük ihtiyaçların karşılanması bakımından zorunlu hale gelen yük taşımacılığı,\\ninsan yaşamı üzerinde çeşitli sosyal ve çevresel etkilere neden olmaktadır.\\nÖzellikle büyük şehirlerde hızlı nüfus artışıyla ortaya çıkan ihtiyaçların, kısa sürelerde\\ngiderilmesi çabası ulaştırma hizmetlerini zorlaştırmaktadır. Karayolu yolcu ve yük\\ntaşımacılığında, son otuz yılda diğer türler ile yapılan taşımacılıklara kıyasla hızlı bir gelişme\\nolmuş, bu dengesiz gelişmenin sonucu olarak karayolu taşımasının payı her iki taşıma için hızla\\nartarak %90'ın üzerine çıkmıştır.\\nÖzellikle İstanbul, sahip olduğu nüfus ve ekonomik potansiyel nedeniyle bu hızlı gelişimden\\nen çok etkilenen illerden biridir. Bu gerekçeyle; şehirdeki yük hareketlerinin oluşturduğu trafik\\nsıkışıklıkları, erişim kısıtlamaları, park sorunları, emisyonlar gibi ekonomik, sosyal ve çevresel\\netkiler göz önüne alınarak bir kentsel lojistik planlama yapılması ihtiyacı doğmuştur. Lojistik\\nalanında yapılan yatırımlardan en fazla yararın elde edilmesi;\\n\\uf0fc Ancak hedef ve amaçların iyi belirlenmesi,\\n\\uf0fc Yapılan yatırımlar ile elde edilecek yararların maliyetlerle dengesinin sağlanması,\\n\\uf0fc Yatırımları yapacak olan kuruluşların yatırım güçlerinin göz önünde tutulması,\\n\\uf0fc Lojistik unsurlar içindeki entegrasyonun sağlanması,\\n\\uf0fc Lojistik konusunda geleceğe yönelik taleplerin doğru kestirilebilmesine bağlıdır.\\nDiğer yanda limanlar, demiryolları, karayolları ve bunların tesisleri ile depolama alanları kent\\ncoğrafyası içinde yer bulmakta, kent içinde birçok kentsel kullanım ile birlikte yer almaktadır.\\nDiğer kentsel kullanımlarla birlikte kent içinde yer alan lojistik yatırımların diğer kentsel\\nkullanımlara ve kentsel yaşama olumsuz etkilerinin bertaraf edilmesi kapsamlı bir mekânsal\\nplanlama ile sağlanabilir.\\nBu amacın gerçekleşmesi ise ancak kapsamlı bir “Lojistik Ana Planı” ile mümkün\\ngörünmektedir. Böyle bir Planın gerektirdiği araştırma, analiz, eylem planı ve değerlendirme\\nraporuyla bu çalışmanın altyapısının oluşturulması hedeflenmektedir.\\n1.1 Çalışmanın Amacı\\nİstanbul Lojistik Ana Planı İşi Kapsamında Araç Sayımına Yönelik Saha Çalışması Yapılarak\\nVeri Alımı Hizmeti İşinin amacı, İstanbul’un lojistik hareketliliğine dair elde edilecek verilerle\\nİSTLAP’a bilimsel altlık oluşturmaktır. Çalışmada Teknik Şartname ile lokasyonları belirlenen\\nlojistik odaklarda, perde-kordonlarda trafik sayımı ve anketler gerçekleştirilmiştir.\\n2\\nBu şekilde İstanbul’un lojistik altyapısının kente ve kentlilere olan sosyal, ekonomik, politik ve\\nteknolojik etkileri belirlenerek tespit edilen sorunların çözümüne yönelik strateji ve öneriler\\ngeliştirilecektir. Kısa, orta ve uzun dönemli oluşturulacak eylem planlarıyla bir yandan sağlıklı\\nmekânsal gelişim sağlanırken diğer yandan İstanbul Ulaşım Ana Planı’na entegre bir gelişim\\nsağlanacaktır.\\nÇalışmada hızlı ve doğru bir veri kümesine ulaşmak için hazırlık aşamasından başlayarak veri\\nteslimine kadar olan süreçler önceden belirlenmiş metodoloji ve iş planına uygun şekilde\\ngerçekleştirilmiştir.\\n1.2 Çalışmanın Kapsamı\\nÇalışma kapsamında, İstanbul’da yük taşıyan araç trafiği düzeyinin belirlenerek lojistik atama\\nmodelinde kullanılmak üzere, İstanbul, Gebze ve Dilovası’nda yer alan belirli lojistik odak ve\\nterminallerin yoğunlaştığı bölgelerin giriş- çıkışlarında, İstanbul trafiğini temsil eden perdekordon hatlarında gerçekleştirilmiştir (Şekil 1.1).\\nŞekil 1.1 Saha Çalışması Kapsamı\\nPerde-Kordon Anketleri İstanbul Ulaşım Ana Planı çalışması kapsamında ele alınan perde\\nhatları noktalarında yapılmış olup sayımlar yük araçlarının yanı sıra tüm ulaşım araçları\\nsayımlar da gerçekleştirilmiştir. Bu hat ve noktaların yanı sıra lojistik odak ve terminallerin\\nkapılarında sayım ve anket çalışmaları gerçekleştirilmiş, gelen giden yükün cinsi, doluluk\\ndurumu, geldiği ve gittiği noktayı tespit etmeye yönelik veriler elde edilmiştir.\\nÇalışma kapsamında aşağıda detaylı bilgileri verilen 33 lojistik odakta, 109 kesitte ve 5 dış\\nistasyonda trafik sayımları ve anketler yapılmıştır. Teknik şartnamede 29 odak ve 99 kesit\\nolarak belirtilmiştir.\\n1. Lojistik Odak ve\\nTerminallerde Sayım ve Anket\\n2. Perde-Kordonlarda Trafik\\nSayımı\\n3\\nOdaklarda yapılan sayımlarda şartnamede 5 kategori olarak belirtilen yük araçları 11\\nkategoride sayılmıştır. Perde hatları ve dış istasyonlarda ise 5 tür lojistik yük araçlarına ek\\nolarak 6 tür toplu ulaşım aracı olmak üzere toplam 11 kategoride sayım yapılmıştır\""
      ]
     },
     "execution_count": 11,
     "metadata": {},
     "output_type": "execute_result"
    }
   ],
   "source": [
    "fileobj.seek(7)\n",
    "fileobj.read()"
   ]
  },
  {
   "cell_type": "code",
   "execution_count": 12,
   "id": "2deaa5ff",
   "metadata": {},
   "outputs": [
    {
     "data": {
      "text/plain": [
       "'İlçeler  bazında'"
      ]
     },
     "execution_count": 12,
     "metadata": {},
     "output_type": "execute_result"
    }
   ],
   "source": [
    "fileobj.seek(0)\n",
    "\n",
    "fileobj.read(16)"
   ]
  },
  {
   "cell_type": "code",
   "execution_count": 13,
   "id": "2ebf05ac",
   "metadata": {},
   "outputs": [
    {
     "data": {
      "text/plain": [
       "'İlçeler  bazında  firmaların  kullandıkları  ortalama  alanlara  bakıldığında  \\nen  fazla  alan kullanımının Ümraniye, Çatalca, Silivri, Şile, Arnavutköy gibi\\nİstanbul’un alan bakımından daha büyük ve yerleşim alanlarının daha kısıtlı olduğu\\nilçeleri ön plana çıkmaktadır. Bunda arazi fiyatlarının daha düşük olması, karayolu, \\ndemiryolu ve kısmen de olsa denizyolu ana bağlantı noktalarına yakınlık, kullanılabilir \\nyerleşim dışı boş alanların fazlalığı gibi etmenler de önemli rol oynamaktadır. \\nKu'"
      ]
     },
     "execution_count": 13,
     "metadata": {},
     "output_type": "execute_result"
    }
   ],
   "source": [
    "fileobj.seek(0)\n",
    "\n",
    "fileobj.read(500)"
   ]
  },
  {
   "cell_type": "code",
   "execution_count": 14,
   "id": "9d212a62",
   "metadata": {},
   "outputs": [
    {
     "data": {
      "text/plain": [
       "566"
      ]
     },
     "execution_count": 14,
     "metadata": {},
     "output_type": "execute_result"
    }
   ],
   "source": [
    "fileobj.tell() #İmlecin güncel konumunu bize verir"
   ]
  },
  {
   "cell_type": "code",
   "execution_count": 16,
   "id": "0b7e38fa",
   "metadata": {},
   "outputs": [
    {
     "name": "stdout",
     "output_type": "stream",
     "text": [
      "İlçeler  bazında  firmaların  kullandıkları  ortalama  alanlara  bakıldığında  \n",
      "\n",
      "en  fazla  alan kullanımının Ümraniye, Çatalca, Silivri, Şile, Arnavutköy gibi\n",
      "\n",
      "İstanbul’un alan bakımından daha büyük ve yerleşim alanlarının daha kısıtlı olduğu\n",
      "\n",
      "ilçeleri ön plana çıkmaktadır. Bunda arazi fiyatlarının daha düşük olması, karayolu, \n",
      "\n"
     ]
    }
   ],
   "source": [
    "fileobj.seek(0)\n",
    "\n",
    "print(fileobj.readline())\n",
    "\n",
    "print(fileobj.readline())\n",
    "\n",
    "print(fileobj.readline())\n",
    "\n",
    "print(fileobj.readline())"
   ]
  },
  {
   "cell_type": "code",
   "execution_count": 17,
   "id": "7ed3f07d",
   "metadata": {},
   "outputs": [
    {
     "data": {
      "text/plain": [
       "['İlçeler  bazında  firmaların  kullandıkları  ortalama  alanlara  bakıldığında  \\n',\n",
       " 'en  fazla  alan kullanımının Ümraniye, Çatalca, Silivri, Şile, Arnavutköy gibi\\n',\n",
       " 'İstanbul’un alan bakımından daha büyük ve yerleşim alanlarının daha kısıtlı olduğu\\n',\n",
       " 'ilçeleri ön plana çıkmaktadır. Bunda arazi fiyatlarının daha düşük olması, karayolu, \\n',\n",
       " 'demiryolu ve kısmen de olsa denizyolu ana bağlantı noktalarına yakınlık, kullanılabilir \\n',\n",
       " 'yerleşim dışı boş alanların fazlalığı gibi etmenler de önemli rol oynamaktadır. \\n',\n",
       " 'Kullanılan alanların niteliğine bakıldığında ise, üretim alanlarının yoğunlaştığı  \\n',\n",
       " 'ilçeler  yine  yukarıda  sayılan  nedenlerden  dolayı,  Şile,  Çatalca,  Arnavutköy, \\n',\n",
       " 'Silivri, Beylikdüzü gibi yukarıda sayılan ilçelere benzer ilçelerdir. Depolama alanları \\n',\n",
       " 'açısından değerlendirildiğinde ise, açık depolama alanlarının Şile, Çatalca, Beylikdüzü, \\n',\n",
       " 'Arnavutköy gibi ilçelerde yoğunlaştığı, kapalı depo alanlarının özellikle Ümraniye’de \\n',\n",
       " 'aşırı derecede toplandığı, raflı depolama alanlarında Çekmeköy’ün yine aşırı derecede \\n',\n",
       " 'öne çıktığı, konteyner depolamaalanlarında kapalı ve raflı depolama alanları kadar olmasa \\n',\n",
       " 'bile Beylikdüzü ve Eyüp ilçelerinin ön plana çıktığı, soğuk hava depolarında başta Silivri \\n',\n",
       " 'olmak üzere Esenyurt ve Başakşehir’in başta sayılabileceği, antrepolarda ise yine yoğunluk \\n',\n",
       " 'Beylikdüzü’ndeolmak üzere Arnavutköy ve Sancaktepe’nin ön plana çıktığı görülmektedir(Tablo 3.6). \\n',\n",
       " 'Sonuç olarak yük sevkiyatlarının giriş-çıkış noktalarının esas olarak depolama ve üretim alanları \\n',\n",
       " 'olduğu düşünülürse yukarıda adları geçen Ümraniye, Çatalca, Silivri, Arnavutköy, Şile, Ümraniye, \\n',\n",
       " 'Beylikdüzü, Çekmeköy gibi İstanbul’u bir anlamda çevreleyen ilçeler Lojistik Ana Planı hazırlanırken \\n',\n",
       " 'dikkatle analiz edilmesi gereken ilçelerin başında gelmektedir. Tablo 3.6’de  genel  olarak  bahsedilen \\n',\n",
       " 've  ilçeler  bazında  ortaya  çıkan  görüntü,imalat sektöründeki  ortalama  alan  kullanımının  \\n',\n",
       " 'ilçeler  bazında  dağılımında  da  aynı  şekilde görülmektedir.  Silivri,  Çatalca,Arnavutköy, \\n',\n",
       " 'Şile,  Büyükçekmece,  Beylikdüzü  gibi  ilçeler ortalama alan kullanımında yoğunluğu çeken \\n',\n",
       " 'ilçeler olmaktadır. Her ne kadar İstanbul ili içerisinde yerleşim alanları her ilçede yoğun \\n',\n",
       " 'bir şekilde görülmekteyse de merkeze en uzakta bulunan ve endüstriyel açıdan yoğunlaşmanın \\n',\n",
       " 'daha fazla olduğu bu ilçelerde imalat sektörünün yoğun  olarak  görülmesi  normaldir.  \\n',\n",
       " 'Bu  yüzden  lojistik  açıdan  değerlendirmeler  yapılırken sevkiyat yoğunlukları, \\n',\n",
       " 'lojistik odak merkezleri, yükleme ve boşaltma alanları gibi unsurlar belirlenirken \\n',\n",
       " 'bu dağılım oldukça yol gösterici olacaktır. Özellikle İstanbul’a gerek Trakya ve Anadolu’dan\\n',\n",
       " 've  gerekse  Avrupa  ve  Asya’dan  kara,  demir  yada  denizyolu  ile  gelişlerin \\n',\n",
       " 'İstanbul’un sınır ilçeleri olarak kabul edilen bu ilçelerden  gerçekleşiyor olması \\n',\n",
       " 'da İmalat Sektörü  firmalarının  buralarda  yoğunlaşmasını  daha  net  açıklamaktadır.  \\n',\n",
       " 'Buna  karşılık İstanbul’un nüfus  ve  yerleşim olarak yoğun ilçeleri olan Kadıköy, Bakırköy, \\n',\n",
       " 'Üsküdar, Fatih gibi  ilçelerde  ise  doğal  olarak  imalat  sektörü  firmalarının  daha az  \\n',\n",
       " 'faaliyet gösterdiği görülmektedir.\\n',\n",
       " '\\n',\n",
       " 'Günümüz yaşam koşullarının etkisiyle insan ve yük hareketliliği hızla artmaktadır. Kentsel\\n',\n",
       " 'yaşamdaki günlük ihtiyaçların karşılanması bakımından zorunlu hale gelen yük taşımacılığı,\\n',\n",
       " 'insan yaşamı üzerinde çeşitli sosyal ve çevresel etkilere neden olmaktadır.\\n',\n",
       " 'Özellikle büyük şehirlerde hızlı nüfus artışıyla ortaya çıkan ihtiyaçların, kısa sürelerde\\n',\n",
       " 'giderilmesi çabası ulaştırma hizmetlerini zorlaştırmaktadır. Karayolu yolcu ve yük\\n',\n",
       " 'taşımacılığında, son otuz yılda diğer türler ile yapılan taşımacılıklara kıyasla hızlı bir gelişme\\n',\n",
       " 'olmuş, bu dengesiz gelişmenin sonucu olarak karayolu taşımasının payı her iki taşıma için hızla\\n',\n",
       " \"artarak %90'ın üzerine çıkmıştır.\\n\",\n",
       " 'Özellikle İstanbul, sahip olduğu nüfus ve ekonomik potansiyel nedeniyle bu hızlı gelişimden\\n',\n",
       " 'en çok etkilenen illerden biridir. Bu gerekçeyle; şehirdeki yük hareketlerinin oluşturduğu trafik\\n',\n",
       " 'sıkışıklıkları, erişim kısıtlamaları, park sorunları, emisyonlar gibi ekonomik, sosyal ve çevresel\\n',\n",
       " 'etkiler göz önüne alınarak bir kentsel lojistik planlama yapılması ihtiyacı doğmuştur. Lojistik\\n',\n",
       " 'alanında yapılan yatırımlardan en fazla yararın elde edilmesi;\\n',\n",
       " '\\uf0fc Ancak hedef ve amaçların iyi belirlenmesi,\\n',\n",
       " '\\uf0fc Yapılan yatırımlar ile elde edilecek yararların maliyetlerle dengesinin sağlanması,\\n',\n",
       " '\\uf0fc Yatırımları yapacak olan kuruluşların yatırım güçlerinin göz önünde tutulması,\\n',\n",
       " '\\uf0fc Lojistik unsurlar içindeki entegrasyonun sağlanması,\\n',\n",
       " '\\uf0fc Lojistik konusunda geleceğe yönelik taleplerin doğru kestirilebilmesine bağlıdır.\\n',\n",
       " 'Diğer yanda limanlar, demiryolları, karayolları ve bunların tesisleri ile depolama alanları kent\\n',\n",
       " 'coğrafyası içinde yer bulmakta, kent içinde birçok kentsel kullanım ile birlikte yer almaktadır.\\n',\n",
       " 'Diğer kentsel kullanımlarla birlikte kent içinde yer alan lojistik yatırımların diğer kentsel\\n',\n",
       " 'kullanımlara ve kentsel yaşama olumsuz etkilerinin bertaraf edilmesi kapsamlı bir mekânsal\\n',\n",
       " 'planlama ile sağlanabilir.\\n',\n",
       " 'Bu amacın gerçekleşmesi ise ancak kapsamlı bir “Lojistik Ana Planı” ile mümkün\\n',\n",
       " 'görünmektedir. Böyle bir Planın gerektirdiği araştırma, analiz, eylem planı ve değerlendirme\\n',\n",
       " 'raporuyla bu çalışmanın altyapısının oluşturulması hedeflenmektedir.\\n',\n",
       " '1.1 Çalışmanın Amacı\\n',\n",
       " 'İstanbul Lojistik Ana Planı İşi Kapsamında Araç Sayımına Yönelik Saha Çalışması Yapılarak\\n',\n",
       " 'Veri Alımı Hizmeti İşinin amacı, İstanbul’un lojistik hareketliliğine dair elde edilecek verilerle\\n',\n",
       " 'İSTLAP’a bilimsel altlık oluşturmaktır. Çalışmada Teknik Şartname ile lokasyonları belirlenen\\n',\n",
       " 'lojistik odaklarda, perde-kordonlarda trafik sayımı ve anketler gerçekleştirilmiştir.\\n',\n",
       " '2\\n',\n",
       " 'Bu şekilde İstanbul’un lojistik altyapısının kente ve kentlilere olan sosyal, ekonomik, politik ve\\n',\n",
       " 'teknolojik etkileri belirlenerek tespit edilen sorunların çözümüne yönelik strateji ve öneriler\\n',\n",
       " 'geliştirilecektir. Kısa, orta ve uzun dönemli oluşturulacak eylem planlarıyla bir yandan sağlıklı\\n',\n",
       " 'mekânsal gelişim sağlanırken diğer yandan İstanbul Ulaşım Ana Planı’na entegre bir gelişim\\n',\n",
       " 'sağlanacaktır.\\n',\n",
       " 'Çalışmada hızlı ve doğru bir veri kümesine ulaşmak için hazırlık aşamasından başlayarak veri\\n',\n",
       " 'teslimine kadar olan süreçler önceden belirlenmiş metodoloji ve iş planına uygun şekilde\\n',\n",
       " 'gerçekleştirilmiştir.\\n',\n",
       " '1.2 Çalışmanın Kapsamı\\n',\n",
       " 'Çalışma kapsamında, İstanbul’da yük taşıyan araç trafiği düzeyinin belirlenerek lojistik atama\\n',\n",
       " 'modelinde kullanılmak üzere, İstanbul, Gebze ve Dilovası’nda yer alan belirli lojistik odak ve\\n',\n",
       " 'terminallerin yoğunlaştığı bölgelerin giriş- çıkışlarında, İstanbul trafiğini temsil eden perdekordon hatlarında gerçekleştirilmiştir (Şekil 1.1).\\n',\n",
       " 'Şekil 1.1 Saha Çalışması Kapsamı\\n',\n",
       " 'Perde-Kordon Anketleri İstanbul Ulaşım Ana Planı çalışması kapsamında ele alınan perde\\n',\n",
       " 'hatları noktalarında yapılmış olup sayımlar yük araçlarının yanı sıra tüm ulaşım araçları\\n',\n",
       " 'sayımlar da gerçekleştirilmiştir. Bu hat ve noktaların yanı sıra lojistik odak ve terminallerin\\n',\n",
       " 'kapılarında sayım ve anket çalışmaları gerçekleştirilmiş, gelen giden yükün cinsi, doluluk\\n',\n",
       " 'durumu, geldiği ve gittiği noktayı tespit etmeye yönelik veriler elde edilmiştir.\\n',\n",
       " 'Çalışma kapsamında aşağıda detaylı bilgileri verilen 33 lojistik odakta, 109 kesitte ve 5 dış\\n',\n",
       " 'istasyonda trafik sayımları ve anketler yapılmıştır. Teknik şartnamede 29 odak ve 99 kesit\\n',\n",
       " 'olarak belirtilmiştir.\\n',\n",
       " '1. Lojistik Odak ve\\n',\n",
       " 'Terminallerde Sayım ve Anket\\n',\n",
       " '2. Perde-Kordonlarda Trafik\\n',\n",
       " 'Sayımı\\n',\n",
       " '3\\n',\n",
       " 'Odaklarda yapılan sayımlarda şartnamede 5 kategori olarak belirtilen yük araçları 11\\n',\n",
       " 'kategoride sayılmıştır. Perde hatları ve dış istasyonlarda ise 5 tür lojistik yük araçlarına ek\\n',\n",
       " 'olarak 6 tür toplu ulaşım aracı olmak üzere toplam 11 kategoride sayım yapılmıştır']"
      ]
     },
     "execution_count": 17,
     "metadata": {},
     "output_type": "execute_result"
    }
   ],
   "source": [
    "fileobj.seek(0)\n",
    "\n",
    "fileobj.readlines()"
   ]
  },
  {
   "cell_type": "code",
   "execution_count": 18,
   "id": "f5821b0e",
   "metadata": {},
   "outputs": [
    {
     "name": "stdout",
     "output_type": "stream",
     "text": [
      "İlçeler  bazında  firmaların  kullandıkları  ortalama  alanlara  bakıldığında  \n",
      "\n",
      "en  fazla  alan kullanımının Ümraniye, Çatalca, Silivri, Şile, Arnavutköy gibi\n",
      "\n",
      "İstanbul’un alan bakımından daha büyük ve yerleşim alanlarının daha kısıtlı olduğu\n",
      "\n",
      "ilçeleri ön plana çıkmaktadır. Bunda arazi fiyatlarının daha düşük olması, karayolu, \n",
      "\n",
      "demiryolu ve kısmen de olsa denizyolu ana bağlantı noktalarına yakınlık, kullanılabilir \n",
      "\n"
     ]
    }
   ],
   "source": [
    "fileobj.seek(0)\n",
    "\n",
    "count = 0\n",
    "\n",
    "for i in range(5):\n",
    "    if(count < 5):\n",
    "        print(fileobj.readline())\n",
    "    else:\n",
    "        break\n",
    "    count += 1"
   ]
  },
  {
   "cell_type": "code",
   "execution_count": 1,
   "id": "f185462e",
   "metadata": {},
   "outputs": [
    {
     "data": {
      "text/plain": [
       "\"İlçeler  bazında  firmaların  kullandıkları  ortalama  alanlara  bakıldığında  \\nen  fazla  alan kullanımının Ümraniye, Çatalca, Silivri, Şile, Arnavutköy gibi\\nİstanbul’un alan bakımından daha büyük ve yerleşim alanlarının daha kısıtlı olduğu\\nilçeleri ön plana çıkmaktadır. Bunda arazi fiyatlarının daha düşük olması, karayolu, \\ndemiryolu ve kısmen de olsa denizyolu ana bağlantı noktalarına yakınlık, kullanılabilir \\nyerleşim dışı boş alanların fazlalığı gibi etmenler de önemli rol oynamaktadır. \\nKullanılan alanların niteliğine bakıldığında ise, üretim alanlarının yoğunlaştığı  \\nilçeler  yine  yukarıda  sayılan  nedenlerden  dolayı,  Şile,  Çatalca,  Arnavutköy, \\nSilivri, Beylikdüzü gibi yukarıda sayılan ilçelere benzer ilçelerdir. Depolama alanları \\naçısından değerlendirildiğinde ise, açık depolama alanlarının Şile, Çatalca, Beylikdüzü, \\nArnavutköy gibi ilçelerde yoğunlaştığı, kapalı depo alanlarının özellikle Ümraniye’de \\naşırı derecede toplandığı, raflı depolama alanlarında Çekmeköy’ün yine aşırı derecede \\nöne çıktığı, konteyner depolamaalanlarında kapalı ve raflı depolama alanları kadar olmasa \\nbile Beylikdüzü ve Eyüp ilçelerinin ön plana çıktığı, soğuk hava depolarında başta Silivri \\nolmak üzere Esenyurt ve Başakşehir’in başta sayılabileceği, antrepolarda ise yine yoğunluk \\nBeylikdüzü’ndeolmak üzere Arnavutköy ve Sancaktepe’nin ön plana çıktığı görülmektedir(Tablo 3.6). \\nSonuç olarak yük sevkiyatlarının giriş-çıkış noktalarının esas olarak depolama ve üretim alanları \\nolduğu düşünülürse yukarıda adları geçen Ümraniye, Çatalca, Silivri, Arnavutköy, Şile, Ümraniye, \\nBeylikdüzü, Çekmeköy gibi İstanbul’u bir anlamda çevreleyen ilçeler Lojistik Ana Planı hazırlanırken \\ndikkatle analiz edilmesi gereken ilçelerin başında gelmektedir. Tablo 3.6’de  genel  olarak  bahsedilen \\nve  ilçeler  bazında  ortaya  çıkan  görüntü,imalat sektöründeki  ortalama  alan  kullanımının  \\nilçeler  bazında  dağılımında  da  aynı  şekilde görülmektedir.  Silivri,  Çatalca,Arnavutköy, \\nŞile,  Büyükçekmece,  Beylikdüzü  gibi  ilçeler ortalama alan kullanımında yoğunluğu çeken \\nilçeler olmaktadır. Her ne kadar İstanbul ili içerisinde yerleşim alanları her ilçede yoğun \\nbir şekilde görülmekteyse de merkeze en uzakta bulunan ve endüstriyel açıdan yoğunlaşmanın \\ndaha fazla olduğu bu ilçelerde imalat sektörünün yoğun  olarak  görülmesi  normaldir.  \\nBu  yüzden  lojistik  açıdan  değerlendirmeler  yapılırken sevkiyat yoğunlukları, \\nlojistik odak merkezleri, yükleme ve boşaltma alanları gibi unsurlar belirlenirken \\nbu dağılım oldukça yol gösterici olacaktır. Özellikle İstanbul’a gerek Trakya ve Anadolu’dan\\nve  gerekse  Avrupa  ve  Asya’dan  kara,  demir  yada  denizyolu  ile  gelişlerin \\nİstanbul’un sınır ilçeleri olarak kabul edilen bu ilçelerden  gerçekleşiyor olması \\nda İmalat Sektörü  firmalarının  buralarda  yoğunlaşmasını  daha  net  açıklamaktadır.  \\nBuna  karşılık İstanbul’un nüfus  ve  yerleşim olarak yoğun ilçeleri olan Kadıköy, Bakırköy, \\nÜsküdar, Fatih gibi  ilçelerde  ise  doğal  olarak  imalat  sektörü  firmalarının  daha az  \\nfaaliyet gösterdiği görülmektedir.\\n\\nGünümüz yaşam koşullarının etkisiyle insan ve yük hareketliliği hızla artmaktadır. Kentsel\\nyaşamdaki günlük ihtiyaçların karşılanması bakımından zorunlu hale gelen yük taşımacılığı,\\ninsan yaşamı üzerinde çeşitli sosyal ve çevresel etkilere neden olmaktadır.\\nÖzellikle büyük şehirlerde hızlı nüfus artışıyla ortaya çıkan ihtiyaçların, kısa sürelerde\\ngiderilmesi çabası ulaştırma hizmetlerini zorlaştırmaktadır. Karayolu yolcu ve yük\\ntaşımacılığında, son otuz yılda diğer türler ile yapılan taşımacılıklara kıyasla hızlı bir gelişme\\nolmuş, bu dengesiz gelişmenin sonucu olarak karayolu taşımasının payı her iki taşıma için hızla\\nartarak %90'ın üzerine çıkmıştır.\\nÖzellikle İstanbul, sahip olduğu nüfus ve ekonomik potansiyel nedeniyle bu hızlı gelişimden\\nen çok etkilenen illerden biridir. Bu gerekçeyle; şehirdeki yük hareketlerinin oluşturduğu trafik\\nsıkışıklıkları, erişim kısıtlamaları, park sorunları, emisyonlar gibi ekonomik, sosyal ve çevresel\\netkiler göz önüne alınarak bir kentsel lojistik planlama yapılması ihtiyacı doğmuştur. Lojistik\\nalanında yapılan yatırımlardan en fazla yararın elde edilmesi;\\n\\uf0fc Ancak hedef ve amaçların iyi belirlenmesi,\\n\\uf0fc Yapılan yatırımlar ile elde edilecek yararların maliyetlerle dengesinin sağlanması,\\n\\uf0fc Yatırımları yapacak olan kuruluşların yatırım güçlerinin göz önünde tutulması,\\n\\uf0fc Lojistik unsurlar içindeki entegrasyonun sağlanması,\\n\\uf0fc Lojistik konusunda geleceğe yönelik taleplerin doğru kestirilebilmesine bağlıdır.\\nDiğer yanda limanlar, demiryolları, karayolları ve bunların tesisleri ile depolama alanları kent\\ncoğrafyası içinde yer bulmakta, kent içinde birçok kentsel kullanım ile birlikte yer almaktadır.\\nDiğer kentsel kullanımlarla birlikte kent içinde yer alan lojistik yatırımların diğer kentsel\\nkullanımlara ve kentsel yaşama olumsuz etkilerinin bertaraf edilmesi kapsamlı bir mekânsal\\nplanlama ile sağlanabilir.\\nBu amacın gerçekleşmesi ise ancak kapsamlı bir “Lojistik Ana Planı” ile mümkün\\ngörünmektedir. Böyle bir Planın gerektirdiği araştırma, analiz, eylem planı ve değerlendirme\\nraporuyla bu çalışmanın altyapısının oluşturulması hedeflenmektedir.\\n1.1 Çalışmanın Amacı\\nİstanbul Lojistik Ana Planı İşi Kapsamında Araç Sayımına Yönelik Saha Çalışması Yapılarak\\nVeri Alımı Hizmeti İşinin amacı, İstanbul’un lojistik hareketliliğine dair elde edilecek verilerle\\nİSTLAP’a bilimsel altlık oluşturmaktır. Çalışmada Teknik Şartname ile lokasyonları belirlenen\\nlojistik odaklarda, perde-kordonlarda trafik sayımı ve anketler gerçekleştirilmiştir.\\n2\\nBu şekilde İstanbul’un lojistik altyapısının kente ve kentlilere olan sosyal, ekonomik, politik ve\\nteknolojik etkileri belirlenerek tespit edilen sorunların çözümüne yönelik strateji ve öneriler\\ngeliştirilecektir. Kısa, orta ve uzun dönemli oluşturulacak eylem planlarıyla bir yandan sağlıklı\\nmekânsal gelişim sağlanırken diğer yandan İstanbul Ulaşım Ana Planı’na entegre bir gelişim\\nsağlanacaktır.\\nÇalışmada hızlı ve doğru bir veri kümesine ulaşmak için hazırlık aşamasından başlayarak veri\\nteslimine kadar olan süreçler önceden belirlenmiş metodoloji ve iş planına uygun şekilde\\ngerçekleştirilmiştir.\\n1.2 Çalışmanın Kapsamı\\nÇalışma kapsamında, İstanbul’da yük taşıyan araç trafiği düzeyinin belirlenerek lojistik atama\\nmodelinde kullanılmak üzere, İstanbul, Gebze ve Dilovası’nda yer alan belirli lojistik odak ve\\nterminallerin yoğunlaştığı bölgelerin giriş- çıkışlarında, İstanbul trafiğini temsil eden perdekordon hatlarında gerçekleştirilmiştir (Şekil 1.1).\\nŞekil 1.1 Saha Çalışması Kapsamı\\nPerde-Kordon Anketleri İstanbul Ulaşım Ana Planı çalışması kapsamında ele alınan perde\\nhatları noktalarında yapılmış olup sayımlar yük araçlarının yanı sıra tüm ulaşım araçları\\nsayımlar da gerçekleştirilmiştir. Bu hat ve noktaların yanı sıra lojistik odak ve terminallerin\\nkapılarında sayım ve anket çalışmaları gerçekleştirilmiş, gelen giden yükün cinsi, doluluk\\ndurumu, geldiği ve gittiği noktayı tespit etmeye yönelik veriler elde edilmiştir.\\nÇalışma kapsamında aşağıda detaylı bilgileri verilen 33 lojistik odakta, 109 kesitte ve 5 dış\\nistasyonda trafik sayımları ve anketler yapılmıştır. Teknik şartnamede 29 odak ve 99 kesit\\nolarak belirtilmiştir.\\n1. Lojistik Odak ve\\nTerminallerde Sayım ve Anket\\n2. Perde-Kordonlarda Trafik\\nSayımı\\n3\\nOdaklarda yapılan sayımlarda şartnamede 5 kategori olarak belirtilen yük araçları 11\\nkategoride sayılmıştır. Perde hatları ve dış istasyonlarda ise 5 tür lojistik yük araçlarına ek\\nolarak 6 tür toplu ulaşım aracı olmak üzere toplam 11 kategoride sayım yapılmıştırTHIS IS THE NEW CONTENT APPENDED IN THE FILE\""
      ]
     },
     "execution_count": 1,
     "metadata": {},
     "output_type": "execute_result"
    }
   ],
   "source": [
    "fileobj = open('mydata\\ibb_lojistik.txt', 'a', encoding = 'utf-8')\n",
    "\n",
    "fileobj.write(\"THIS IS THE NEW CONTENT APPENDED IN THE FILE\")\n",
    "\n",
    "fileobj.close()\n",
    "\n",
    "fileobj = open('mydata\\ibb_lojistik.txt', encoding = 'utf-8')\n",
    "\n",
    "fileobj.read()"
   ]
  },
  {
   "cell_type": "code",
   "execution_count": 2,
   "id": "7cea8efc",
   "metadata": {},
   "outputs": [
    {
     "data": {
      "text/plain": [
       "'NEW CONTENT ADDED IN THE FILE. PREVIOUS CONTENT HAS BEEN OVERWRITTEN'"
      ]
     },
     "execution_count": 2,
     "metadata": {},
     "output_type": "execute_result"
    }
   ],
   "source": [
    "fileobj = open('mydata\\ibb_lojistik.txt', 'w', encoding = 'utf-8')\n",
    "\n",
    "fileobj.write(\"NEW CONTENT ADDED IN THE FILE. PREVIOUS CONTENT HAS BEEN OVERWRITTEN\")\n",
    "\n",
    "fileobj.close()\n",
    "\n",
    "fileobj = open('mydata\\ibb_lojistik.txt', encoding = 'utf-8')\n",
    "\n",
    "fileobj.read()"
   ]
  },
  {
   "cell_type": "code",
   "execution_count": 6,
   "id": "d51ef8db",
   "metadata": {},
   "outputs": [
    {
     "data": {
      "text/plain": [
       "['First Line\\n',\n",
       " 'Second Line\\n',\n",
       " 'Third Line\\n',\n",
       " 'Fourth Line\\n',\n",
       " 'Fifth Line\\n']"
      ]
     },
     "execution_count": 6,
     "metadata": {},
     "output_type": "execute_result"
    }
   ],
   "source": [
    "fileobj = open(\"test5.txt\", \"w\")\n",
    "\n",
    "fileobj.write(\"First Line\\n\")\n",
    "fileobj.write(\"Second Line\\n\")\n",
    "fileobj.write(\"Third Line\\n\")\n",
    "fileobj.write(\"Fourth Line\\n\")\n",
    "fileobj.write(\"Fifth Line\\n\")\n",
    "fileobj.close()\n",
    "\n",
    "fileobj = open(\"test5.txt\")\n",
    "\n",
    "fileobj.readlines()"
   ]
  },
  {
   "cell_type": "code",
   "execution_count": 7,
   "id": "a7af8f4b",
   "metadata": {},
   "outputs": [],
   "source": [
    "import os #operating system"
   ]
  },
  {
   "cell_type": "code",
   "execution_count": 9,
   "id": "85336ba1",
   "metadata": {},
   "outputs": [],
   "source": [
    "os.remove('test2.txt')"
   ]
  },
  {
   "cell_type": "code",
   "execution_count": 10,
   "id": "56003c0e",
   "metadata": {},
   "outputs": [
    {
     "ename": "FileNotFoundError",
     "evalue": "[WinError 2] Sistem belirtilen dosyayı bulamıyor: 'test2.txt'",
     "output_type": "error",
     "traceback": [
      "\u001b[1;31m---------------------------------------------------------------------------\u001b[0m",
      "\u001b[1;31mFileNotFoundError\u001b[0m                         Traceback (most recent call last)",
      "\u001b[1;32m<ipython-input-10-1b9c7d4a7058>\u001b[0m in \u001b[0;36m<module>\u001b[1;34m\u001b[0m\n\u001b[1;32m----> 1\u001b[1;33m \u001b[0mos\u001b[0m\u001b[1;33m.\u001b[0m\u001b[0mremove\u001b[0m\u001b[1;33m(\u001b[0m\u001b[1;34m'test2.txt'\u001b[0m\u001b[1;33m)\u001b[0m\u001b[1;33m\u001b[0m\u001b[1;33m\u001b[0m\u001b[0m\n\u001b[0m",
      "\u001b[1;31mFileNotFoundError\u001b[0m: [WinError 2] Sistem belirtilen dosyayı bulamıyor: 'test2.txt'"
     ]
    }
   ],
   "source": [
    "os.remove('test2.txt')"
   ]
  },
  {
   "cell_type": "code",
   "execution_count": null,
   "id": "d5c93c96",
   "metadata": {},
   "outputs": [],
   "source": [
    "os.rmdir('folder1/') #Dizin (Directory) silme"
   ]
  },
  {
   "cell_type": "code",
   "execution_count": 11,
   "id": "3b088bfa",
   "metadata": {},
   "outputs": [],
   "source": [
    "import numpy as np"
   ]
  },
  {
   "cell_type": "code",
   "execution_count": 12,
   "id": "e3949613",
   "metadata": {},
   "outputs": [
    {
     "data": {
      "text/plain": [
       "array(['NEW', 'CONTENT', 'ADDED', 'IN', 'THE', 'FILE.', 'PREVIOUS',\n",
       "       'CONTENT', 'HAS', 'BEEN', 'OVERWRITTEN'], dtype='<U11')"
      ]
     },
     "execution_count": 12,
     "metadata": {},
     "output_type": "execute_result"
    }
   ],
   "source": [
    "p5 = np.loadtxt('mydata\\ibb_lojistik.txt', dtype = 'str')\n",
    "p5"
   ]
  },
  {
   "cell_type": "code",
   "execution_count": 13,
   "id": "9a6bc569",
   "metadata": {},
   "outputs": [
    {
     "data": {
      "text/plain": [
       "array(['NEW', 'CONTENT', 'ADDED', 'IN', 'THE', 'FILE.', 'PREVIOUS',\n",
       "       'CONTENT', 'HAS', 'BEEN', 'OVERWRITTEN'], dtype='<U11')"
      ]
     },
     "execution_count": 13,
     "metadata": {},
     "output_type": "execute_result"
    }
   ],
   "source": [
    "p10 = np.genfromtxt('mydata\\ibb_lojistik.txt', dtype = 'str')\n",
    "p10"
   ]
  },
  {
   "cell_type": "code",
   "execution_count": 14,
   "id": "9533b6ab",
   "metadata": {},
   "outputs": [],
   "source": [
    "#Hata ve İstisna İşleme (Error and Exception Handling)\n",
    "\"\"\"\n",
    "ArithmeticError, ZeroDivisionError, EOFError, IndexError, KeyError, SyntaxError, IndentationError,\n",
    "FileNotFoundError, try-except-else-finally\n",
    "\"\"\""
   ]
  },
  {
   "cell_type": "code",
   "execution_count": 15,
   "id": "98912390",
   "metadata": {},
   "outputs": [],
   "source": [
    "import sys"
   ]
  },
  {
   "cell_type": "code",
   "execution_count": 16,
   "id": "eb51e228",
   "metadata": {},
   "outputs": [
    {
     "name": "stdout",
     "output_type": "stream",
     "text": [
      "division by zero exception occured\n",
      "Run this block of code always\n"
     ]
    }
   ],
   "source": [
    "try:\n",
    "    print(100/0)\n",
    "    \n",
    "except:\n",
    "    print(sys.exc_info()[1], 'exception occured')\n",
    "    \n",
    "else:\n",
    "    print('No exception occured')\n",
    "    \n",
    "finally:\n",
    "    print('Run this block of code always')"
   ]
  },
  {
   "cell_type": "code",
   "execution_count": 17,
   "id": "4cbbff6c",
   "metadata": {},
   "outputs": [
    {
     "name": "stdout",
     "output_type": "stream",
     "text": [
      "Variable x is not defined\n"
     ]
    }
   ],
   "source": [
    "try:\n",
    "    print(x)\n",
    "    \n",
    "except:\n",
    "    print('Variable x is not defined')"
   ]
  },
  {
   "cell_type": "code",
   "execution_count": 18,
   "id": "e3d58002",
   "metadata": {},
   "outputs": [
    {
     "name": "stdout",
     "output_type": "stream",
     "text": [
      "BELOW EXCEPTION OCCURED\n",
      "[WinError 2] Sistem belirtilen dosyayı bulamıyor: 'test3.txt'\n",
      "Run this block of code always\n"
     ]
    }
   ],
   "source": [
    "try:\n",
    "    os.remove(\"test3.txt\")\n",
    "    \n",
    "except:\n",
    "    print('BELOW EXCEPTION OCCURED')\n",
    "    print(sys.exc_info()[1])\n",
    "    \n",
    "else:\n",
    "    print('No exception occured')\n",
    "    \n",
    "finally:\n",
    "    print('Run this block of code always')"
   ]
  },
  {
   "cell_type": "code",
   "execution_count": 21,
   "id": "a3c69004",
   "metadata": {},
   "outputs": [
    {
     "name": "stdout",
     "output_type": "stream",
     "text": [
      "Enter first number :- 12\n",
      "Enter second number :- 22\n",
      "0.5454545454545454\n",
      "FileNotFoundError occured\n"
     ]
    }
   ],
   "source": [
    "try:\n",
    "    x = int(input(\"Enter first number :- \"))\n",
    "    y = int(input(\"Enter second number :- \"))\n",
    "    print(x / y)\n",
    "    os.remove(\"test3.txt\")\n",
    "    \n",
    "except NameError:\n",
    "    print(\"NameError exception occured\")\n",
    "    \n",
    "except FileNotFoundError:\n",
    "    print(\"FileNotFoundError occured\")\n",
    "    \n",
    "except ZeroDivisionError:\n",
    "    print(\"ZeroDivisionError occured\")"
   ]
  },
  {
   "cell_type": "code",
   "execution_count": 24,
   "id": "925093d9",
   "metadata": {},
   "outputs": [
    {
     "name": "stdout",
     "output_type": "stream",
     "text": [
      "Enter a number :- 100\n",
      "<class 'ValueError'>\n"
     ]
    }
   ],
   "source": [
    "try:\n",
    "    x = int(input('Enter a number :- '))\n",
    "    if x > 50:\n",
    "        raise ValueError(x)\n",
    "        \n",
    "except:\n",
    "    print(sys.exc_info()[0])"
   ]
  },
  {
   "cell_type": "code",
   "execution_count": 25,
   "id": "dc46a720",
   "metadata": {},
   "outputs": [
    {
     "name": "stdout",
     "output_type": "stream",
     "text": [
      "ModuleNotFoundError exception occured\n"
     ]
    }
   ],
   "source": [
    "try: #built-in exceptions\n",
    "    import MyModule\n",
    "    \n",
    "except ModuleNotFoundError:\n",
    "    print(\"ModuleNotFoundError exception occured\")"
   ]
  },
  {
   "cell_type": "code",
   "execution_count": 26,
   "id": "5211e80e",
   "metadata": {},
   "outputs": [
    {
     "name": "stdout",
     "output_type": "stream",
     "text": [
      "KeyError exception raised\n"
     ]
    }
   ],
   "source": [
    "try:\n",
    "    mydict = {1 : 'Doğu', 2: 'Batı', 3: 'Kuzey'}\n",
    "    print(mydict[4])\n",
    "    \n",
    "except KeyError:\n",
    "    print('KeyError exception raised')"
   ]
  },
  {
   "cell_type": "code",
   "execution_count": 27,
   "id": "da43939e",
   "metadata": {},
   "outputs": [
    {
     "name": "stdout",
     "output_type": "stream",
     "text": [
      "IndexError exception raised\n"
     ]
    }
   ],
   "source": [
    "try:\n",
    "    mylist = [1,2,3,4,5,6]\n",
    "    print(mylist[10])\n",
    "    \n",
    "except IndexError:\n",
    "    print(\"IndexError exception raised\")"
   ]
  },
  {
   "cell_type": "code",
   "execution_count": 28,
   "id": "591a5025",
   "metadata": {},
   "outputs": [
    {
     "name": "stdout",
     "output_type": "stream",
     "text": [
      "TypeError exception raised\n"
     ]
    }
   ],
   "source": [
    "#TypeError -> iki farklı veri tipi bir araya gelir ise bu istisna oluşur.\n",
    "try:\n",
    "    a = 50\n",
    "    b = 'Güney'\n",
    "    c = a / b\n",
    "    \n",
    "except TypeError:\n",
    "    print(\"TypeError exception raised\")"
   ]
  },
  {
   "cell_type": "code",
   "execution_count": 29,
   "id": "ed28d4c9",
   "metadata": {},
   "outputs": [],
   "source": [
    "#Classes and Objects (Sınıflar ve Nesneler)"
   ]
  },
  {
   "cell_type": "code",
   "execution_count": null,
   "id": "9c08d67f",
   "metadata": {},
   "outputs": [],
   "source": [
    "\"\"\"\n",
    "class myclass:\n",
    "    \"Docstring\"\n",
    "    def __init__(self, var1, var2):\n",
    "        self.var1 = var1\n",
    "        self.var2 = var2\n",
    "    ...\n",
    "    ...\n",
    "    ...\n",
    "    def myfunc1(self):\n",
    "        print(self.var1)\n",
    "        print(self.var1)\n",
    "        \n",
    "    def myfunc2(self):\n",
    "    ...\n",
    "    \n",
    "\"\"\""
   ]
  },
  {
   "cell_type": "code",
   "execution_count": 30,
   "id": "b09cb8fb",
   "metadata": {},
   "outputs": [
    {
     "name": "stdout",
     "output_type": "stream",
     "text": [
      "10\n"
     ]
    }
   ],
   "source": [
    "class myclass:\n",
    "    var1 = 10\n",
    "    \n",
    "obj1 = myclass()\n",
    "print(obj1.var1)"
   ]
  },
  {
   "cell_type": "code",
   "execution_count": 31,
   "id": "442f198b",
   "metadata": {},
   "outputs": [
    {
     "name": "stdout",
     "output_type": "stream",
     "text": [
      "Name :-  Doğu\n",
      "Employee ID :-  34163\n",
      "Thanks for joining Turkey Banks Association Doğu!!!\n"
     ]
    }
   ],
   "source": [
    "class Employee:\n",
    "    \"\"\"Employee isminde bir sınıf yaratıyoruz\"\"\"\n",
    "    def __init__(self, name, empid):\n",
    "        self.name = name\n",
    "        self.empid = empid\n",
    "        \n",
    "    def greet(self):\n",
    "        print(\"Thanks for joining Turkey Banks Association {}!!!\".format(self.name))\n",
    "        \n",
    "emp1 = Employee(\"Doğu\", 34163) #instance (örnek) oluşturma\n",
    "\n",
    "print('Name :- ', emp1.name)\n",
    "print('Employee ID :- ', emp1.empid)\n",
    "emp1.greet()"
   ]
  },
  {
   "cell_type": "code",
   "execution_count": 32,
   "id": "c6f3a704",
   "metadata": {},
   "outputs": [
    {
     "data": {
      "text/plain": [
       "'Batı'"
      ]
     },
     "execution_count": 32,
     "metadata": {},
     "output_type": "execute_result"
    }
   ],
   "source": [
    "emp1.name = 'Batı'\n",
    "emp1.name"
   ]
  },
  {
   "cell_type": "code",
   "execution_count": 33,
   "id": "3795589e",
   "metadata": {},
   "outputs": [
    {
     "ename": "AttributeError",
     "evalue": "'Employee' object has no attribute 'empid'",
     "output_type": "error",
     "traceback": [
      "\u001b[1;31m---------------------------------------------------------------------------\u001b[0m",
      "\u001b[1;31mAttributeError\u001b[0m                            Traceback (most recent call last)",
      "\u001b[1;32m<ipython-input-33-3bd7df91569c>\u001b[0m in \u001b[0;36m<module>\u001b[1;34m\u001b[0m\n\u001b[0;32m      1\u001b[0m \u001b[1;32mdel\u001b[0m \u001b[0memp1\u001b[0m\u001b[1;33m.\u001b[0m\u001b[0mempid\u001b[0m\u001b[1;33m\u001b[0m\u001b[1;33m\u001b[0m\u001b[0m\n\u001b[1;32m----> 2\u001b[1;33m \u001b[0memp1\u001b[0m\u001b[1;33m.\u001b[0m\u001b[0mempid\u001b[0m\u001b[1;33m\u001b[0m\u001b[1;33m\u001b[0m\u001b[0m\n\u001b[0m",
      "\u001b[1;31mAttributeError\u001b[0m: 'Employee' object has no attribute 'empid'"
     ]
    }
   ],
   "source": [
    "del emp1.empid\n",
    "emp1.empid"
   ]
  },
  {
   "cell_type": "code",
   "execution_count": 34,
   "id": "6d710d89",
   "metadata": {},
   "outputs": [
    {
     "ename": "NameError",
     "evalue": "name 'emp1' is not defined",
     "output_type": "error",
     "traceback": [
      "\u001b[1;31m---------------------------------------------------------------------------\u001b[0m",
      "\u001b[1;31mNameError\u001b[0m                                 Traceback (most recent call last)",
      "\u001b[1;32m<ipython-input-34-0b43e47f34a0>\u001b[0m in \u001b[0;36m<module>\u001b[1;34m\u001b[0m\n\u001b[0;32m      1\u001b[0m \u001b[1;32mdel\u001b[0m \u001b[0memp1\u001b[0m\u001b[1;33m\u001b[0m\u001b[1;33m\u001b[0m\u001b[0m\n\u001b[1;32m----> 2\u001b[1;33m \u001b[0memp1\u001b[0m\u001b[1;33m\u001b[0m\u001b[1;33m\u001b[0m\u001b[0m\n\u001b[0m",
      "\u001b[1;31mNameError\u001b[0m: name 'emp1' is not defined"
     ]
    }
   ],
   "source": [
    "del emp1\n",
    "emp1"
   ]
  },
  {
   "cell_type": "code",
   "execution_count": 35,
   "id": "542d99fc",
   "metadata": {},
   "outputs": [
    {
     "name": "stdout",
     "output_type": "stream",
     "text": [
      "Name :-  Michael\n",
      "Employee ID :-  34162\n",
      "Thanks for joining Turkey Banks Association Michael!!!\n"
     ]
    }
   ],
   "source": [
    "emp2 = Employee('Michael', 34162)\n",
    "\n",
    "print('Name :- ', emp2.name)\n",
    "print('Employee ID :- ', emp2.empid)\n",
    "emp2.greet()"
   ]
  },
  {
   "cell_type": "code",
   "execution_count": 36,
   "id": "202624fd",
   "metadata": {},
   "outputs": [
    {
     "data": {
      "text/plain": [
       "'United States of America'"
      ]
     },
     "execution_count": 36,
     "metadata": {},
     "output_type": "execute_result"
    }
   ],
   "source": [
    "emp2.country = 'United States of America'\n",
    "emp2.country"
   ]
  },
  {
   "cell_type": "code",
   "execution_count": null,
   "id": "7aad4717",
   "metadata": {},
   "outputs": [],
   "source": [
    "#Inheritance (Miras)\n",
    "\"\"\"\n",
    "Mevcut (ilk oluşturduğumuz) sınıflara literatürde -> Super Class, Parent Class, Base Class\n",
    "Sonradan türettiğimiz sınıflara ise literatürde -> Sub Class, Child Class, Derived Class\n",
    "\"IS A\" ilişkisi vardır. Student is a person. \n",
    "\"\"\""
   ]
  }
 ],
 "metadata": {
  "kernelspec": {
   "display_name": "Python 3",
   "language": "python",
   "name": "python3"
  },
  "language_info": {
   "codemirror_mode": {
    "name": "ipython",
    "version": 3
   },
   "file_extension": ".py",
   "mimetype": "text/x-python",
   "name": "python",
   "nbconvert_exporter": "python",
   "pygments_lexer": "ipython3",
   "version": "3.8.8"
  }
 },
 "nbformat": 4,
 "nbformat_minor": 5
}
