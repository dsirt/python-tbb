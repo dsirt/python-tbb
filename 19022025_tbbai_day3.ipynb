{
  "metadata": {
    "kernelspec": {
      "language": "python",
      "display_name": "Python 3",
      "name": "python3"
    },
    "language_info": {
      "name": "python",
      "version": "3.10.12",
      "mimetype": "text/x-python",
      "codemirror_mode": {
        "name": "ipython",
        "version": 3
      },
      "pygments_lexer": "ipython3",
      "nbconvert_exporter": "python",
      "file_extension": ".py"
    },
    "kaggle": {
      "accelerator": "none",
      "dataSources": [
        {
          "sourceId": 7953792,
          "sourceType": "datasetVersion",
          "datasetId": 4677834
        },
        {
          "sourceId": 7954502,
          "sourceType": "datasetVersion",
          "datasetId": 4678360
        },
        {
          "sourceId": 7955054,
          "sourceType": "datasetVersion",
          "datasetId": 4678783
        },
        {
          "sourceId": 7962819,
          "sourceType": "datasetVersion",
          "datasetId": 4684418
        }
      ],
      "dockerImageVersionId": 30886,
      "isInternetEnabled": true,
      "language": "python",
      "sourceType": "notebook",
      "isGpuEnabled": false
    },
    "colab": {
      "provenance": [],
      "include_colab_link": true
    }
  },
  "nbformat_minor": 0,
  "nbformat": 4,
  "cells": [
    {
      "cell_type": "markdown",
      "metadata": {
        "id": "view-in-github",
        "colab_type": "text"
      },
      "source": [
        "<a href=\"https://colab.research.google.com/github/dsirt/python-tbb/blob/main/19022025_tbbai_day3.ipynb\" target=\"_parent\"><img src=\"https://colab.research.google.com/assets/colab-badge.svg\" alt=\"Open In Colab\"/></a>"
      ]
    },
    {
      "cell_type": "code",
      "source": [
        "import pandas as pd\n",
        "import numpy as np\n",
        "import matplotlib.pyplot as plt\n",
        "import seaborn as sns"
      ],
      "metadata": {
        "trusted": true,
        "execution": {
          "iopub.status.busy": "2025-02-19T12:05:04.714329Z",
          "iopub.execute_input": "2025-02-19T12:05:04.714652Z",
          "iopub.status.idle": "2025-02-19T12:05:05.657324Z",
          "shell.execute_reply.started": "2025-02-19T12:05:04.714629Z",
          "shell.execute_reply": "2025-02-19T12:05:05.655993Z"
        },
        "id": "GAbUi6QgF0uM"
      },
      "outputs": [],
      "execution_count": null
    },
    {
      "cell_type": "code",
      "source": [
        "#Multiple Regression\n",
        "\"\"\"\n",
        "y = b0 + b1*x1 + b2*x2 + ... + bn*xn\n",
        "\"\"\""
      ],
      "metadata": {
        "trusted": true,
        "execution": {
          "iopub.status.busy": "2025-02-19T12:05:05.658676Z",
          "iopub.execute_input": "2025-02-19T12:05:05.659224Z",
          "iopub.status.idle": "2025-02-19T12:05:05.666345Z",
          "shell.execute_reply.started": "2025-02-19T12:05:05.659192Z",
          "shell.execute_reply": "2025-02-19T12:05:05.665163Z"
        },
        "id": "ZhzE_-AWF0uO",
        "outputId": "5e201101-71ef-4a97-fd74-f60fa51efdf2"
      },
      "outputs": [
        {
          "execution_count": 4,
          "output_type": "execute_result",
          "data": {
            "text/plain": "'\\ny = b0 + b1*x1 + b2*x2 + ... + bn*xn\\n'"
          },
          "metadata": {}
        }
      ],
      "execution_count": null
    },
    {
      "cell_type": "code",
      "source": [
        "dataset = pd.read_csv('/kaggle/input/50-startups-csv/50_Startups.csv')\n",
        "dataset.head()"
      ],
      "metadata": {
        "trusted": true,
        "execution": {
          "iopub.status.busy": "2025-02-19T12:05:05.668383Z",
          "iopub.execute_input": "2025-02-19T12:05:05.668685Z",
          "iopub.status.idle": "2025-02-19T12:05:05.704501Z",
          "shell.execute_reply.started": "2025-02-19T12:05:05.668657Z",
          "shell.execute_reply": "2025-02-19T12:05:05.703266Z"
        },
        "id": "k4GBeozdF0uO",
        "outputId": "e58df4dd-bec6-49da-9a9e-82bfe7ee9bc5"
      },
      "outputs": [
        {
          "execution_count": 5,
          "output_type": "execute_result",
          "data": {
            "text/plain": "   R&D Spend  Administration  Marketing Spend       State     Profit\n0  165349.20       136897.80        471784.10    New York  192261.83\n1  162597.70       151377.59        443898.53  California  191792.06\n2  153441.51       101145.55        407934.54     Florida  191050.39\n3  144372.41       118671.85        383199.62    New York  182901.99\n4  142107.34        91391.77        366168.42     Florida  166187.94",
            "text/html": "<div>\n<style scoped>\n    .dataframe tbody tr th:only-of-type {\n        vertical-align: middle;\n    }\n\n    .dataframe tbody tr th {\n        vertical-align: top;\n    }\n\n    .dataframe thead th {\n        text-align: right;\n    }\n</style>\n<table border=\"1\" class=\"dataframe\">\n  <thead>\n    <tr style=\"text-align: right;\">\n      <th></th>\n      <th>R&amp;D Spend</th>\n      <th>Administration</th>\n      <th>Marketing Spend</th>\n      <th>State</th>\n      <th>Profit</th>\n    </tr>\n  </thead>\n  <tbody>\n    <tr>\n      <th>0</th>\n      <td>165349.20</td>\n      <td>136897.80</td>\n      <td>471784.10</td>\n      <td>New York</td>\n      <td>192261.83</td>\n    </tr>\n    <tr>\n      <th>1</th>\n      <td>162597.70</td>\n      <td>151377.59</td>\n      <td>443898.53</td>\n      <td>California</td>\n      <td>191792.06</td>\n    </tr>\n    <tr>\n      <th>2</th>\n      <td>153441.51</td>\n      <td>101145.55</td>\n      <td>407934.54</td>\n      <td>Florida</td>\n      <td>191050.39</td>\n    </tr>\n    <tr>\n      <th>3</th>\n      <td>144372.41</td>\n      <td>118671.85</td>\n      <td>383199.62</td>\n      <td>New York</td>\n      <td>182901.99</td>\n    </tr>\n    <tr>\n      <th>4</th>\n      <td>142107.34</td>\n      <td>91391.77</td>\n      <td>366168.42</td>\n      <td>Florida</td>\n      <td>166187.94</td>\n    </tr>\n  </tbody>\n</table>\n</div>"
          },
          "metadata": {}
        }
      ],
      "execution_count": null
    },
    {
      "cell_type": "code",
      "source": [
        "dataset.shape"
      ],
      "metadata": {
        "trusted": true,
        "execution": {
          "iopub.status.busy": "2025-02-19T12:05:05.706090Z",
          "iopub.execute_input": "2025-02-19T12:05:05.706443Z",
          "iopub.status.idle": "2025-02-19T12:05:05.712223Z",
          "shell.execute_reply.started": "2025-02-19T12:05:05.706414Z",
          "shell.execute_reply": "2025-02-19T12:05:05.711076Z"
        },
        "id": "G0yGVBSpF0uP",
        "outputId": "869190d1-33af-44eb-b546-85183ee7649a"
      },
      "outputs": [
        {
          "execution_count": 6,
          "output_type": "execute_result",
          "data": {
            "text/plain": "(50, 5)"
          },
          "metadata": {}
        }
      ],
      "execution_count": null
    },
    {
      "cell_type": "code",
      "source": [
        "import warnings\n",
        "warnings.filterwarnings('ignore')"
      ],
      "metadata": {
        "trusted": true,
        "execution": {
          "iopub.status.busy": "2025-02-19T12:05:05.713195Z",
          "iopub.execute_input": "2025-02-19T12:05:05.713471Z",
          "iopub.status.idle": "2025-02-19T12:05:05.729748Z",
          "shell.execute_reply.started": "2025-02-19T12:05:05.713448Z",
          "shell.execute_reply": "2025-02-19T12:05:05.728318Z"
        },
        "id": "p4MOOAP2F0uP"
      },
      "outputs": [],
      "execution_count": null
    },
    {
      "cell_type": "code",
      "source": [
        "sns.pairplot(dataset)\n",
        "plt.show()"
      ],
      "metadata": {
        "trusted": true,
        "execution": {
          "iopub.status.busy": "2025-02-19T12:05:05.731019Z",
          "iopub.execute_input": "2025-02-19T12:05:05.731414Z",
          "iopub.status.idle": "2025-02-19T12:05:09.616342Z",
          "shell.execute_reply.started": "2025-02-19T12:05:05.731370Z",
          "shell.execute_reply": "2025-02-19T12:05:09.615282Z"
        },
        "id": "tUHdQFYaF0uP",
        "outputId": "646e4735-e304-4295-b904-2bd740a04cd1"
      },
      "outputs": [
        {
          "output_type": "display_data",
          "data": {
            "text/plain": "<Figure size 1000x1000 with 20 Axes>",
            "image/png": "[encoded data removed]"
          },
          "metadata": {}
        }
      ],
      "execution_count": null
    },
    {
      "cell_type": "code",
      "source": [
        "dataset = dataset.drop('State', axis = True)\n",
        "dataset.head()"
      ],
      "metadata": {
        "trusted": true,
        "execution": {
          "iopub.status.busy": "2025-02-19T12:05:09.617514Z",
          "iopub.execute_input": "2025-02-19T12:05:09.617858Z",
          "iopub.status.idle": "2025-02-19T12:05:09.631235Z",
          "shell.execute_reply.started": "2025-02-19T12:05:09.617821Z",
          "shell.execute_reply": "2025-02-19T12:05:09.630072Z"
        },
        "id": "JPt0V8caF0uP",
        "outputId": "4c7bf4bc-f731-489a-fb0f-bf0337880d6f"
      },
      "outputs": [
        {
          "execution_count": 9,
          "output_type": "execute_result",
          "data": {
            "text/plain": "   R&D Spend  Administration  Marketing Spend     Profit\n0  165349.20       136897.80        471784.10  192261.83\n1  162597.70       151377.59        443898.53  191792.06\n2  153441.51       101145.55        407934.54  191050.39\n3  144372.41       118671.85        383199.62  182901.99\n4  142107.34        91391.77        366168.42  166187.94",
            "text/html": "<div>\n<style scoped>\n    .dataframe tbody tr th:only-of-type {\n        vertical-align: middle;\n    }\n\n    .dataframe tbody tr th {\n        vertical-align: top;\n    }\n\n    .dataframe thead th {\n        text-align: right;\n    }\n</style>\n<table border=\"1\" class=\"dataframe\">\n  <thead>\n    <tr style=\"text-align: right;\">\n      <th></th>\n      <th>R&amp;D Spend</th>\n      <th>Administration</th>\n      <th>Marketing Spend</th>\n      <th>Profit</th>\n    </tr>\n  </thead>\n  <tbody>\n    <tr>\n      <th>0</th>\n      <td>165349.20</td>\n      <td>136897.80</td>\n      <td>471784.10</td>\n      <td>192261.83</td>\n    </tr>\n    <tr>\n      <th>1</th>\n      <td>162597.70</td>\n      <td>151377.59</td>\n      <td>443898.53</td>\n      <td>191792.06</td>\n    </tr>\n    <tr>\n      <th>2</th>\n      <td>153441.51</td>\n      <td>101145.55</td>\n      <td>407934.54</td>\n      <td>191050.39</td>\n    </tr>\n    <tr>\n      <th>3</th>\n      <td>144372.41</td>\n      <td>118671.85</td>\n      <td>383199.62</td>\n      <td>182901.99</td>\n    </tr>\n    <tr>\n      <th>4</th>\n      <td>142107.34</td>\n      <td>91391.77</td>\n      <td>366168.42</td>\n      <td>166187.94</td>\n    </tr>\n  </tbody>\n</table>\n</div>"
          },
          "metadata": {}
        }
      ],
      "execution_count": null
    },
    {
      "cell_type": "code",
      "source": [
        "corr = dataset.corr()\n",
        "sns.heatmap(corr, annot = True)\n",
        "plt.show()"
      ],
      "metadata": {
        "trusted": true,
        "execution": {
          "iopub.status.busy": "2025-02-19T12:05:09.633965Z",
          "iopub.execute_input": "2025-02-19T12:05:09.634268Z",
          "iopub.status.idle": "2025-02-19T12:05:09.905041Z",
          "shell.execute_reply.started": "2025-02-19T12:05:09.634241Z",
          "shell.execute_reply": "2025-02-19T12:05:09.903692Z"
        },
        "id": "Kwommh-VF0uP",
        "outputId": "4178b974-6637-4043-ef2a-dbb0b71d3fdf"
      },
      "outputs": [
        {
          "output_type": "display_data",
          "data": {
            "text/plain": "<Figure size 640x480 with 2 Axes>",
            "image/png": "[encoded data removed]"
          },
          "metadata": {}
        }
      ],
      "execution_count": null
    },
    {
      "cell_type": "code",
      "source": [
        "#bağımlı - bağımsız değişken ayrımı\n",
        "X = dataset.drop('Profit', axis = 1)\n",
        "y = dataset['Profit']"
      ],
      "metadata": {
        "trusted": true,
        "execution": {
          "iopub.status.busy": "2025-02-19T12:05:09.907010Z",
          "iopub.execute_input": "2025-02-19T12:05:09.907370Z",
          "iopub.status.idle": "2025-02-19T12:05:09.912579Z",
          "shell.execute_reply.started": "2025-02-19T12:05:09.907343Z",
          "shell.execute_reply": "2025-02-19T12:05:09.911571Z"
        },
        "id": "tmlzBYRZF0uP"
      },
      "outputs": [],
      "execution_count": null
    },
    {
      "cell_type": "code",
      "source": [
        "#Normalizasyon (MinMaxScaler) - Standardizasyon (StandardScaler)\n",
        "\"\"\"\n",
        "z-score = x - mean / std.dev.\n",
        "\"\"\"\n",
        "X.head()"
      ],
      "metadata": {
        "trusted": true,
        "execution": {
          "iopub.status.busy": "2025-02-19T12:05:09.913542Z",
          "iopub.execute_input": "2025-02-19T12:05:09.914060Z",
          "iopub.status.idle": "2025-02-19T12:05:09.940447Z",
          "shell.execute_reply.started": "2025-02-19T12:05:09.914027Z",
          "shell.execute_reply": "2025-02-19T12:05:09.939204Z"
        },
        "id": "SBQjj2uMF0uQ",
        "outputId": "386292c7-7e04-4bf4-e7b7-48bf150f3211"
      },
      "outputs": [
        {
          "execution_count": 12,
          "output_type": "execute_result",
          "data": {
            "text/plain": "   R&D Spend  Administration  Marketing Spend\n0  165349.20       136897.80        471784.10\n1  162597.70       151377.59        443898.53\n2  153441.51       101145.55        407934.54\n3  144372.41       118671.85        383199.62\n4  142107.34        91391.77        366168.42",
            "text/html": "<div>\n<style scoped>\n    .dataframe tbody tr th:only-of-type {\n        vertical-align: middle;\n    }\n\n    .dataframe tbody tr th {\n        vertical-align: top;\n    }\n\n    .dataframe thead th {\n        text-align: right;\n    }\n</style>\n<table border=\"1\" class=\"dataframe\">\n  <thead>\n    <tr style=\"text-align: right;\">\n      <th></th>\n      <th>R&amp;D Spend</th>\n      <th>Administration</th>\n      <th>Marketing Spend</th>\n    </tr>\n  </thead>\n  <tbody>\n    <tr>\n      <th>0</th>\n      <td>165349.20</td>\n      <td>136897.80</td>\n      <td>471784.10</td>\n    </tr>\n    <tr>\n      <th>1</th>\n      <td>162597.70</td>\n      <td>151377.59</td>\n      <td>443898.53</td>\n    </tr>\n    <tr>\n      <th>2</th>\n      <td>153441.51</td>\n      <td>101145.55</td>\n      <td>407934.54</td>\n    </tr>\n    <tr>\n      <th>3</th>\n      <td>144372.41</td>\n      <td>118671.85</td>\n      <td>383199.62</td>\n    </tr>\n    <tr>\n      <th>4</th>\n      <td>142107.34</td>\n      <td>91391.77</td>\n      <td>366168.42</td>\n    </tr>\n  </tbody>\n</table>\n</div>"
          },
          "metadata": {}
        }
      ],
      "execution_count": null
    },
    {
      "cell_type": "code",
      "source": [
        "from sklearn.preprocessing import StandardScaler\n",
        "sc = StandardScaler()\n",
        "X = sc.fit_transform(X)"
      ],
      "metadata": {
        "trusted": true,
        "execution": {
          "iopub.status.busy": "2025-02-19T12:05:09.941536Z",
          "iopub.execute_input": "2025-02-19T12:05:09.941959Z",
          "iopub.status.idle": "2025-02-19T12:05:10.006189Z",
          "shell.execute_reply.started": "2025-02-19T12:05:09.941918Z",
          "shell.execute_reply": "2025-02-19T12:05:10.004961Z"
        },
        "id": "14LeKo8NF0uQ"
      },
      "outputs": [],
      "execution_count": null
    },
    {
      "cell_type": "code",
      "source": [
        "X"
      ],
      "metadata": {
        "trusted": true,
        "execution": {
          "iopub.status.busy": "2025-02-19T12:05:10.007267Z",
          "iopub.execute_input": "2025-02-19T12:05:10.007660Z",
          "iopub.status.idle": "2025-02-19T12:05:10.135117Z",
          "shell.execute_reply.started": "2025-02-19T12:05:10.007618Z",
          "shell.execute_reply": "2025-02-19T12:05:10.133996Z"
        },
        "id": "_qNpEhQ0F0uQ",
        "outputId": "05fa97ec-05d3-416a-e55e-561ee986c1fe"
      },
      "outputs": [
        {
          "execution_count": 14,
          "output_type": "execute_result",
          "data": {
            "text/plain": "array([[ 2.01641149e+00,  5.60752915e-01,  2.15394309e+00],\n       [ 1.95586034e+00,  1.08280658e+00,  1.92360040e+00],\n       [ 1.75436374e+00, -7.28257028e-01,  1.62652767e+00],\n       [ 1.55478369e+00, -9.63646307e-02,  1.42221024e+00],\n       [ 1.50493720e+00, -1.07991935e+00,  1.28152771e+00],\n       [ 1.27980001e+00, -7.76239071e-01,  1.25421046e+00],\n       [ 1.34006641e+00,  9.32147208e-01, -6.88149930e-01],\n       [ 1.24505666e+00,  8.71980011e-01,  9.32185978e-01],\n       [ 1.03036886e+00,  9.86952101e-01,  8.30886909e-01],\n       [ 1.09181921e+00, -4.56640246e-01,  7.76107440e-01],\n       [ 6.20398248e-01, -3.87599089e-01,  1.49807267e-01],\n       [ 5.93085418e-01, -1.06553960e+00,  3.19833623e-01],\n       [ 4.43259872e-01,  2.15449064e-01,  3.20617441e-01],\n       [ 4.02077603e-01,  5.10178953e-01,  3.43956788e-01],\n       [ 1.01718075e+00,  1.26919939e+00,  3.75742273e-01],\n       [ 8.97913123e-01,  4.58678535e-02,  4.19218702e-01],\n       [ 9.44411957e-02,  9.11841968e-03,  4.40446224e-01],\n       [ 4.60720127e-01,  8.55666318e-01,  5.91016724e-01],\n       [ 3.96724938e-01, -2.58465367e-01,  6.92992062e-01],\n       [ 2.79441650e-01,  1.15983657e+00, -1.74312698e+00],\n       [ 5.57260867e-02, -2.69587651e-01,  7.23925995e-01],\n       [ 1.02723599e-01,  1.16918609e+00,  7.32787791e-01],\n       [ 6.00657792e-03,  5.18495648e-02,  7.62375876e-01],\n       [-1.36200724e-01, -5.62211268e-01,  7.74348908e-01],\n       [ 7.31146008e-02, -7.95469167e-01, -5.81939297e-01],\n       [-1.99311688e-01,  6.56489139e-01, -6.03516725e-01],\n       [ 3.53702028e-02,  8.21717916e-01, -6.35835495e-01],\n       [-3.55189938e-02,  2.35068543e-01,  1.17427116e+00],\n       [-1.68792717e-01,  2.21014050e+00, -7.67189437e-01],\n       [-1.78608540e-01,  1.14245677e+00, -8.58133663e-01],\n       [-2.58074369e-01, -2.05628659e-01, -9.90357166e-01],\n       [-2.76958231e-01,  1.13055391e+00, -1.01441945e+00],\n       [-2.26948675e-01,  2.83923813e-01, -1.36244978e+00],\n       [-4.01128925e-01, -6.59324033e-01,  2.98172434e-02],\n       [-6.00682122e-01,  1.31053525e+00, -1.87861793e-03],\n       [-6.09749941e-01, -1.30865753e+00, -4.54931587e-02],\n       [-9.91570153e-01,  2.05924691e-01, -8.17625734e-02],\n       [-6.52532310e-01, -2.52599402e+00, -1.15608256e-01],\n       [-1.17717755e+00, -1.99727037e+00, -2.12784866e-01],\n       [-7.73820359e-01, -1.38312156e+00, -2.97583276e-01],\n       [-9.89577015e-01, -1.00900218e-01, -3.15785883e-01],\n       [-1.00853372e+00, -1.32079581e+00, -3.84552407e-01],\n       [-1.10210556e+00, -9.06937535e-01, -5.20595959e-01],\n       [-1.28113364e+00,  2.17681524e-01, -1.44960468e+00],\n       [-1.13430539e+00,  1.20641936e+00, -1.50907418e+00],\n       [-1.60035036e+00,  1.01253936e-01, -1.72739998e+00],\n       [-1.59341322e+00, -1.99321741e-01,  7.11122474e-01],\n       [-1.62236202e+00,  5.07721876e-01, -1.74312698e+00],\n       [-1.61043334e+00, -2.50940884e+00, -1.74312698e+00],\n       [-1.62236202e+00, -1.57225506e-01, -1.36998473e+00]])"
          },
          "metadata": {}
        }
      ],
      "execution_count": null
    },
    {
      "cell_type": "code",
      "source": [
        "from sklearn.model_selection import train_test_split\n",
        "X_train, X_test, y_train, y_test = train_test_split(X, y, test_size = 0.2, random_state = 0)"
      ],
      "metadata": {
        "trusted": true,
        "execution": {
          "iopub.status.busy": "2025-02-19T12:05:10.136158Z",
          "iopub.execute_input": "2025-02-19T12:05:10.136450Z",
          "iopub.status.idle": "2025-02-19T12:05:10.181059Z",
          "shell.execute_reply.started": "2025-02-19T12:05:10.136425Z",
          "shell.execute_reply": "2025-02-19T12:05:10.179886Z"
        },
        "id": "womrXhkzF0uQ"
      },
      "outputs": [],
      "execution_count": null
    },
    {
      "cell_type": "code",
      "source": [
        "#modelimizi inşa edelim (eğitim)\n",
        "from sklearn.linear_model import LinearRegression\n",
        "regressor = LinearRegression()\n",
        "regressor.fit(X_train, y_train)"
      ],
      "metadata": {
        "trusted": true,
        "execution": {
          "iopub.status.busy": "2025-02-19T12:05:10.181918Z",
          "iopub.execute_input": "2025-02-19T12:05:10.182202Z",
          "iopub.status.idle": "2025-02-19T12:05:10.218695Z",
          "shell.execute_reply.started": "2025-02-19T12:05:10.182177Z",
          "shell.execute_reply": "2025-02-19T12:05:10.217530Z"
        },
        "id": "xMjBoSe8F0uQ",
        "outputId": "3e1c6a3f-979e-4735-e759-a39489a33dd7"
      },
      "outputs": [
        {
          "execution_count": 16,
          "output_type": "execute_result",
          "data": {
            "text/plain": "LinearRegression()",
            "text/html": "<style>#sk-container-id-1 {color: black;background-color: white;}#sk-container-id-1 pre{padding: 0;}#sk-container-id-1 div.sk-toggleable {background-color: white;}#sk-container-id-1 label.sk-toggleable__label {cursor: pointer;display: block;width: 100%;margin-bottom: 0;padding: 0.3em;box-sizing: border-box;text-align: center;}#sk-container-id-1 label.sk-toggleable__label-arrow:before {content: \"▸\";float: left;margin-right: 0.25em;color: #696969;}#sk-container-id-1 label.sk-toggleable__label-arrow:hover:before {color: black;}#sk-container-id-1 div.sk-estimator:hover label.sk-toggleable__label-arrow:before {color: black;}#sk-container-id-1 div.sk-toggleable__content {max-height: 0;max-width: 0;overflow: hidden;text-align: left;background-color: #f0f8ff;}#sk-container-id-1 div.sk-toggleable__content pre {margin: 0.2em;color: black;border-radius: 0.25em;background-color: #f0f8ff;}#sk-container-id-1 input.sk-toggleable__control:checked~div.sk-toggleable__content {max-height: 200px;max-width: 100%;overflow: auto;}#sk-container-id-1 input.sk-toggleable__control:checked~label.sk-toggleable__label-arrow:before {content: \"▾\";}#sk-container-id-1 div.sk-estimator input.sk-toggleable__control:checked~label.sk-toggleable__label {background-color: #d4ebff;}#sk-container-id-1 div.sk-label input.sk-toggleable__control:checked~label.sk-toggleable__label {background-color: #d4ebff;}#sk-container-id-1 input.sk-hidden--visually {border: 0;clip: rect(1px 1px 1px 1px);clip: rect(1px, 1px, 1px, 1px);height: 1px;margin: -1px;overflow: hidden;padding: 0;position: absolute;width: 1px;}#sk-container-id-1 div.sk-estimator {font-family: monospace;background-color: #f0f8ff;border: 1px dotted black;border-radius: 0.25em;box-sizing: border-box;margin-bottom: 0.5em;}#sk-container-id-1 div.sk-estimator:hover {background-color: #d4ebff;}#sk-container-id-1 div.sk-parallel-item::after {content: \"\";width: 100%;border-bottom: 1px solid gray;flex-grow: 1;}#sk-container-id-1 div.sk-label:hover label.sk-toggleable__label {background-color: #d4ebff;}#sk-container-id-1 div.sk-serial::before {content: \"\";position: absolute;border-left: 1px solid gray;box-sizing: border-box;top: 0;bottom: 0;left: 50%;z-index: 0;}#sk-container-id-1 div.sk-serial {display: flex;flex-direction: column;align-items: center;background-color: white;padding-right: 0.2em;padding-left: 0.2em;position: relative;}#sk-container-id-1 div.sk-item {position: relative;z-index: 1;}#sk-container-id-1 div.sk-parallel {display: flex;align-items: stretch;justify-content: center;background-color: white;position: relative;}#sk-container-id-1 div.sk-item::before, #sk-container-id-1 div.sk-parallel-item::before {content: \"\";position: absolute;border-left: 1px solid gray;box-sizing: border-box;top: 0;bottom: 0;left: 50%;z-index: -1;}#sk-container-id-1 div.sk-parallel-item {display: flex;flex-direction: column;z-index: 1;position: relative;background-color: white;}#sk-container-id-1 div.sk-parallel-item:first-child::after {align-self: flex-end;width: 50%;}#sk-container-id-1 div.sk-parallel-item:last-child::after {align-self: flex-start;width: 50%;}#sk-container-id-1 div.sk-parallel-item:only-child::after {width: 0;}#sk-container-id-1 div.sk-dashed-wrapped {border: 1px dashed gray;margin: 0 0.4em 0.5em 0.4em;box-sizing: border-box;padding-bottom: 0.4em;background-color: white;}#sk-container-id-1 div.sk-label label {font-family: monospace;font-weight: bold;display: inline-block;line-height: 1.2em;}#sk-container-id-1 div.sk-label-container {text-align: center;}#sk-container-id-1 div.sk-container {/* jupyter's `normalize.less` sets `[hidden] { display: none; }` but bootstrap.min.css set `[hidden] { display: none !important; }` so we also need the `!important` here to be able to override the default hidden behavior on the sphinx rendered scikit-learn.org. See: https://github.com/scikit-learn/scikit-learn/issues/21755 */display: inline-block !important;position: relative;}#sk-container-id-1 div.sk-text-repr-fallback {display: none;}</style><div id=\"sk-container-id-1\" class=\"sk-top-container\"><div class=\"sk-text-repr-fallback\"><pre>LinearRegression()</pre><b>In a Jupyter environment, please rerun this cell to show the HTML representation or trust the notebook. <br />On GitHub, the HTML representation is unable to render, please try loading this page with nbviewer.org.</b></div><div class=\"sk-container\" hidden><div class=\"sk-item\"><div class=\"sk-estimator sk-toggleable\"><input class=\"sk-toggleable__control sk-hidden--visually\" id=\"sk-estimator-id-1\" type=\"checkbox\" checked><label for=\"sk-estimator-id-1\" class=\"sk-toggleable__label sk-toggleable__label-arrow\">LinearRegression</label><div class=\"sk-toggleable__content\"><pre>LinearRegression()</pre></div></div></div></div></div>"
          },
          "metadata": {}
        }
      ],
      "execution_count": null
    },
    {
      "cell_type": "code",
      "source": [
        "#test, tahmin\n",
        "y_pred = regressor.predict(X_test).round(2)"
      ],
      "metadata": {
        "trusted": true,
        "execution": {
          "iopub.status.busy": "2025-02-19T12:05:10.219895Z",
          "iopub.execute_input": "2025-02-19T12:05:10.220306Z",
          "iopub.status.idle": "2025-02-19T12:05:10.225316Z",
          "shell.execute_reply.started": "2025-02-19T12:05:10.220264Z",
          "shell.execute_reply": "2025-02-19T12:05:10.224038Z"
        },
        "id": "GpGT1UK0F0uR"
      },
      "outputs": [],
      "execution_count": null
    },
    {
      "cell_type": "code",
      "source": [
        "hesaplama = pd.DataFrame(np.c_[y_test, y_pred], columns = ['Original Profit', 'Predicted Profit'])\n",
        "hesaplama.head()"
      ],
      "metadata": {
        "trusted": true,
        "execution": {
          "iopub.status.busy": "2025-02-19T12:05:10.226505Z",
          "iopub.execute_input": "2025-02-19T12:05:10.226911Z",
          "iopub.status.idle": "2025-02-19T12:05:10.252362Z",
          "shell.execute_reply.started": "2025-02-19T12:05:10.226866Z",
          "shell.execute_reply": "2025-02-19T12:05:10.251214Z"
        },
        "id": "CLshqW5DF0uR",
        "outputId": "cea980b0-6125-4771-af3e-ac9cdeec9a8e"
      },
      "outputs": [
        {
          "execution_count": 18,
          "output_type": "execute_result",
          "data": {
            "text/plain": "   Original Profit  Predicted Profit\n0        103282.38         103901.90\n1        144259.40         132763.06\n2        146121.95         133567.90\n3         77798.83          72911.79\n4        191050.39         179627.93",
            "text/html": "<div>\n<style scoped>\n    .dataframe tbody tr th:only-of-type {\n        vertical-align: middle;\n    }\n\n    .dataframe tbody tr th {\n        vertical-align: top;\n    }\n\n    .dataframe thead th {\n        text-align: right;\n    }\n</style>\n<table border=\"1\" class=\"dataframe\">\n  <thead>\n    <tr style=\"text-align: right;\">\n      <th></th>\n      <th>Original Profit</th>\n      <th>Predicted Profit</th>\n    </tr>\n  </thead>\n  <tbody>\n    <tr>\n      <th>0</th>\n      <td>103282.38</td>\n      <td>103901.90</td>\n    </tr>\n    <tr>\n      <th>1</th>\n      <td>144259.40</td>\n      <td>132763.06</td>\n    </tr>\n    <tr>\n      <th>2</th>\n      <td>146121.95</td>\n      <td>133567.90</td>\n    </tr>\n    <tr>\n      <th>3</th>\n      <td>77798.83</td>\n      <td>72911.79</td>\n    </tr>\n    <tr>\n      <th>4</th>\n      <td>191050.39</td>\n      <td>179627.93</td>\n    </tr>\n  </tbody>\n</table>\n</div>"
          },
          "metadata": {}
        }
      ],
      "execution_count": null
    },
    {
      "cell_type": "code",
      "source": [
        "#r2 score\n",
        "print(\"Training threshold:\", regressor.score(X_train, y_train))\n",
        "print(\"Testing threshold:\", regressor.score(X_test, y_test))"
      ],
      "metadata": {
        "trusted": true,
        "execution": {
          "iopub.status.busy": "2025-02-19T12:05:10.253531Z",
          "iopub.execute_input": "2025-02-19T12:05:10.253991Z",
          "iopub.status.idle": "2025-02-19T12:05:10.275748Z",
          "shell.execute_reply.started": "2025-02-19T12:05:10.253939Z",
          "shell.execute_reply": "2025-02-19T12:05:10.274621Z"
        },
        "id": "C8ztfxwYF0uR",
        "outputId": "2510fb82-3068-46a0-ee64-32c57fde1b58"
      },
      "outputs": [
        {
          "name": "stdout",
          "text": "Training threshold: 0.9499572530324031\nTesting threshold: 0.9393955917820571\n",
          "output_type": "stream"
        }
      ],
      "execution_count": null
    },
    {
      "cell_type": "code",
      "source": [
        "\"\"\"\n",
        "y = b0 + b1*x1 + b2*x2 + ... + bn*xn\n",
        "\"\"\"\n",
        "regressor.intercept_"
      ],
      "metadata": {
        "trusted": true,
        "execution": {
          "iopub.status.busy": "2025-02-19T12:05:10.277017Z",
          "iopub.execute_input": "2025-02-19T12:05:10.277404Z",
          "iopub.status.idle": "2025-02-19T12:05:10.297254Z",
          "shell.execute_reply.started": "2025-02-19T12:05:10.277374Z",
          "shell.execute_reply": "2025-02-19T12:05:10.296191Z"
        },
        "id": "ag2k9vRdF0uR",
        "outputId": "4f35e50a-2af0-4df0-f079-eed9430bda18"
      },
      "outputs": [
        {
          "execution_count": 20,
          "output_type": "execute_result",
          "data": {
            "text/plain": "111297.71256204927"
          },
          "metadata": {}
        }
      ],
      "execution_count": null
    },
    {
      "cell_type": "code",
      "source": [
        "regressor.coef_"
      ],
      "metadata": {
        "trusted": true,
        "execution": {
          "iopub.status.busy": "2025-02-19T12:05:10.298457Z",
          "iopub.execute_input": "2025-02-19T12:05:10.298929Z",
          "iopub.status.idle": "2025-02-19T12:05:10.317412Z",
          "shell.execute_reply.started": "2025-02-19T12:05:10.298737Z",
          "shell.execute_reply": "2025-02-19T12:05:10.316244Z"
        },
        "id": "DjCv1gsEF0uR",
        "outputId": "40ed2698-5062-4fbe-cbd9-2010abe7c174"
      },
      "outputs": [
        {
          "execution_count": 21,
          "output_type": "execute_result",
          "data": {
            "text/plain": "array([35391.2501208 ,   815.21987542,  4202.06618916])"
          },
          "metadata": {}
        }
      ],
      "execution_count": null
    },
    {
      "cell_type": "code",
      "source": [
        "#Test model\n",
        "feature = [165349.20, 136897.80, 471784.10]\n",
        "scale_feature = sc.transform([feature])\n",
        "scale_feature"
      ],
      "metadata": {
        "trusted": true,
        "execution": {
          "iopub.status.busy": "2025-02-19T12:05:10.318384Z",
          "iopub.execute_input": "2025-02-19T12:05:10.318699Z",
          "iopub.status.idle": "2025-02-19T12:05:10.339695Z",
          "shell.execute_reply.started": "2025-02-19T12:05:10.318670Z",
          "shell.execute_reply": "2025-02-19T12:05:10.338563Z"
        },
        "id": "KwA4epDWF0uR",
        "outputId": "290ad181-6c34-4e53-a877-aa8bee0947b7"
      },
      "outputs": [
        {
          "execution_count": 22,
          "output_type": "execute_result",
          "data": {
            "text/plain": "array([[2.01641149, 0.56075291, 2.15394309]])"
          },
          "metadata": {}
        }
      ],
      "execution_count": null
    },
    {
      "cell_type": "code",
      "source": [
        "y_pred_test = regressor.predict(scale_feature)\n",
        "y_pred_test"
      ],
      "metadata": {
        "trusted": true,
        "execution": {
          "iopub.status.busy": "2025-02-19T12:05:10.340603Z",
          "iopub.execute_input": "2025-02-19T12:05:10.340939Z",
          "iopub.status.idle": "2025-02-19T12:05:10.359662Z",
          "shell.execute_reply.started": "2025-02-19T12:05:10.340911Z",
          "shell.execute_reply": "2025-02-19T12:05:10.358748Z"
        },
        "id": "EdK-SBK2F0uR",
        "outputId": "582a0b75-cbc9-45a3-f232-b70e837464bd"
      },
      "outputs": [
        {
          "execution_count": 23,
          "output_type": "execute_result",
          "data": {
            "text/plain": "array([192169.18440985])"
          },
          "metadata": {}
        }
      ],
      "execution_count": null
    },
    {
      "cell_type": "code",
      "source": [
        "#Sınıflandırma (Classification)\n",
        "#Bir ML sınıflandırma modeli için performans metrikleri\n",
        "\"\"\"\n",
        "1- Confusion Matrix (Karmaşıklık matrisi)\n",
        "2- Accuracy (Başarım)\n",
        "3- Precision (Kesinlik)\n",
        "4- Recall (Hatırlama)\n",
        "5- Specificity\n",
        "6- F1-Score\n",
        "\"\"\""
      ],
      "metadata": {
        "trusted": true,
        "execution": {
          "iopub.status.busy": "2025-02-19T12:05:10.360771Z",
          "iopub.execute_input": "2025-02-19T12:05:10.361093Z",
          "iopub.status.idle": "2025-02-19T12:05:10.379517Z",
          "shell.execute_reply.started": "2025-02-19T12:05:10.361058Z",
          "shell.execute_reply": "2025-02-19T12:05:10.378489Z"
        },
        "id": "JmMRqfK5F0uR",
        "outputId": "7b0c775c-5209-431f-f68e-e5078e764bbd"
      },
      "outputs": [
        {
          "execution_count": 24,
          "output_type": "execute_result",
          "data": {
            "text/plain": "'\\n1- Confusion Matrix (Karmaşıklık matrisi)\\n2- Accuracy (Başarım)\\n3- Precision (Kesinlik)\\n4- Recall (Hatırlama)\\n5- Specificity\\n6- F1-Score\\n'"
          },
          "metadata": {}
        }
      ],
      "execution_count": null
    },
    {
      "cell_type": "code",
      "source": [
        "#K-Nearest Neighbour (K-En Yakın Komşu Algoritması)\n",
        "data = pd.read_csv('/kaggle/input/data-cleaned-csv/data_cleaned.csv')\n",
        "data.shape"
      ],
      "metadata": {
        "trusted": true,
        "execution": {
          "iopub.status.busy": "2025-02-19T12:05:10.385302Z",
          "iopub.execute_input": "2025-02-19T12:05:10.385631Z",
          "iopub.status.idle": "2025-02-19T12:05:10.403627Z",
          "shell.execute_reply.started": "2025-02-19T12:05:10.385602Z",
          "shell.execute_reply": "2025-02-19T12:05:10.402608Z"
        },
        "id": "iyis9ljLF0uR",
        "outputId": "9a6ef0cb-e27b-4159-e481-846f8f143939"
      },
      "outputs": [
        {
          "execution_count": 25,
          "output_type": "execute_result",
          "data": {
            "text/plain": "(891, 25)"
          },
          "metadata": {}
        }
      ],
      "execution_count": null
    },
    {
      "cell_type": "code",
      "source": [
        "data.head()"
      ],
      "metadata": {
        "trusted": true,
        "execution": {
          "iopub.status.busy": "2025-02-19T12:05:10.406335Z",
          "iopub.execute_input": "2025-02-19T12:05:10.406622Z",
          "iopub.status.idle": "2025-02-19T12:05:10.424097Z",
          "shell.execute_reply.started": "2025-02-19T12:05:10.406598Z",
          "shell.execute_reply": "2025-02-19T12:05:10.423003Z"
        },
        "id": "t24Uh54CF0uS",
        "outputId": "bb8d522e-b334-4ed2-dbac-18eb4a58661f"
      },
      "outputs": [
        {
          "execution_count": 26,
          "output_type": "execute_result",
          "data": {
            "text/plain": "   Survived   Age     Fare  Pclass_1  Pclass_2  Pclass_3  Sex_female  \\\n0         0  22.0   7.2500         0         0         1           0   \n1         1  38.0  71.2833         1         0         0           1   \n2         1  26.0   7.9250         0         0         1           1   \n3         1  35.0  53.1000         1         0         0           1   \n4         0  35.0   8.0500         0         0         1           0   \n\n   Sex_male  SibSp_0  SibSp_1  ...  Parch_0  Parch_1  Parch_2  Parch_3  \\\n0         1        0        1  ...        1        0        0        0   \n1         0        0        1  ...        1        0        0        0   \n2         0        1        0  ...        1        0        0        0   \n3         0        0        1  ...        1        0        0        0   \n4         1        1        0  ...        1        0        0        0   \n\n   Parch_4  Parch_5  Parch_6  Embarked_C  Embarked_Q  Embarked_S  \n0        0        0        0           0           0           1  \n1        0        0        0           1           0           0  \n2        0        0        0           0           0           1  \n3        0        0        0           0           0           1  \n4        0        0        0           0           0           1  \n\n[5 rows x 25 columns]",
            "text/html": "<div>\n<style scoped>\n    .dataframe tbody tr th:only-of-type {\n        vertical-align: middle;\n    }\n\n    .dataframe tbody tr th {\n        vertical-align: top;\n    }\n\n    .dataframe thead th {\n        text-align: right;\n    }\n</style>\n<table border=\"1\" class=\"dataframe\">\n  <thead>\n    <tr style=\"text-align: right;\">\n      <th></th>\n      <th>Survived</th>\n      <th>Age</th>\n      <th>Fare</th>\n      <th>Pclass_1</th>\n      <th>Pclass_2</th>\n      <th>Pclass_3</th>\n      <th>Sex_female</th>\n      <th>Sex_male</th>\n      <th>SibSp_0</th>\n      <th>SibSp_1</th>\n      <th>...</th>\n      <th>Parch_0</th>\n      <th>Parch_1</th>\n      <th>Parch_2</th>\n      <th>Parch_3</th>\n      <th>Parch_4</th>\n      <th>Parch_5</th>\n      <th>Parch_6</th>\n      <th>Embarked_C</th>\n      <th>Embarked_Q</th>\n      <th>Embarked_S</th>\n    </tr>\n  </thead>\n  <tbody>\n    <tr>\n      <th>0</th>\n      <td>0</td>\n      <td>22.0</td>\n      <td>7.2500</td>\n      <td>0</td>\n      <td>0</td>\n      <td>1</td>\n      <td>0</td>\n      <td>1</td>\n      <td>0</td>\n      <td>1</td>\n      <td>...</td>\n      <td>1</td>\n      <td>0</td>\n      <td>0</td>\n      <td>0</td>\n      <td>0</td>\n      <td>0</td>\n      <td>0</td>\n      <td>0</td>\n      <td>0</td>\n      <td>1</td>\n    </tr>\n    <tr>\n      <th>1</th>\n      <td>1</td>\n      <td>38.0</td>\n      <td>71.2833</td>\n      <td>1</td>\n      <td>0</td>\n      <td>0</td>\n      <td>1</td>\n      <td>0</td>\n      <td>0</td>\n      <td>1</td>\n      <td>...</td>\n      <td>1</td>\n      <td>0</td>\n      <td>0</td>\n      <td>0</td>\n      <td>0</td>\n      <td>0</td>\n      <td>0</td>\n      <td>1</td>\n      <td>0</td>\n      <td>0</td>\n    </tr>\n    <tr>\n      <th>2</th>\n      <td>1</td>\n      <td>26.0</td>\n      <td>7.9250</td>\n      <td>0</td>\n      <td>0</td>\n      <td>1</td>\n      <td>1</td>\n      <td>0</td>\n      <td>1</td>\n      <td>0</td>\n      <td>...</td>\n      <td>1</td>\n      <td>0</td>\n      <td>0</td>\n      <td>0</td>\n      <td>0</td>\n      <td>0</td>\n      <td>0</td>\n      <td>0</td>\n      <td>0</td>\n      <td>1</td>\n    </tr>\n    <tr>\n      <th>3</th>\n      <td>1</td>\n      <td>35.0</td>\n      <td>53.1000</td>\n      <td>1</td>\n      <td>0</td>\n      <td>0</td>\n      <td>1</td>\n      <td>0</td>\n      <td>0</td>\n      <td>1</td>\n      <td>...</td>\n      <td>1</td>\n      <td>0</td>\n      <td>0</td>\n      <td>0</td>\n      <td>0</td>\n      <td>0</td>\n      <td>0</td>\n      <td>0</td>\n      <td>0</td>\n      <td>1</td>\n    </tr>\n    <tr>\n      <th>4</th>\n      <td>0</td>\n      <td>35.0</td>\n      <td>8.0500</td>\n      <td>0</td>\n      <td>0</td>\n      <td>1</td>\n      <td>0</td>\n      <td>1</td>\n      <td>1</td>\n      <td>0</td>\n      <td>...</td>\n      <td>1</td>\n      <td>0</td>\n      <td>0</td>\n      <td>0</td>\n      <td>0</td>\n      <td>0</td>\n      <td>0</td>\n      <td>0</td>\n      <td>0</td>\n      <td>1</td>\n    </tr>\n  </tbody>\n</table>\n<p>5 rows × 25 columns</p>\n</div>"
          },
          "metadata": {}
        }
      ],
      "execution_count": null
    },
    {
      "cell_type": "code",
      "source": [
        "x = data.drop(['Survived'], axis = 1)\n",
        "y = data['Survived']\n",
        "x.shape, y.shape"
      ],
      "metadata": {
        "trusted": true,
        "execution": {
          "iopub.status.busy": "2025-02-19T12:05:10.425160Z",
          "iopub.execute_input": "2025-02-19T12:05:10.425494Z",
          "iopub.status.idle": "2025-02-19T12:05:10.444498Z",
          "shell.execute_reply.started": "2025-02-19T12:05:10.425467Z",
          "shell.execute_reply": "2025-02-19T12:05:10.443030Z"
        },
        "id": "-8VURCriF0uS",
        "outputId": "3d5e19a6-4732-4075-aa22-2578a590c1ac"
      },
      "outputs": [
        {
          "execution_count": 27,
          "output_type": "execute_result",
          "data": {
            "text/plain": "((891, 24), (891,))"
          },
          "metadata": {}
        }
      ],
      "execution_count": null
    },
    {
      "cell_type": "code",
      "source": [
        "from sklearn.neighbors import KNeighborsClassifier"
      ],
      "metadata": {
        "trusted": true,
        "execution": {
          "iopub.status.busy": "2025-02-19T12:05:10.445592Z",
          "iopub.execute_input": "2025-02-19T12:05:10.446059Z",
          "iopub.status.idle": "2025-02-19T12:05:10.477000Z",
          "shell.execute_reply.started": "2025-02-19T12:05:10.446026Z",
          "shell.execute_reply": "2025-02-19T12:05:10.475996Z"
        },
        "id": "vZyuET-_F0uS"
      },
      "outputs": [],
      "execution_count": null
    },
    {
      "cell_type": "code",
      "source": [
        "#pipeline\n",
        "from sklearn.pipeline import Pipeline\n",
        "pipeline = Pipeline([\n",
        "    (\"scaler\", MinMaxScaler()),\n",
        "    (\"knn\", KNeighborsClassifier())\n",
        "])\n",
        "\"\"\"\n",
        "from sklearn.preprocessing import MinMaxScaler\n",
        "scaler = MinMaxScaler()\n",
        "x_scaled = scaler.fit_transform(x)\n",
        "\"\"\""
      ],
      "metadata": {
        "trusted": true,
        "execution": {
          "iopub.status.busy": "2025-02-19T12:05:10.478044Z",
          "iopub.execute_input": "2025-02-19T12:05:10.478388Z",
          "iopub.status.idle": "2025-02-19T12:05:10.569024Z",
          "shell.execute_reply.started": "2025-02-19T12:05:10.478361Z",
          "shell.execute_reply": "2025-02-19T12:05:10.567124Z"
        },
        "id": "_cP5StQXF0uS",
        "outputId": "bd4be529-0e0e-4568-8531-9477070db62c"
      },
      "outputs": [
        {
          "traceback": [
            "\u001b[0;31m---------------------------------------------------------------------------\u001b[0m",
            "\u001b[0;31mNameError\u001b[0m                                 Traceback (most recent call last)",
            "\u001b[0;32m<ipython-input-29-43ac6777848f>\u001b[0m in \u001b[0;36m<cell line: 3>\u001b[0;34m()\u001b[0m\n\u001b[1;32m      2\u001b[0m \u001b[0;32mfrom\u001b[0m \u001b[0msklearn\u001b[0m\u001b[0;34m.\u001b[0m\u001b[0mpipeline\u001b[0m \u001b[0;32mimport\u001b[0m \u001b[0mPipeline\u001b[0m\u001b[0;34m\u001b[0m\u001b[0;34m\u001b[0m\u001b[0m\n\u001b[1;32m      3\u001b[0m pipeline = Pipeline([\n\u001b[0;32m----> 4\u001b[0;31m     \u001b[0;34m(\u001b[0m\u001b[0;34m\"scaler\"\u001b[0m\u001b[0;34m,\u001b[0m \u001b[0mMinMaxScaler\u001b[0m\u001b[0;34m(\u001b[0m\u001b[0;34m)\u001b[0m\u001b[0;34m)\u001b[0m\u001b[0;34m,\u001b[0m\u001b[0;34m\u001b[0m\u001b[0;34m\u001b[0m\u001b[0m\n\u001b[0m\u001b[1;32m      5\u001b[0m     \u001b[0;34m(\u001b[0m\u001b[0;34m\"knn\"\u001b[0m\u001b[0;34m,\u001b[0m \u001b[0mKNeighborsClassifier\u001b[0m\u001b[0;34m(\u001b[0m\u001b[0;34m)\u001b[0m\u001b[0;34m)\u001b[0m\u001b[0;34m\u001b[0m\u001b[0;34m\u001b[0m\u001b[0m\n\u001b[1;32m      6\u001b[0m ])\n",
            "\u001b[0;31mNameError\u001b[0m: name 'MinMaxScaler' is not defined"
          ],
          "ename": "NameError",
          "evalue": "name 'MinMaxScaler' is not defined",
          "output_type": "error"
        }
      ],
      "execution_count": null
    },
    {
      "cell_type": "code",
      "source": [
        "x = pd.DataFrame(x_scaled, columns = x.columns)\n",
        "x.head()"
      ],
      "metadata": {
        "trusted": true,
        "execution": {
          "iopub.status.busy": "2025-02-19T12:05:10.569887Z",
          "iopub.status.idle": "2025-02-19T12:05:10.570379Z",
          "shell.execute_reply": "2025-02-19T12:05:10.570185Z"
        },
        "id": "abOS4o_RF0uS"
      },
      "outputs": [],
      "execution_count": null
    },
    {
      "cell_type": "code",
      "source": [
        "from sklearn.model_selection import train_test_split\n",
        "X_train, X_test, y_train, y_test = train_test_split(x, y, test_size = 0.2, stratify = y, random_state = 42)"
      ],
      "metadata": {
        "trusted": true,
        "execution": {
          "iopub.status.busy": "2025-02-19T12:05:10.571297Z",
          "iopub.status.idle": "2025-02-19T12:05:10.571603Z",
          "shell.execute_reply": "2025-02-19T12:05:10.571482Z"
        },
        "id": "FCo-X7rZF0uS"
      },
      "outputs": [],
      "execution_count": null
    },
    {
      "cell_type": "code",
      "source": [
        "#GridSearch öncesi parametreleri tanımlama\n",
        "param_grid = {\n",
        "    \"knn__n_neighbors\" : [3,5,7,9,11], #K değeri\n",
        "    \"knn__weights\" : [\"uniform\", \"distance\"], #tüm komşular eşit uzaklıkta (uniform), yoksa uzaklığa göre ağırlıklı mı (distance)\n",
        "    \"knn__metric\" : [\"euclidean\", \"manhattan\", \"minkowski\"] #mesafe metriği\n",
        "}"
      ],
      "metadata": {
        "trusted": true,
        "execution": {
          "iopub.status.busy": "2025-02-19T12:05:10.572430Z",
          "iopub.status.idle": "2025-02-19T12:05:10.572782Z",
          "shell.execute_reply": "2025-02-19T12:05:10.572609Z"
        },
        "id": "nMxgqg7CF0uS"
      },
      "outputs": [],
      "execution_count": null
    },
    {
      "cell_type": "code",
      "source": [
        "from sklearn.model_selection import GridSearchCV"
      ],
      "metadata": {
        "trusted": true,
        "execution": {
          "iopub.status.busy": "2025-02-19T12:05:10.573666Z",
          "iopub.status.idle": "2025-02-19T12:05:10.574006Z",
          "shell.execute_reply": "2025-02-19T12:05:10.573877Z"
        },
        "id": "tj7FPz0lF0uS"
      },
      "outputs": [],
      "execution_count": null
    },
    {
      "cell_type": "code",
      "source": [
        "grid_search = GridSearchCV(pipeline, param_grid, cv = 5, scoring = \"accuracy\", n_jobs = -1)\n",
        "grid_search.fit(X_train, y_train)"
      ],
      "metadata": {
        "trusted": true,
        "execution": {
          "iopub.status.busy": "2025-02-19T12:05:10.574735Z",
          "iopub.status.idle": "2025-02-19T12:05:10.575219Z",
          "shell.execute_reply": "2025-02-19T12:05:10.575012Z"
        },
        "id": "MLydlUJyF0uS"
      },
      "outputs": [],
      "execution_count": null
    },
    {
      "cell_type": "code",
      "source": [
        "print(\"En iyi parametreler:\", grid_search.best_params_)"
      ],
      "metadata": {
        "trusted": true,
        "execution": {
          "iopub.status.busy": "2025-02-19T12:05:10.575947Z",
          "iopub.status.idle": "2025-02-19T12:05:10.576356Z",
          "shell.execute_reply": "2025-02-19T12:05:10.576175Z"
        },
        "id": "ghGeMPP4F0uS"
      },
      "outputs": [],
      "execution_count": null
    },
    {
      "cell_type": "code",
      "source": [
        "#En iyi modeli de test kümesinde kullanıyoruz\n",
        "best_model = grid_search.best_estimator_\n",
        "y_pred = best_model.predict(X_test)"
      ],
      "metadata": {
        "trusted": true,
        "execution": {
          "iopub.status.busy": "2025-02-19T12:05:10.577216Z",
          "iopub.status.idle": "2025-02-19T12:05:10.577506Z",
          "shell.execute_reply": "2025-02-19T12:05:10.577384Z"
        },
        "id": "zL2dMP_rF0uT"
      },
      "outputs": [],
      "execution_count": null
    },
    {
      "cell_type": "code",
      "source": [
        "#Performans ölçümü\n",
        "from sklearn.metrics import accuracy_score, classification_report"
      ],
      "metadata": {
        "trusted": true,
        "execution": {
          "iopub.status.busy": "2025-02-19T12:05:10.578429Z",
          "iopub.status.idle": "2025-02-19T12:05:10.578846Z",
          "shell.execute_reply": "2025-02-19T12:05:10.578642Z"
        },
        "id": "lHMbkYk0F0uT"
      },
      "outputs": [],
      "execution_count": null
    },
    {
      "cell_type": "code",
      "source": [
        "print(\"Test Kümesi Başarımı:\", accuracy_score(y_test,y_pred))\n",
        "print(classification_report(y_test, y_pred))"
      ],
      "metadata": {
        "trusted": true,
        "execution": {
          "iopub.status.busy": "2025-02-19T12:05:10.579773Z",
          "iopub.status.idle": "2025-02-19T12:05:10.580236Z",
          "shell.execute_reply": "2025-02-19T12:05:10.580022Z"
        },
        "id": "yzKqxQ1pF0uT"
      },
      "outputs": [],
      "execution_count": null
    },
    {
      "cell_type": "code",
      "source": [
        "#B planımız -> optimal K değerini bulmak için Dirsek (Elbow) metodu\n",
        "from sklearn.neighbors import KNeighborsClassifier as KNN\n",
        "from sklearn.metrics import f1_score"
      ],
      "metadata": {
        "trusted": true,
        "execution": {
          "iopub.status.busy": "2025-02-19T12:05:10.581162Z",
          "iopub.status.idle": "2025-02-19T12:05:10.581574Z",
          "shell.execute_reply": "2025-02-19T12:05:10.581389Z"
        },
        "id": "CN4ZmfW7F0uT"
      },
      "outputs": [],
      "execution_count": null
    },
    {
      "cell_type": "code",
      "source": [
        "clf = KNN(n_neighbors = 10, metric = 'euclidean')\n",
        "\n",
        "clf.fit(X_train, y_train)\n",
        "\n",
        "test_predict = clf.predict(X_test)\n",
        "k_1 = f1_score(test_predict, y_test)"
      ],
      "metadata": {
        "trusted": true,
        "execution": {
          "iopub.status.busy": "2025-02-19T12:05:10.582487Z",
          "iopub.status.idle": "2025-02-19T12:05:10.582839Z",
          "shell.execute_reply": "2025-02-19T12:05:10.582669Z"
        },
        "id": "8xJ4v8MNF0uT"
      },
      "outputs": [],
      "execution_count": null
    },
    {
      "cell_type": "code",
      "source": [
        "def Elbow(K):\n",
        "\n",
        "    test_error = []\n",
        "\n",
        "    for i in K:\n",
        "        clf = KNN(n_neighbors = i)\n",
        "        clf.fit(X_train, y_train)\n",
        "        tmp = clf.predict(X_test)\n",
        "        tmp = f1_score(tmp, y_test)\n",
        "        error = 1 - tmp\n",
        "        test_error.append(error)\n",
        "\n",
        "    return test_error"
      ],
      "metadata": {
        "trusted": true,
        "execution": {
          "iopub.status.busy": "2025-02-19T12:05:10.583891Z",
          "iopub.status.idle": "2025-02-19T12:05:10.584253Z",
          "shell.execute_reply": "2025-02-19T12:05:10.584104Z"
        },
        "id": "lWLwEXMJF0uT"
      },
      "outputs": [],
      "execution_count": null
    },
    {
      "cell_type": "code",
      "source": [
        "k = range(6, 20, 2)\n",
        "test = Elbow(k)"
      ],
      "metadata": {
        "trusted": true,
        "execution": {
          "iopub.status.busy": "2025-02-19T12:05:10.584966Z",
          "iopub.status.idle": "2025-02-19T12:05:10.585352Z",
          "shell.execute_reply": "2025-02-19T12:05:10.585217Z"
        },
        "id": "gMaIP40uF0uc"
      },
      "outputs": [],
      "execution_count": null
    },
    {
      "cell_type": "code",
      "source": [
        "#Dirseği görselleştirme\n",
        "plt.plot(k, test)\n",
        "plt.xlabel('K Neighbors')\n",
        "plt.ylabel('Test Error')\n",
        "plt.title('Elbow Curve for test')\n",
        "plt.show()"
      ],
      "metadata": {
        "trusted": true,
        "execution": {
          "iopub.status.busy": "2025-02-19T12:05:10.586105Z",
          "iopub.status.idle": "2025-02-19T12:05:10.586480Z",
          "shell.execute_reply": "2025-02-19T12:05:10.586335Z"
        },
        "id": "mIpwOo5tF0uc"
      },
      "outputs": [],
      "execution_count": null
    },
    {
      "cell_type": "code",
      "source": [
        "clf = KNN(n_neighbors = 17, metric = 'euclidean')\n",
        "\n",
        "clf.fit(X_train, y_train)\n",
        "\n",
        "test_predict = clf.predict(X_test)\n",
        "k_2 = f1_score(test_predict, y_test)"
      ],
      "metadata": {
        "trusted": true,
        "execution": {
          "iopub.status.busy": "2025-02-19T12:05:10.587545Z",
          "iopub.status.idle": "2025-02-19T12:05:10.588031Z",
          "shell.execute_reply": "2025-02-19T12:05:10.587829Z"
        },
        "id": "cFRWiOAYF0uc"
      },
      "outputs": [],
      "execution_count": null
    },
    {
      "cell_type": "code",
      "source": [
        "print(\"Before Elbow:\", k_1)\n",
        "print(\"After Elbow:\", k_2)"
      ],
      "metadata": {
        "trusted": true,
        "execution": {
          "iopub.status.busy": "2025-02-19T12:05:10.588873Z",
          "iopub.status.idle": "2025-02-19T12:05:10.589332Z",
          "shell.execute_reply": "2025-02-19T12:05:10.589132Z"
        },
        "id": "DKIlEeEmF0uc"
      },
      "outputs": [],
      "execution_count": null
    },
    {
      "cell_type": "code",
      "source": [
        "#Decision Trees (Karar Ağaçları)"
      ],
      "metadata": {
        "trusted": true,
        "execution": {
          "iopub.status.busy": "2025-02-19T12:05:10.590199Z",
          "iopub.status.idle": "2025-02-19T12:05:10.590594Z",
          "shell.execute_reply": "2025-02-19T12:05:10.590420Z"
        },
        "id": "O-qB8ysrF0uc"
      },
      "outputs": [],
      "execution_count": null
    },
    {
      "cell_type": "code",
      "source": [
        "dataset = pd.read_csv('/kaggle/input/social-network-ads-csv/Social_Network_Ads.csv')\n",
        "dataset.head(5)"
      ],
      "metadata": {
        "trusted": true,
        "execution": {
          "iopub.status.busy": "2025-02-19T12:05:10.591320Z",
          "iopub.status.idle": "2025-02-19T12:05:10.591600Z",
          "shell.execute_reply": "2025-02-19T12:05:10.591484Z"
        },
        "id": "3_3wmneZF0uc"
      },
      "outputs": [],
      "execution_count": null
    },
    {
      "cell_type": "code",
      "source": [
        "\"\"\"\n",
        "Feature Selection (Öznitelik Seçme):\n",
        "1 - Variance Threshold: Düşük varyansa sahip olan öznitelikler kaldırılır.\n",
        "2 - SelectKBest: testler yapılarak en iyi k sayıda özniteliği seçer.\n",
        "3 - PCA (Temel Bileşenler Analizi): verideki en fazla varyans değerine sahip olan öznitelik grubunu seçer.\n",
        "4 - RFE (Recursive Feature Elimination): öznitelikleri aşamalı olarak kaldırarak modelin performansına en çok katkı\n",
        "sağlayan özniteliği seçer.\n",
        "\"\"\""
      ],
      "metadata": {
        "trusted": true,
        "execution": {
          "iopub.status.busy": "2025-02-19T12:05:10.592494Z",
          "iopub.status.idle": "2025-02-19T12:05:10.592908Z",
          "shell.execute_reply": "2025-02-19T12:05:10.592703Z"
        },
        "id": "npJ1THiqF0uc"
      },
      "outputs": [],
      "execution_count": null
    },
    {
      "cell_type": "code",
      "source": [
        "#Elle seçim\n",
        "X = dataset.iloc[:, [2,3]].values\n",
        "y = dataset.iloc[:, -1].values"
      ],
      "metadata": {
        "trusted": true,
        "execution": {
          "iopub.status.busy": "2025-02-19T12:05:10.593789Z",
          "iopub.status.idle": "2025-02-19T12:05:10.594118Z",
          "shell.execute_reply": "2025-02-19T12:05:10.593991Z"
        },
        "id": "jJz7a5uxF0ud"
      },
      "outputs": [],
      "execution_count": null
    },
    {
      "cell_type": "code",
      "source": [
        "#Algoritmaya özniteliği seçtirme\n",
        "X = dataset.drop(columns = [\"User ID\", \"Gender\", \"Purchased\"])\n",
        "y = dataset['Purchased']"
      ],
      "metadata": {
        "trusted": true,
        "execution": {
          "iopub.status.busy": "2025-02-19T12:05:10.594833Z",
          "iopub.status.idle": "2025-02-19T12:05:10.595128Z",
          "shell.execute_reply": "2025-02-19T12:05:10.595004Z"
        },
        "id": "ba0W7ORxF0ud"
      },
      "outputs": [],
      "execution_count": null
    },
    {
      "cell_type": "code",
      "source": [
        "print(\"X içerisindeki öznitelikler:\", X.columns.tolist())"
      ],
      "metadata": {
        "trusted": true,
        "execution": {
          "iopub.status.busy": "2025-02-19T12:05:10.595858Z",
          "iopub.status.idle": "2025-02-19T12:05:10.596165Z",
          "shell.execute_reply": "2025-02-19T12:05:10.596041Z"
        },
        "id": "61SHt3x7F0ud"
      },
      "outputs": [],
      "execution_count": null
    },
    {
      "cell_type": "code",
      "source": [
        "#SelectKBest ile en iyi öznitelikleri seçme\n",
        "from sklearn.feature_selection import SelectKBest, f_classif\n",
        "selector = SelectKBest(score_func = f_classif, k = 2)\n",
        "X_new = selector.fit_transform(X, y)"
      ],
      "metadata": {
        "trusted": true,
        "execution": {
          "iopub.status.busy": "2025-02-19T12:05:10.596918Z",
          "iopub.status.idle": "2025-02-19T12:05:10.597234Z",
          "shell.execute_reply": "2025-02-19T12:05:10.597086Z"
        },
        "id": "IXXoPytXF0ud"
      },
      "outputs": [],
      "execution_count": null
    },
    {
      "cell_type": "code",
      "source": [
        "selected_features = X.columns[selector.get_support()]"
      ],
      "metadata": {
        "trusted": true,
        "execution": {
          "iopub.status.busy": "2025-02-19T12:05:10.597927Z",
          "iopub.status.idle": "2025-02-19T12:05:10.598230Z",
          "shell.execute_reply": "2025-02-19T12:05:10.598109Z"
        },
        "id": "sQcPZgvBF0ud"
      },
      "outputs": [],
      "execution_count": null
    },
    {
      "cell_type": "code",
      "source": [
        "print(\"Seçilen Öznitelikler:\", selected_features)"
      ],
      "metadata": {
        "trusted": true,
        "execution": {
          "iopub.status.busy": "2025-02-19T12:05:10.598984Z",
          "iopub.status.idle": "2025-02-19T12:05:10.599269Z",
          "shell.execute_reply": "2025-02-19T12:05:10.599153Z"
        },
        "id": "WpSUpMVyF0ud"
      },
      "outputs": [],
      "execution_count": null
    },
    {
      "cell_type": "code",
      "source": [
        "print(\"Yeni X matrisi:\")\n",
        "print(pd.DataFrame(X_new, columns = selected_features).head())"
      ],
      "metadata": {
        "trusted": true,
        "execution": {
          "iopub.status.busy": "2025-02-19T12:05:10.600015Z",
          "iopub.status.idle": "2025-02-19T12:05:10.600346Z",
          "shell.execute_reply": "2025-02-19T12:05:10.600185Z"
        },
        "id": "aJVjxRKBF0ud"
      },
      "outputs": [],
      "execution_count": null
    },
    {
      "cell_type": "code",
      "source": [
        "from sklearn.model_selection import train_test_split\n",
        "X_train, X_test, y_train, y_test = train_test_split(X, y, test_size = 0.25, random_state = 0)"
      ],
      "metadata": {
        "trusted": true,
        "execution": {
          "iopub.status.busy": "2025-02-19T12:05:10.601465Z",
          "iopub.status.idle": "2025-02-19T12:05:10.601956Z",
          "shell.execute_reply": "2025-02-19T12:05:10.601711Z"
        },
        "id": "n3r6nAWhF0ud"
      },
      "outputs": [],
      "execution_count": null
    },
    {
      "cell_type": "code",
      "source": [
        "#Standartlaştırma\n",
        "from sklearn.preprocessing import StandardScaler\n",
        "sc = StandardScaler()\n",
        "X_train = sc.fit_transform(X_train)\n",
        "X_test = sc.transform(X_test)"
      ],
      "metadata": {
        "trusted": true,
        "execution": {
          "iopub.status.busy": "2025-02-19T12:05:10.602929Z",
          "iopub.status.idle": "2025-02-19T12:05:10.603360Z",
          "shell.execute_reply": "2025-02-19T12:05:10.603168Z"
        },
        "id": "armFiVk8F0ud"
      },
      "outputs": [],
      "execution_count": null
    },
    {
      "cell_type": "code",
      "source": [
        "from sklearn.tree import DecisionTreeClassifier\n",
        "classifier = DecisionTreeClassifier(criterion = 'entropy', random_state = 0)\n",
        "classifier.fit(X_train, y_train)"
      ],
      "metadata": {
        "trusted": true,
        "execution": {
          "iopub.status.busy": "2025-02-19T12:05:10.604224Z",
          "iopub.status.idle": "2025-02-19T12:05:10.604658Z",
          "shell.execute_reply": "2025-02-19T12:05:10.604467Z"
        },
        "id": "K7CSQMyEF0ud"
      },
      "outputs": [],
      "execution_count": null
    },
    {
      "cell_type": "code",
      "source": [
        "y_pred = classifier.predict(X_test)"
      ],
      "metadata": {
        "trusted": true,
        "execution": {
          "iopub.status.busy": "2025-02-19T12:05:10.605519Z",
          "iopub.status.idle": "2025-02-19T12:05:10.605917Z",
          "shell.execute_reply": "2025-02-19T12:05:10.605709Z"
        },
        "id": "HQRi9sdNF0ue"
      },
      "outputs": [],
      "execution_count": null
    },
    {
      "cell_type": "code",
      "source": [
        "from sklearn.metrics import confusion_matrix, accuracy_score, classification_report\n",
        "cm = confusion_matrix(y_test, y_pred)\n",
        "accuracy = accuracy_score(y_test, y_pred)\n",
        "creport = classification_report(y_test, y_pred)\n",
        "print(cm)\n",
        "print(\"Accuracy:\", accuracy)\n",
        "print(creport)"
      ],
      "metadata": {
        "trusted": true,
        "execution": {
          "iopub.status.busy": "2025-02-19T12:05:10.607080Z",
          "iopub.status.idle": "2025-02-19T12:05:10.607521Z",
          "shell.execute_reply": "2025-02-19T12:05:10.607332Z"
        },
        "id": "fUFbUZznF0ue"
      },
      "outputs": [],
      "execution_count": null
    },
    {
      "cell_type": "code",
      "source": [
        "from sklearn import tree"
      ],
      "metadata": {
        "trusted": true,
        "execution": {
          "iopub.status.busy": "2025-02-19T12:05:10.608397Z",
          "iopub.status.idle": "2025-02-19T12:05:10.608707Z",
          "shell.execute_reply": "2025-02-19T12:05:10.608573Z"
        },
        "id": "BVQ0Je7CF0ue"
      },
      "outputs": [],
      "execution_count": null
    },
    {
      "cell_type": "code",
      "source": [
        "fn = ['Age', 'EstimatedSalary']\n",
        "cn = ['0', '1']\n",
        "fig, axes = plt.subplots(nrows = 1, ncols = 1, figsize = (50, 30))\n",
        "tree.plot_tree(classifier, feature_names = fn, class_names = cn, filled = True)\n",
        "fig.savefig('/kaggle/working/1902-TBBAI.png')"
      ],
      "metadata": {
        "trusted": true,
        "execution": {
          "iopub.status.busy": "2025-02-19T12:05:10.609677Z",
          "iopub.status.idle": "2025-02-19T12:05:10.610203Z",
          "shell.execute_reply": "2025-02-19T12:05:10.609953Z"
        },
        "id": "0N1Y1ggfF0ue"
      },
      "outputs": [],
      "execution_count": null
    },
    {
      "cell_type": "code",
      "source": [
        "from matplotlib.colors import ListedColormap\n",
        "X_set, y_set = X_test, y_test\n",
        "X1, X2 = np.meshgrid(np.arange(start=X_set[:,0].min() - 1,\n",
        "stop=X_set[:,0].max() + 1, step = 0.01),\n",
        "                     np.arange(start=X_set[:,0].min() - 1,\n",
        "stop=X_set[:,0].max() + 1, step = 0.01))\n",
        "plt.contourf(X1, X2, classifier.predict(np.array([X1.ravel(),\n",
        "X2.ravel()]).T).reshape(X1.shape), alpha = 0.75, cmap = ListedColormap(('red','green')))\n",
        "plt.xlim(X1.min(), X1.max())\n",
        "plt.ylim(X2.min(), X2.max())\n",
        "for i, j in enumerate(np.unique(y_set)):\n",
        "    plt.scatter(X_set[y_set == j, 0], X_set[y_set == j, 1],\n",
        "    c = ListedColormap(('red','green'))(i), label = j)\n",
        "plt.title('Decision Tree (test set)')\n",
        "plt.xlabel('Age')\n",
        "plt.ylabel('Estimated Salary')\n",
        "plt.legend()\n",
        "plt.show()"
      ],
      "metadata": {
        "trusted": true,
        "execution": {
          "iopub.status.busy": "2025-02-19T12:05:10.611270Z",
          "iopub.status.idle": "2025-02-19T12:05:10.611714Z",
          "shell.execute_reply": "2025-02-19T12:05:10.611522Z"
        },
        "id": "UxTK-BYRF0ue"
      },
      "outputs": [],
      "execution_count": null
    },
    {
      "cell_type": "code",
      "source": [
        "#Unsupervised Learning (Denetimsiz Öğrenme)\n",
        "#Clustering (Kümeleme)\n",
        "\"\"\"\n",
        "1- Sahte Haber Tespiti\n",
        "2- Spam Filtreleme\n",
        "3- Pazarlama ve Satış Operasyonları\n",
        "4- Ağ trafiği kümeleme\n",
        "5- Sahtecilik ve suç içeren aktivitelerin tespiti\n",
        "6- Deprem çalışmaları\n",
        "\"\"\""
      ],
      "metadata": {
        "trusted": true,
        "execution": {
          "iopub.status.busy": "2025-02-19T12:05:10.612524Z",
          "iopub.status.idle": "2025-02-19T12:05:10.612982Z",
          "shell.execute_reply": "2025-02-19T12:05:10.612788Z"
        },
        "id": "LHgcX5U-F0ue"
      },
      "outputs": [],
      "execution_count": null
    },
    {
      "cell_type": "code",
      "source": [
        "#K-Means (K-Ortalamalar) Algoritması, Müşteri Davranışı Analizi Uygulaması\n",
        "dataset = pd.read_csv('/kaggle/input/mall-customers-csv/Mall_Customers.csv')\n",
        "dataset.head()"
      ],
      "metadata": {
        "trusted": true,
        "execution": {
          "iopub.status.busy": "2025-02-19T12:05:10.613840Z",
          "iopub.status.idle": "2025-02-19T12:05:10.614227Z",
          "shell.execute_reply": "2025-02-19T12:05:10.614090Z"
        },
        "id": "nGk0of4EF0ue"
      },
      "outputs": [],
      "execution_count": null
    },
    {
      "cell_type": "code",
      "source": [
        "dataset.shape"
      ],
      "metadata": {
        "trusted": true,
        "execution": {
          "iopub.status.busy": "2025-02-19T12:05:10.614840Z",
          "iopub.status.idle": "2025-02-19T12:05:10.615470Z",
          "shell.execute_reply": "2025-02-19T12:05:10.615251Z"
        },
        "id": "h_4nBIwBF0ue"
      },
      "outputs": [],
      "execution_count": null
    },
    {
      "cell_type": "code",
      "source": [
        "X = dataset.iloc[:, 3:]\n",
        "X.head()"
      ],
      "metadata": {
        "trusted": true,
        "execution": {
          "iopub.status.busy": "2025-02-19T12:05:10.616331Z",
          "iopub.status.idle": "2025-02-19T12:05:10.616699Z",
          "shell.execute_reply": "2025-02-19T12:05:10.616554Z"
        },
        "id": "BpxuwHzgF0ue"
      },
      "outputs": [],
      "execution_count": null
    },
    {
      "cell_type": "code",
      "source": [
        "#Uygun K değerini bulmak için dirsek (elbow) metodu\n",
        "from sklearn.cluster import KMeans\n",
        "wcss = []\n",
        "for i in range(1, 11):\n",
        "    kmeans = KMeans(n_clusters = i, init = \"k-means++\", random_state = 42)\n",
        "    kmeans.fit(X)\n",
        "    wcss.append(kmeans.inertia_)\n",
        "plt.plot(range(1,11), wcss)\n",
        "plt.title('Elbow Method')\n",
        "plt.xlabel('Number of Clusters')\n",
        "plt.ylabel('WCSS')\n",
        "plt.show()"
      ],
      "metadata": {
        "trusted": true,
        "execution": {
          "iopub.status.busy": "2025-02-19T12:05:10.617457Z",
          "iopub.status.idle": "2025-02-19T12:05:10.617827Z",
          "shell.execute_reply": "2025-02-19T12:05:10.617639Z"
        },
        "id": "kNXHSzqfF0ue"
      },
      "outputs": [],
      "execution_count": null
    },
    {
      "cell_type": "code",
      "source": [
        "#K = 5\n",
        "\n",
        "kmeans = KMeans(n_clusters = 5, init = 'k-means++', random_state = 42)\n",
        "y_kmeans = kmeans.fit_predict(X)\n",
        "y_kmeans"
      ],
      "metadata": {
        "trusted": true,
        "execution": {
          "iopub.status.busy": "2025-02-19T12:05:10.618572Z",
          "iopub.status.idle": "2025-02-19T12:05:10.618905Z",
          "shell.execute_reply": "2025-02-19T12:05:10.618781Z"
        },
        "id": "byywvPwAF0ue"
      },
      "outputs": [],
      "execution_count": null
    },
    {
      "cell_type": "code",
      "source": [
        "test = kmeans.predict([[16, #Annual Income (k$)\n",
        "                       77 #Spending Score (1-100)\n",
        "                      ]])\n",
        "print(\"Bu nokta\", test[0], \"numaralı kümeye aittir.\")"
      ],
      "metadata": {
        "trusted": true,
        "execution": {
          "iopub.status.busy": "2025-02-19T12:05:10.619483Z",
          "iopub.status.idle": "2025-02-19T12:05:10.619850Z",
          "shell.execute_reply": "2025-02-19T12:05:10.619697Z"
        },
        "id": "Jwxu1yo9F0ue"
      },
      "outputs": [],
      "execution_count": null
    },
    {
      "cell_type": "code",
      "source": [
        "X[y_kmeans == 0].head(10)"
      ],
      "metadata": {
        "trusted": true,
        "execution": {
          "iopub.status.busy": "2025-02-19T12:05:10.620515Z",
          "iopub.status.idle": "2025-02-19T12:05:10.620898Z",
          "shell.execute_reply": "2025-02-19T12:05:10.620709Z"
        },
        "id": "wX63VMMfF0uf"
      },
      "outputs": [],
      "execution_count": null
    },
    {
      "cell_type": "code",
      "source": [
        "#Kümeleri Görselleştirmek\n",
        "plt.scatter(X[y_kmeans == 0]['Annual Income (k$)'], X[y_kmeans == 0]['Spending Score (1-100)'], label = 'Cluster 1')\n",
        "plt.scatter(X[y_kmeans == 1]['Annual Income (k$)'], X[y_kmeans == 1]['Spending Score (1-100)'], label = 'Cluster 2')\n",
        "plt.scatter(X[y_kmeans == 2]['Annual Income (k$)'], X[y_kmeans == 2]['Spending Score (1-100)'], label = 'Cluster 3')\n",
        "plt.scatter(X[y_kmeans == 3]['Annual Income (k$)'], X[y_kmeans == 3]['Spending Score (1-100)'], label = 'Cluster 4')\n",
        "plt.scatter(X[y_kmeans == 4]['Annual Income (k$)'], X[y_kmeans == 4]['Spending Score (1-100)'], label = 'Cluster 5')\n",
        "plt.scatter(kmeans.cluster_centers_[:, 0], kmeans.cluster_centers_[:, 1], s = 300, label = 'Centroids')\n",
        "plt.title('Clusters of Customers')\n",
        "plt.xlabel('Annual Income (k$)')\n",
        "plt.ylabel('Spending Score (1-100)')\n",
        "plt.legend()\n",
        "plt.show()"
      ],
      "metadata": {
        "trusted": true,
        "execution": {
          "iopub.status.busy": "2025-02-19T12:05:10.621438Z",
          "iopub.status.idle": "2025-02-19T12:05:10.621827Z",
          "shell.execute_reply": "2025-02-19T12:05:10.621621Z"
        },
        "id": "3iQmYaVsF0uf"
      },
      "outputs": [],
      "execution_count": null
    },
    {
      "cell_type": "code",
      "source": [
        "#Hiyerarşik kümeleme\n",
        "#Agglomerative, Divisive"
      ],
      "metadata": {
        "trusted": true,
        "execution": {
          "iopub.status.busy": "2025-02-19T12:05:10.622604Z",
          "iopub.status.idle": "2025-02-19T12:05:10.622976Z",
          "shell.execute_reply": "2025-02-19T12:05:10.622797Z"
        },
        "id": "rnyHVKq3F0uf"
      },
      "outputs": [],
      "execution_count": null
    },
    {
      "cell_type": "code",
      "source": [
        "customer_data = pd.read_csv('/kaggle/input/mall-customers-csv/Mall_Customers.csv')\n",
        "customer_data.head()"
      ],
      "metadata": {
        "trusted": true,
        "execution": {
          "iopub.status.busy": "2025-02-19T12:05:15.376024Z",
          "iopub.execute_input": "2025-02-19T12:05:15.376392Z",
          "iopub.status.idle": "2025-02-19T12:05:15.390971Z",
          "shell.execute_reply.started": "2025-02-19T12:05:15.376364Z",
          "shell.execute_reply": "2025-02-19T12:05:15.389838Z"
        },
        "id": "0vqrOw-TF0uf",
        "outputId": "d9b6c07a-5f53-4e2e-9559-b564fbd4fb46"
      },
      "outputs": [
        {
          "execution_count": 30,
          "output_type": "execute_result",
          "data": {
            "text/plain": "   CustomerID   Genre  Age  Annual Income (k$)  Spending Score (1-100)\n0           1    Male   19                  15                      39\n1           2    Male   21                  15                      81\n2           3  Female   20                  16                       6\n3           4  Female   23                  16                      77\n4           5  Female   31                  17                      40",
            "text/html": "<div>\n<style scoped>\n    .dataframe tbody tr th:only-of-type {\n        vertical-align: middle;\n    }\n\n    .dataframe tbody tr th {\n        vertical-align: top;\n    }\n\n    .dataframe thead th {\n        text-align: right;\n    }\n</style>\n<table border=\"1\" class=\"dataframe\">\n  <thead>\n    <tr style=\"text-align: right;\">\n      <th></th>\n      <th>CustomerID</th>\n      <th>Genre</th>\n      <th>Age</th>\n      <th>Annual Income (k$)</th>\n      <th>Spending Score (1-100)</th>\n    </tr>\n  </thead>\n  <tbody>\n    <tr>\n      <th>0</th>\n      <td>1</td>\n      <td>Male</td>\n      <td>19</td>\n      <td>15</td>\n      <td>39</td>\n    </tr>\n    <tr>\n      <th>1</th>\n      <td>2</td>\n      <td>Male</td>\n      <td>21</td>\n      <td>15</td>\n      <td>81</td>\n    </tr>\n    <tr>\n      <th>2</th>\n      <td>3</td>\n      <td>Female</td>\n      <td>20</td>\n      <td>16</td>\n      <td>6</td>\n    </tr>\n    <tr>\n      <th>3</th>\n      <td>4</td>\n      <td>Female</td>\n      <td>23</td>\n      <td>16</td>\n      <td>77</td>\n    </tr>\n    <tr>\n      <th>4</th>\n      <td>5</td>\n      <td>Female</td>\n      <td>31</td>\n      <td>17</td>\n      <td>40</td>\n    </tr>\n  </tbody>\n</table>\n</div>"
          },
          "metadata": {}
        }
      ],
      "execution_count": null
    },
    {
      "cell_type": "code",
      "source": [
        "data = customer_data.iloc[:, 3:5].values"
      ],
      "metadata": {
        "trusted": true,
        "execution": {
          "iopub.status.busy": "2025-02-19T12:05:34.511265Z",
          "iopub.execute_input": "2025-02-19T12:05:34.511914Z",
          "iopub.status.idle": "2025-02-19T12:05:34.517119Z",
          "shell.execute_reply.started": "2025-02-19T12:05:34.511863Z",
          "shell.execute_reply": "2025-02-19T12:05:34.515996Z"
        },
        "id": "vNTgViByF0uf"
      },
      "outputs": [],
      "execution_count": null
    },
    {
      "cell_type": "code",
      "source": [
        "import scipy.cluster.hierarchy as shc\n",
        "\n",
        "plt.figure(figsize = (10, 7))\n",
        "plt.title('Customer Dendrograms')\n",
        "dend = shc.dendrogram(shc.linkage(data, method = 'ward'))\n",
        "plt.show()"
      ],
      "metadata": {
        "trusted": true,
        "execution": {
          "iopub.status.busy": "2025-02-19T12:09:20.938968Z",
          "iopub.execute_input": "2025-02-19T12:09:20.939414Z",
          "iopub.status.idle": "2025-02-19T12:09:22.880306Z",
          "shell.execute_reply.started": "2025-02-19T12:09:20.939384Z",
          "shell.execute_reply": "2025-02-19T12:09:22.878872Z"
        },
        "id": "wKsvxc2RF0uf",
        "outputId": "88bdff7a-a089-4d80-d13b-977fdbcdf6fa"
      },
      "outputs": [
        {
          "output_type": "display_data",
          "data": {
            "text/plain": "<Figure size 1000x700 with 1 Axes>",
            "image/png": "[encoded data removed]"
          },
          "metadata": {}
        }
      ],
      "execution_count": null
    },
    {
      "cell_type": "code",
      "source": [
        "#Küme sayısı = 5 (grafikten)\n",
        "\n",
        "from sklearn.cluster import AgglomerativeClustering\n",
        "\n",
        "cluster = AgglomerativeClustering(n_clusters = 5, affinity = 'euclidean', linkage = 'ward')\n",
        "\n",
        "cluster.fit_predict(data)"
      ],
      "metadata": {
        "trusted": true,
        "execution": {
          "iopub.status.busy": "2025-02-19T12:12:52.624042Z",
          "iopub.execute_input": "2025-02-19T12:12:52.624460Z",
          "iopub.status.idle": "2025-02-19T12:12:52.661208Z",
          "shell.execute_reply.started": "2025-02-19T12:12:52.624431Z",
          "shell.execute_reply": "2025-02-19T12:12:52.660128Z"
        },
        "id": "4yEkc_Y7F0uf",
        "outputId": "0aa3bd75-e417-442c-d114-4c15c028c6a4"
      },
      "outputs": [
        {
          "execution_count": 33,
          "output_type": "execute_result",
          "data": {
            "text/plain": "array([4, 3, 4, 3, 4, 3, 4, 3, 4, 3, 4, 3, 4, 3, 4, 3, 4, 3, 4, 3, 4, 3,\n       4, 3, 4, 3, 4, 3, 4, 3, 4, 3, 4, 3, 4, 3, 4, 3, 4, 3, 4, 3, 4, 1,\n       4, 1, 1, 1, 1, 1, 1, 1, 1, 1, 1, 1, 1, 1, 1, 1, 1, 1, 1, 1, 1, 1,\n       1, 1, 1, 1, 1, 1, 1, 1, 1, 1, 1, 1, 1, 1, 1, 1, 1, 1, 1, 1, 1, 1,\n       1, 1, 1, 1, 1, 1, 1, 1, 1, 1, 1, 1, 1, 1, 1, 1, 1, 1, 1, 1, 1, 1,\n       1, 1, 1, 1, 1, 1, 1, 1, 1, 1, 1, 1, 1, 2, 1, 2, 1, 2, 0, 2, 0, 2,\n       1, 2, 0, 2, 0, 2, 0, 2, 0, 2, 1, 2, 0, 2, 1, 2, 0, 2, 0, 2, 0, 2,\n       0, 2, 0, 2, 0, 2, 1, 2, 0, 2, 0, 2, 0, 2, 0, 2, 0, 2, 0, 2, 0, 2,\n       0, 2, 0, 2, 0, 2, 0, 2, 0, 2, 0, 2, 0, 2, 0, 2, 0, 2, 0, 2, 0, 2,\n       0, 2])"
          },
          "metadata": {}
        }
      ],
      "execution_count": null
    },
    {
      "cell_type": "code",
      "source": [
        "plt.figure(figsize = (5,5))\n",
        "plt.scatter(data[:, 0], data[:, 1], c = cluster.labels_, cmap = 'rainbow')\n",
        "plt.show()"
      ],
      "metadata": {
        "trusted": true,
        "execution": {
          "iopub.status.busy": "2025-02-19T12:14:38.449410Z",
          "iopub.execute_input": "2025-02-19T12:14:38.449836Z",
          "iopub.status.idle": "2025-02-19T12:14:38.622126Z",
          "shell.execute_reply.started": "2025-02-19T12:14:38.449806Z",
          "shell.execute_reply": "2025-02-19T12:14:38.620979Z"
        },
        "id": "0wCxGByiF0uf",
        "outputId": "0344ab9f-9e2b-41c8-d7a1-a5697bd746b9"
      },
      "outputs": [
        {
          "output_type": "display_data",
          "data": {
            "text/plain": "<Figure size 500x500 with 1 Axes>",
            "image/png": "[encoded data removed]"
          },
          "metadata": {}
        }
      ],
      "execution_count": null
    },
    {
      "cell_type": "code",
      "source": [],
      "metadata": {
        "trusted": true,
        "id": "iPfverPlF0uf"
      },
      "outputs": [],
      "execution_count": null
    }
  ]
}